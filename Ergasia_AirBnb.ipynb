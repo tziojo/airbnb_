{
 "cells": [
  {
   "cell_type": "code",
   "execution_count": 1,
   "metadata": {
    "scrolled": true
   },
   "outputs": [],
   "source": [
    "# Libraries\n",
    "\n",
    "import re\n",
    "import pandas as pd\n",
    "import matplotlib.pyplot as plt\n",
    "import seaborn as sns\n",
    "import math\n",
    "sns.set()\n",
    "import os\n",
    "import sys\n",
    "import matplotlib.pyplot as plt\n",
    "import geopandas as gpd\n",
    "from pyproj import Proj, transform\n",
    "import math\n",
    "import warnings\n",
    "warnings.filterwarnings(\"ignore\", category=DeprecationWarning)\n",
    "\n",
    "# files read\n",
    "\n",
    "athens = pd.read_csv('listings.csv')\n",
    "thess= pd.read_csv('listings_thes.csv')\n",
    "cret= pd.read_csv('listings_crete.csv')\n",
    "galazies_simaies= pd.read_excel('galazies_simaies_2010.xls')\n",
    "top_10=pd.read_csv('top10.txt')\n",
    "\n",
    "#preprocessing crete\n",
    "\n",
    "#χωρίζω σε 4 νομούς τα καταλυματα\n",
    "loc=pd.DataFrame(cret)\n",
    "xania=pd.DataFrame(columns=['id','host_id','neighbourhood_group','neighbourhood','latitude','longitude','room_type','price','minimum_nights','number_of_reviews','last_review','reviews_per_month','calculated_host_listings_count','availability_365','NOMOS','galazia_paralia'])\n",
    "reth=pd.DataFrame(columns=['id','host_id','host_name','neighbourhood_group','neighbourhood','latitude','longitude','room_type','price','minimum_nights','number_of_reviews','last_review','reviews_per_month','calculated_host_listings_count','availability_365','NOMOS','galazia_paralia'])\n",
    "irak=pd.DataFrame(columns=['id','host_id','host_name','neighbourhood_group','neighbourhood','latitude','longitude','room_type','price','minimum_nights','number_of_reviews','last_review','reviews_per_month','calculated_host_listings_count','availability_365','NOMOS','galazia_paralia'])\n",
    "las=pd.DataFrame(columns=['id','host_id','host_name','neighbourhood_group','neighbourhood','latitude','longitude','room_type','price','minimum_nights','number_of_reviews','last_review','reviews_per_month','calculated_host_listings_count','availability_365','NOMOS','galazia_paralia'])\n",
    "xania_1=['Αποκορώνου','Γαύδου','Καντάνου - Σέλινου','Κισσάμου','Πλατανιά','Σφακίων','Χανίων']\n",
    "reth_1=['Αγίου Βασιλείου','Αμάριου','Ανωγείων','Μυλοποτάμου','Ρεθύμνης']\n",
    "irak_1=['Αρχανών - Αστερουσίων','Βιάννου','Γόρτυνας','Ηρακλείου','Μινώα Πεδιάδας','Μαλεβιζίου','Φαιστού','Χερσονήσου']\n",
    "las_1=['Αγίου Νικολάου','Ιεράπετρας','Οροπεδίου Λασιθίου','Σητείας']\n",
    "\n",
    "k=range(len(loc.index))\n",
    "for i in k:\n",
    "    if ((loc.at[i ,'neighbourhood']) in xania_1 ) :\n",
    "        xania=xania.append({'NOMOS': 'ΧΑΝΙΩΝ', 'id':loc.at[i,'id'],'host_id':loc.at[i,'host_id'],'neighbourhood_group':loc.at[i,'neighbourhood_group'],'neighbourhood':loc.at[i,'neighbourhood'],'latitude':loc.at[i,'latitude'],'longitude':loc.at[i,'longitude'],'room_type':loc.at[i,'room_type'],'price':loc.at[i,'price'],'minimum_nights':loc.at[i,'minimum_nights'],'number_of_reviews':loc.at[i,'number_of_reviews'],'last_review':loc.at[i,'last_review'],'reviews_per_month':loc.at[i,'reviews_per_month'],'calculated_host_listings_count':loc.at[i,'calculated_host_listings_count'],'availability_365':loc.at[i,'availability_365']}, ignore_index=True)\n",
    "    elif ((loc.at[i ,'neighbourhood'])in las_1) :\n",
    "        las=las.append({'NOMOS': 'ΛΑΣΙΘΙΟΥ', 'id':loc.at[i,'id'],'host_id':loc.at[i,'host_id'],'neighbourhood_group':loc.at[i,'neighbourhood_group'],'neighbourhood':loc.at[i,'neighbourhood'],'latitude':loc.at[i,'latitude'],'longitude':loc.at[i,'longitude'],'room_type':loc.at[i,'room_type'],'price':loc.at[i,'price'],'minimum_nights':loc.at[i,'minimum_nights'],'number_of_reviews':loc.at[i,'number_of_reviews'],'last_review':loc.at[i,'last_review'],'reviews_per_month':loc.at[i,'reviews_per_month'],'calculated_host_listings_count':loc.at[i,'calculated_host_listings_count'],'availability_365':loc.at[i,'availability_365']}, ignore_index=True)    \n",
    "    elif ((loc.at[i ,'neighbourhood'])in irak_1) :\n",
    "        irak=irak.append({'NOMOS': 'ΗΡΑΚΛΕΙΟΥ', 'id':loc.at[i,'id'],'host_id':loc.at[i,'host_id'],'neighbourhood_group':loc.at[i,'neighbourhood_group'],'neighbourhood':loc.at[i,'neighbourhood'],'latitude':loc.at[i,'latitude'],'longitude':loc.at[i,'longitude'],'room_type':loc.at[i,'room_type'],'price':loc.at[i,'price'],'minimum_nights':loc.at[i,'minimum_nights'],'number_of_reviews':loc.at[i,'number_of_reviews'],'last_review':loc.at[i,'last_review'],'reviews_per_month':loc.at[i,'reviews_per_month'],'calculated_host_listings_count':loc.at[i,'calculated_host_listings_count'],'availability_365':loc.at[i,'availability_365']}, ignore_index=True)\n",
    "    elif ((loc.at[i ,'neighbourhood']) in reth_1) :\n",
    "        reth=reth.append({'NOMOS': 'ΡΕΘΥΜΝΗΣ', 'id':loc.at[i,'id'],'host_id':loc.at[i,'host_id'],'neighbourhood_group':loc.at[i,'neighbourhood_group'],'neighbourhood':loc.at[i,'neighbourhood'],'latitude':loc.at[i,'latitude'],'longitude':loc.at[i,'longitude'],'room_type':loc.at[i,'room_type'],'price':loc.at[i,'price'],'minimum_nights':loc.at[i,'minimum_nights'],'number_of_reviews':loc.at[i,'number_of_reviews'],'last_review':loc.at[i,'last_review'],'reviews_per_month':loc.at[i,'reviews_per_month'],'calculated_host_listings_count':loc.at[i,'calculated_host_listings_count'],'availability_365':loc.at[i,'availability_365']}, ignore_index=True)\n",
    "    \n",
    "#παραλιες με γαλαζια σημαια αναλογα με τον νομο\n",
    "xania_blue=pd.DataFrame(columns=['NOMOS','LATITUDE','LONGITUDE'])\n",
    "reth_blue=pd.DataFrame(columns=['NOMOS','LATITUDE','LONGITUDE'])\n",
    "irak_blue=pd.DataFrame(columns=['NOMOS','LATITUDE','LONGITUDE'])\n",
    "las_blue=pd.DataFrame(columns=['NOMOS','LATITUDE','LONGITUDE'])\n",
    "\n",
    "\n",
    "loc1=pd.DataFrame(galazies_simaies)\n",
    "z=range(len(loc1.index))\n",
    "for i in z:\n",
    "    if ((loc1.at[i ,'NOMOS'])=='ΧΑΝΙΩΝ') :\n",
    "        xania_blue=xania_blue.append({'NOMOS': 'ΧΑΝΙΩΝ', 'LATITUDE': loc1.at[i,'LATITUDE'] , 'LONGITUDE': loc1.at[i,'LONGITUDE']}, ignore_index=True)\n",
    "    elif ((loc1.at[i ,'NOMOS'])=='ΛΑΣΙΘΙΟΥ') :\n",
    "        las_blue=las_blue.append({'NOMOS': 'ΛΑΣΙΘΙΟΥ', 'LATITUDE': loc1.at[i,'LATITUDE'] , 'LONGITUDE': loc1.at[i,'LONGITUDE']}, ignore_index=True)    \n",
    "    elif ((loc1.at[i ,'NOMOS'])=='ΗΡΑΚΛΕΙΟΥ') :\n",
    "        irak_blue=irak_blue.append({'NOMOS': 'ΗΡΑΚΛΕΙΟΥ', 'LATITUDE': loc1.at[i,'LATITUDE'] , 'LONGITUDE': loc1.at[i,'LONGITUDE']}, ignore_index=True)\n",
    "    elif ((loc1.at[i ,'NOMOS'])=='ΡΕΘΥΜΝΗΣ') :\n",
    "        reth_blue=reth_blue.append({'NOMOS': 'ΡΕΘΥΜΝΗΣ', 'LATITUDE': loc1.at[i,'LATITUDE'] , 'LONGITUDE': loc1.at[i,'LONGITUDE']}, ignore_index=True)\n",
    "\n",
    "\n",
    "\n"
   ]
  },
  {
   "cell_type": "code",
   "execution_count": 2,
   "metadata": {},
   "outputs": [],
   "source": [
    "# σε κάθε dataframe-νομού θα προσθέσω μια στήλη gal-paralia όπου θα έχει την απόσταση του καταλύματος από την πλησιέστερη παραλία \n",
    "# θα χρησιμοποιηθεί Haversine formula για τον υπολογισμό απόστασης σε km γιατί έχουμε γεωγραφικές συντεταγμένες\n",
    "\n",
    "k=range(len(xania.index))\n",
    "n=range(len(xania_blue.index))\n",
    "gal=[]\n",
    "for i in k:\n",
    "    min=0;\n",
    "    for j in n:\n",
    "        lax1=(xania.at[i,'latitude'])*math.pi/180;\n",
    "        long1=(xania.at[i,'longitude'])*math.pi/180;\n",
    "        lax2=(xania_blue.at[j,'LATITUDE'])*math.pi/180;\n",
    "        long2=(xania_blue.at[j,'LONGITUDE'])*math.pi/180;\n",
    "        dla=lax1-lax2;\n",
    "        dlong=long1-long2;\n",
    "        a = math.pow(math.sin((dla)/2),2) + math.cos(lax1)*math.cos(lax2) * math.pow(math.sin(dlong/2),2);\n",
    "        c = 2*math.atan2(math.sqrt(a),math.sqrt(1-a));\n",
    "        x=dlong*math.cos((lax1+lax2)/2);\n",
    "        y=dla;\n",
    "        R=6371; # Earth radius\n",
    "        dist=R*c;\n",
    "        if (dist<min or min==0) : #Haversine distance\n",
    "            min=dist;\n",
    "    gal.append(min)\n",
    "xania['galazia_paralia']=gal\n",
    "#print(xania.head)"
   ]
  },
  {
   "cell_type": "code",
   "execution_count": 3,
   "metadata": {},
   "outputs": [],
   "source": [
    "#rethymno\n",
    "k=range(len(reth.index))\n",
    "n=range(len(reth_blue.index))\n",
    "gal=[]\n",
    "for i in k:\n",
    "    min=0;\n",
    "    for j in n:\n",
    "        lax1=(reth.at[i,'latitude'])*math.pi/180;\n",
    "        long1=(reth.at[i,'longitude'])*math.pi/180;\n",
    "        lax2=(reth_blue.at[j,'LATITUDE'])*math.pi/180;\n",
    "        long2=(reth_blue.at[j,'LONGITUDE'])*math.pi/180;\n",
    "        dla=lax1-lax2;\n",
    "        dlong=long1-long2;\n",
    "        a = math.pow(math.sin((dla)/2),2) + math.cos(lax1)*math.cos(lax2) * math.pow(math.sin(dlong/2),2);\n",
    "        c = 2*math.atan2(math.sqrt(a),math.sqrt(1-a));\n",
    "        x=dlong*math.cos((lax1+lax2)/2);\n",
    "        y=dla;\n",
    "        R=6371; # Earth radius\n",
    "        dist=R*c;\n",
    "        if (dist<min or min==0) : #Haversine distance\n",
    "            min=dist;\n",
    "    gal.append(min)\n",
    "reth['galazia_paralia']=gal"
   ]
  },
  {
   "cell_type": "code",
   "execution_count": 4,
   "metadata": {},
   "outputs": [],
   "source": [
    "#irakleio\n",
    "k=range(len(irak.index))\n",
    "n=range(len(irak_blue.index))\n",
    "gal=[]\n",
    "for i in k:\n",
    "    min=0;\n",
    "    for j in n:\n",
    "        lax1=(irak.at[i,'latitude'])*math.pi/180;\n",
    "        long1=(irak.at[i,'longitude'])*math.pi/180;\n",
    "        lax2=(irak_blue.at[j,'LATITUDE'])*math.pi/180;\n",
    "        long2=(irak_blue.at[j,'LONGITUDE'])*math.pi/180;\n",
    "        dla=lax1-lax2;\n",
    "        dlong=long1-long2;\n",
    "        a = math.pow(math.sin((dla)/2),2) + math.cos(lax1)*math.cos(lax2) * math.pow(math.sin(dlong/2),2);\n",
    "        c = 2*math.atan2(math.sqrt(a),math.sqrt(1-a));\n",
    "        x=dlong*math.cos((lax1+lax2)/2);\n",
    "        y=dla;\n",
    "        R=6371; # Earth radius\n",
    "        dist=R*c;\n",
    "        if (dist<min or min==0) : #Haversine distance\n",
    "            min=dist;\n",
    "    gal.append(min)\n",
    "irak['galazia_paralia']=gal"
   ]
  },
  {
   "cell_type": "code",
   "execution_count": 5,
   "metadata": {},
   "outputs": [],
   "source": [
    "#lasithi\n",
    "k=range(len(las.index))\n",
    "n=range(len(las_blue.index))\n",
    "gal=[]\n",
    "for i in k:\n",
    "    min=0;\n",
    "    for j in n:\n",
    "        lax1=(las.at[i,'latitude'])*math.pi/180;\n",
    "        long1=(las.at[i,'longitude'])*math.pi/180;\n",
    "        lax2=(las_blue.at[j,'LATITUDE'])*math.pi/180;\n",
    "        long2=(las_blue.at[j,'LONGITUDE'])*math.pi/180;\n",
    "        dla=lax1-lax2;\n",
    "        dlong=long1-long2;\n",
    "        a = math.pow(math.sin((dla)/2),2) + math.cos(lax1)*math.cos(lax2) * math.pow(math.sin(dlong/2),2);\n",
    "        c = 2*math.atan2(math.sqrt(a),math.sqrt(1-a));\n",
    "        x=dlong*math.cos((lax1+lax2)/2);\n",
    "        y=dla;\n",
    "        R=6371; # Earth radius\n",
    "        dist=R*c;\n",
    "        if (dist<min or min==0) : #Haversine distance\n",
    "            min=dist;\n",
    "    gal.append(min)\n",
    "las['galazia_paralia']=gal"
   ]
  },
  {
   "cell_type": "code",
   "execution_count": 6,
   "metadata": {},
   "outputs": [],
   "source": [
    "top10=pd.DataFrame(top_10)\n",
    "crete = pd.concat([xania,reth,irak,las],ignore_index=True)"
   ]
  },
  {
   "cell_type": "code",
   "execution_count": 7,
   "metadata": {},
   "outputs": [],
   "source": [
    "#βαζω τοπ 10 στο dataframe crete\n",
    "k=range(len(crete.index))\n",
    "n=range(len(top_10.index))\n",
    "top=[]\n",
    "for i in k:\n",
    "    min=0;\n",
    "    for j in n:\n",
    "        lax1=(crete.at[i,'latitude'])*math.pi/180;\n",
    "        long1=(crete.at[i,'longitude'])*math.pi/180;\n",
    "        lax2=(top_10.at[j,'x'])*math.pi/180;\n",
    "        long2=(top_10.at[j,'y'])*math.pi/180;\n",
    "        dla=lax1-lax2;\n",
    "        dlong=long1-long2;\n",
    "        a = math.pow(math.sin((dla)/2),2) + math.cos(lax1)*math.cos(lax2) * math.pow(math.sin(dlong/2),2);\n",
    "        c = 2*math.atan2(math.sqrt(a),math.sqrt(1-a));\n",
    "        x=dlong*math.cos((lax1+lax2)/2);\n",
    "        y=dla;\n",
    "        R=6371; # Earth radius\n",
    "        dist=R*c;\n",
    "        if (dist<min or min==0) : #Haversine distance\n",
    "            min=dist;\n",
    "    top.append(min)\n",
    "crete['top-10']=top"
   ]
  },
  {
   "cell_type": "code",
   "execution_count": 8,
   "metadata": {},
   "outputs": [],
   "source": [
    "#preprocessing για την Θεσσαλονίκη\n",
    "loc_thes = gpd.read_file('C:/Users/IOANNIS/Desktop/ergiasia/.sho/poi_thessalonikis.shp',encoding='cp1253')\n",
    "loc_2=pd.DataFrame(loc_thes)\n",
    "#print(len(thes_1.index))\n",
    "#thes_1.head(260)\n",
    "thes_1=pd.DataFrame(columns=['gid','namegrk','point_x','point_y','x','y'])\n",
    "mouseio =\"Μουσείο\";\n",
    "#βρίσκω τα μουσεία στην πόλη της Θεσσαλονίκης\n",
    "index=range(len(loc_2.index))\n",
    "for i in index:\n",
    "    if (mouseio in (loc_2.at[i,'namegrk']) and (loc_2.at[i,'point_x'] != 0) ):\n",
    "        inProj = Proj('epsg:2100')\n",
    "        outProj = Proj('epsg:4326')\n",
    "        x1,y1 = loc_2.at[i,'point_x'],loc_2.at[i,'point_y'];\n",
    "        x2,y2 = transform(inProj,outProj,x1,y1)\n",
    "        thes_1=thes_1.append({'gid':loc_2.at[i,'gid'] ,'namegrk':loc_2.at[i,'namegrk'],'point_x':loc_2.at[i,'point_x'],'point_y':loc_2.at[i,'point_y'] ,'x':x2 ,'y':y2},ignore_index= True)\n",
    "\n",
    "        \n",
    "from pyproj import Proj, transform"
   ]
  },
  {
   "cell_type": "code",
   "execution_count": 9,
   "metadata": {},
   "outputs": [],
   "source": [
    "#προσθέτω στο DataFrame την ελαχιστη απόσταση από τα μουσεία και το top 10\n",
    "top_10=pd.read_csv('top10.txt')\n",
    "\n",
    "thess= pd.read_csv('listings_thes.csv')\n",
    "thes=pd.DataFrame(thess)\n",
    "thess.head\n",
    "k=range(len(thess.index))\n",
    "n=range(len(thes_1.index))\n",
    "museums=[]\n",
    "for i in k:\n",
    "    min=0;\n",
    "    for j in n:\n",
    "        lax1=(thes.at[i,'latitude'])*math.pi/180;\n",
    "        long1=(thes.at[i,'longitude'])*math.pi/180;\n",
    "        lax2=(thes_1.at[j,'x'])*math.pi/180;\n",
    "        long2=(thes_1.at[j,'y'])*math.pi/180;\n",
    "        dla=lax1-lax2;\n",
    "        dlong=long1-long2;\n",
    "        a = math.pow(math.sin((dla)/2),2) + math.cos(lax1)*math.cos(lax2) * math.pow(math.sin(dlong/2),2);\n",
    "        c = 2*math.atan2(math.sqrt(a),math.sqrt(1-a));\n",
    "        x=dlong*math.cos((lax1+lax2)/2);\n",
    "        y=dla;\n",
    "        R=6371; # Earth radius\n",
    "        dist=R*c;\n",
    "        if (dist<min or min==0) : #Haversine distance\n",
    "            min=dist;\n",
    "    museums.append(min)\n",
    "\n",
    "top10=pd.DataFrame(top_10)    \n",
    "m=range(len(top10.index))\n",
    "top=[]\n",
    "for i in k:\n",
    "    min=0;\n",
    "    for j in m:\n",
    "        lax1=(thes.at[i,'latitude'])*math.pi/180;\n",
    "        long1=(thes.at[i,'longitude'])*math.pi/180;\n",
    "        lax2=(top10.at[j,'x'])*math.pi/180;\n",
    "        long2=(top10.at[j,'y'])*math.pi/180;\n",
    "        dla=lax1-lax2;\n",
    "        dlong=long1-long2;\n",
    "        a = math.pow(math.sin((dla)/2),2) + math.cos(lax1)*math.cos(lax2) * math.pow(math.sin(dlong/2),2);\n",
    "        c = 2*math.atan2(math.sqrt(a),math.sqrt(1-a));\n",
    "        x=dlong*math.cos((lax1+lax2)/2);\n",
    "        y=dla;\n",
    "        R=6371; # Earth radius\n",
    "        dist=R*c;\n",
    "        if (dist<min or min==0) : #Haversine distance\n",
    "            min=dist;\n",
    "    top.append(min)\n",
    "\n",
    "thes['Μουσεία']=museums\n",
    "thes['top-10']=top"
   ]
  },
  {
   "cell_type": "code",
   "execution_count": 10,
   "metadata": {},
   "outputs": [],
   "source": [
    "#preprocessing για την Αθήνα\n",
    "loc_athens = pd.read_csv('metro.txt')\n",
    "loc_2=pd.DataFrame(loc_athens)\n",
    "ath = pd.read_csv('listings.csv')\n",
    "athens=pd.DataFrame(ath)\n",
    "ath_1=pd.DataFrame(columns=['fid','name','lines','eidos','x','y'])\n",
    "index=range(len(loc_2.index))\n",
    "for i in index:\n",
    "        inProj = Proj('epsg:2100')\n",
    "        outProj = Proj('epsg:4326')\n",
    "        x1,y1 = loc_2.at[i,'x_g'],loc_2.at[i,'y_g'];\n",
    "        x2,y2 = transform(inProj,outProj,x1,y1)\n",
    "        ath_1=ath_1.append({'fid':loc_2.at[i,'fid'] ,'name':loc_2.at[i,'name'],'lines':loc_2.at[i,'lines'],'eidos':loc_2.at[i,'eidos'] ,'x':x2 ,'y':y2},ignore_index= True)"
   ]
  },
  {
   "cell_type": "code",
   "execution_count": 11,
   "metadata": {},
   "outputs": [],
   "source": [
    "#πρροσθέτω την ελάχιστη απόσταση από τα top10 και από στάση μετρό και τοποθετώ τα καταλύματα σε ποιο διαμέρισμα της Αθήνας ανήκουν\n",
    "k=range(len(athens.index))\n",
    "n=range(len(ath_1.index))\n",
    "\n",
    "metro=[]\n",
    "for i in k:\n",
    "    min=0;\n",
    "    for j in n:\n",
    "        lax1=(athens.at[i,'latitude'])*math.pi/180;\n",
    "        long1=(athens.at[i,'longitude'])*math.pi/180;\n",
    "        lax2=(ath_1.at[j,'x'])*math.pi/180;\n",
    "        long2=(ath_1.at[j,'y'])*math.pi/180;\n",
    "        dla=lax1-lax2;\n",
    "        dlong=long1-long2;\n",
    "        a = math.pow(math.sin((dla)/2),2) + math.cos(lax1)*math.cos(lax2) * math.pow(math.sin(dlong/2),2);\n",
    "        c = 2*math.atan2(math.sqrt(a),math.sqrt(1-a));\n",
    "        x=dlong*math.cos((lax1+lax2)/2);\n",
    "        y=dla;\n",
    "        R=6371; # Earth radius\n",
    "        dist=R*c;\n",
    "        if (dist<min or min==0) : #Haversine distance\n",
    "            min=dist;\n",
    "    metro.append(min)\n",
    "top_10=pd.read_csv('top10.txt')\n",
    "top10=pd.DataFrame(top_10)    \n",
    "m=range(len(top10.index))\n",
    "top=[]\n",
    "for i in k:\n",
    "    min=0;\n",
    "    for j in m:\n",
    "        lax1=(athens.at[i,'latitude'])*math.pi/180;\n",
    "        long1=(athens.at[i,'longitude'])*math.pi/180;\n",
    "        lax2=(top10.at[j,'x'])*math.pi/180;\n",
    "        long2=(top10.at[j,'y'])*math.pi/180;\n",
    "        dla=lax1-lax2;\n",
    "        dlong=long1-long2;\n",
    "        a = math.pow(math.sin((dla)/2),2) + math.cos(lax1)*math.cos(lax2) * math.pow(math.sin(dlong/2),2);\n",
    "        c = 2*math.atan2(math.sqrt(a),math.sqrt(1-a));\n",
    "        x=dlong*math.cos((lax1+lax2)/2);\n",
    "        y=dla;\n",
    "        R=6371; # Earth radius\n",
    "        dist=R*c;\n",
    "        if (dist<min or min==0) : #Haversine distance\n",
    "            min=dist;\n",
    "    top.append(min)\n",
    "\n",
    "athens['metro']=metro\n",
    "athens['top-10']=top"
   ]
  },
  {
   "cell_type": "code",
   "execution_count": 12,
   "metadata": {},
   "outputs": [],
   "source": [
    "diamer=pd.read_csv('diamerismata.txt')\n",
    "w=range(len(diamer.index))\n",
    "d=[]\n",
    "for i in k:\n",
    "    for j in w:\n",
    "        if (athens.at[i,'neighbourhood']==diamer.at[j,'Περιοχή']):\n",
    "            d.append(diamer.at[j,'Διαμέρισμα'])\n",
    "athens['Δημοτικό Διαμέρισμα']=d"
   ]
  },
  {
   "cell_type": "code",
   "execution_count": 13,
   "metadata": {},
   "outputs": [
    {
     "data": {
      "text/html": [
       "<div>\n",
       "<style scoped>\n",
       "    .dataframe tbody tr th:only-of-type {\n",
       "        vertical-align: middle;\n",
       "    }\n",
       "\n",
       "    .dataframe tbody tr th {\n",
       "        vertical-align: top;\n",
       "    }\n",
       "\n",
       "    .dataframe thead th {\n",
       "        text-align: right;\n",
       "    }\n",
       "</style>\n",
       "<table border=\"1\" class=\"dataframe\">\n",
       "  <thead>\n",
       "    <tr style=\"text-align: right;\">\n",
       "      <th></th>\n",
       "      <th>latitude</th>\n",
       "      <th>longitude</th>\n",
       "      <th>reviews_per_month</th>\n",
       "      <th>top-10</th>\n",
       "    </tr>\n",
       "  </thead>\n",
       "  <tbody>\n",
       "    <tr>\n",
       "      <th>count</th>\n",
       "      <td>29601.000000</td>\n",
       "      <td>29601.000000</td>\n",
       "      <td>21907.000000</td>\n",
       "      <td>29601.000000</td>\n",
       "    </tr>\n",
       "    <tr>\n",
       "      <th>mean</th>\n",
       "      <td>36.626944</td>\n",
       "      <td>24.182535</td>\n",
       "      <td>1.022158</td>\n",
       "      <td>7.573162</td>\n",
       "    </tr>\n",
       "    <tr>\n",
       "      <th>std</th>\n",
       "      <td>1.700171</td>\n",
       "      <td>0.752269</td>\n",
       "      <td>1.335910</td>\n",
       "      <td>10.412882</td>\n",
       "    </tr>\n",
       "    <tr>\n",
       "      <th>min</th>\n",
       "      <td>34.834420</td>\n",
       "      <td>22.894960</td>\n",
       "      <td>0.010000</td>\n",
       "      <td>0.003429</td>\n",
       "    </tr>\n",
       "    <tr>\n",
       "      <th>25%</th>\n",
       "      <td>35.339410</td>\n",
       "      <td>23.727700</td>\n",
       "      <td>0.180000</td>\n",
       "      <td>0.631737</td>\n",
       "    </tr>\n",
       "    <tr>\n",
       "      <th>50%</th>\n",
       "      <td>35.512740</td>\n",
       "      <td>23.961870</td>\n",
       "      <td>0.520000</td>\n",
       "      <td>2.247747</td>\n",
       "    </tr>\n",
       "    <tr>\n",
       "      <th>75%</th>\n",
       "      <td>37.977910</td>\n",
       "      <td>24.590430</td>\n",
       "      <td>1.270000</td>\n",
       "      <td>11.516122</td>\n",
       "    </tr>\n",
       "    <tr>\n",
       "      <th>max</th>\n",
       "      <td>40.688390</td>\n",
       "      <td>26.277830</td>\n",
       "      <td>14.210000</td>\n",
       "      <td>54.727854</td>\n",
       "    </tr>\n",
       "  </tbody>\n",
       "</table>\n",
       "</div>"
      ],
      "text/plain": [
       "           latitude     longitude  reviews_per_month        top-10\n",
       "count  29601.000000  29601.000000       21907.000000  29601.000000\n",
       "mean      36.626944     24.182535           1.022158      7.573162\n",
       "std        1.700171      0.752269           1.335910     10.412882\n",
       "min       34.834420     22.894960           0.010000      0.003429\n",
       "25%       35.339410     23.727700           0.180000      0.631737\n",
       "50%       35.512740     23.961870           0.520000      2.247747\n",
       "75%       37.977910     24.590430           1.270000     11.516122\n",
       "max       40.688390     26.277830          14.210000     54.727854"
      ]
     },
     "execution_count": 13,
     "metadata": {},
     "output_type": "execute_result"
    }
   ],
   "source": [
    "#preprocessing για την Ελλάδα\n",
    "athens['NOMOS'] = ['ΑΤΤΙΚΗΣ'] * len(ath.index)\n",
    "thes['NOMOS'] = ['ΘΕΣΣΑΛΟΝΙΚΗΣ'] * len(thes.index)\n",
    "greece = pd.concat([athens,thes,crete])\n",
    "\n",
    "greece.drop('name', axis='columns', inplace=True)\n",
    "greece.drop('neighbourhood_group', axis='columns', inplace=True)\n",
    "greece.drop('host_name', axis='columns', inplace=True)\n",
    "greece.drop('Μουσεία', axis='columns', inplace=True)\n",
    "greece.drop('galazia_paralia', axis='columns', inplace=True)\n",
    "greece.drop('metro', axis='columns', inplace=True)\n",
    "greece.drop('Δημοτικό Διαμέρισμα', axis='columns', inplace=True)\n",
    "\n",
    "athens.drop('name', axis='columns', inplace=True)\n",
    "athens.drop('neighbourhood_group', axis='columns', inplace=True)\n",
    "athens.drop('host_name', axis='columns', inplace=True)\n",
    "\n",
    "xania.drop('neighbourhood_group', axis='columns', inplace=True)\n",
    "\n",
    "irak.drop('neighbourhood_group', axis='columns', inplace=True)\n",
    "irak.drop('host_name', axis='columns', inplace=True)\n",
    "\n",
    "las.drop('neighbourhood_group', axis='columns', inplace=True)\n",
    "las.drop('host_name', axis='columns', inplace=True)\n",
    "\n",
    "reth.drop('neighbourhood_group', axis='columns', inplace=True)\n",
    "reth.drop('host_name', axis='columns', inplace=True)\n",
    "\n",
    "crete.drop('neighbourhood_group', axis='columns', inplace=True)\n",
    "crete.drop('host_name', axis='columns', inplace=True)\n",
    "#greece.head(20000)\n",
    "greece.describe()\n"
   ]
  },
  {
   "cell_type": "code",
   "execution_count": 14,
   "metadata": {},
   "outputs": [
    {
     "data": {
      "text/html": [
       "<div>\n",
       "<style scoped>\n",
       "    .dataframe tbody tr th:only-of-type {\n",
       "        vertical-align: middle;\n",
       "    }\n",
       "\n",
       "    .dataframe tbody tr th {\n",
       "        vertical-align: top;\n",
       "    }\n",
       "\n",
       "    .dataframe thead th {\n",
       "        text-align: right;\n",
       "    }\n",
       "</style>\n",
       "<table border=\"1\" class=\"dataframe\">\n",
       "  <thead>\n",
       "    <tr style=\"text-align: right;\">\n",
       "      <th></th>\n",
       "      <th>latitude</th>\n",
       "      <th>longitude</th>\n",
       "      <th>price</th>\n",
       "      <th>reviews_per_month</th>\n",
       "      <th>calculated_host_listings_count</th>\n",
       "      <th>availability_365</th>\n",
       "      <th>top-10</th>\n",
       "      <th>logprice</th>\n",
       "    </tr>\n",
       "  </thead>\n",
       "  <tbody>\n",
       "    <tr>\n",
       "      <th>count</th>\n",
       "      <td>29601.000000</td>\n",
       "      <td>29601.000000</td>\n",
       "      <td>29601.000000</td>\n",
       "      <td>21907.000000</td>\n",
       "      <td>29601.000000</td>\n",
       "      <td>29601.000000</td>\n",
       "      <td>29601.000000</td>\n",
       "      <td>29601.000000</td>\n",
       "    </tr>\n",
       "    <tr>\n",
       "      <th>mean</th>\n",
       "      <td>36.626944</td>\n",
       "      <td>24.182535</td>\n",
       "      <td>123.787102</td>\n",
       "      <td>1.022158</td>\n",
       "      <td>14.261849</td>\n",
       "      <td>250.888112</td>\n",
       "      <td>7.573162</td>\n",
       "      <td>4.194017</td>\n",
       "    </tr>\n",
       "    <tr>\n",
       "      <th>std</th>\n",
       "      <td>1.700171</td>\n",
       "      <td>0.752269</td>\n",
       "      <td>471.061723</td>\n",
       "      <td>1.335910</td>\n",
       "      <td>32.484490</td>\n",
       "      <td>118.680398</td>\n",
       "      <td>10.412882</td>\n",
       "      <td>0.837741</td>\n",
       "    </tr>\n",
       "    <tr>\n",
       "      <th>min</th>\n",
       "      <td>34.834420</td>\n",
       "      <td>22.894960</td>\n",
       "      <td>8.000000</td>\n",
       "      <td>0.010000</td>\n",
       "      <td>1.000000</td>\n",
       "      <td>0.000000</td>\n",
       "      <td>0.003429</td>\n",
       "      <td>2.079442</td>\n",
       "    </tr>\n",
       "    <tr>\n",
       "      <th>25%</th>\n",
       "      <td>35.339410</td>\n",
       "      <td>23.727700</td>\n",
       "      <td>38.000000</td>\n",
       "      <td>0.180000</td>\n",
       "      <td>1.000000</td>\n",
       "      <td>174.000000</td>\n",
       "      <td>0.631737</td>\n",
       "      <td>3.637586</td>\n",
       "    </tr>\n",
       "    <tr>\n",
       "      <th>50%</th>\n",
       "      <td>35.512740</td>\n",
       "      <td>23.961870</td>\n",
       "      <td>57.000000</td>\n",
       "      <td>0.520000</td>\n",
       "      <td>3.000000</td>\n",
       "      <td>295.000000</td>\n",
       "      <td>2.247747</td>\n",
       "      <td>4.043051</td>\n",
       "    </tr>\n",
       "    <tr>\n",
       "      <th>75%</th>\n",
       "      <td>37.977910</td>\n",
       "      <td>24.590430</td>\n",
       "      <td>100.000000</td>\n",
       "      <td>1.270000</td>\n",
       "      <td>8.000000</td>\n",
       "      <td>362.000000</td>\n",
       "      <td>11.516122</td>\n",
       "      <td>4.605170</td>\n",
       "    </tr>\n",
       "    <tr>\n",
       "      <th>max</th>\n",
       "      <td>40.688390</td>\n",
       "      <td>26.277830</td>\n",
       "      <td>20653.000000</td>\n",
       "      <td>14.210000</td>\n",
       "      <td>190.000000</td>\n",
       "      <td>365.000000</td>\n",
       "      <td>54.727854</td>\n",
       "      <td>9.935616</td>\n",
       "    </tr>\n",
       "  </tbody>\n",
       "</table>\n",
       "</div>"
      ],
      "text/plain": [
       "           latitude     longitude         price  reviews_per_month  \\\n",
       "count  29601.000000  29601.000000  29601.000000       21907.000000   \n",
       "mean      36.626944     24.182535    123.787102           1.022158   \n",
       "std        1.700171      0.752269    471.061723           1.335910   \n",
       "min       34.834420     22.894960      8.000000           0.010000   \n",
       "25%       35.339410     23.727700     38.000000           0.180000   \n",
       "50%       35.512740     23.961870     57.000000           0.520000   \n",
       "75%       37.977910     24.590430    100.000000           1.270000   \n",
       "max       40.688390     26.277830  20653.000000          14.210000   \n",
       "\n",
       "       calculated_host_listings_count  availability_365        top-10  \\\n",
       "count                    29601.000000      29601.000000  29601.000000   \n",
       "mean                        14.261849        250.888112      7.573162   \n",
       "std                         32.484490        118.680398     10.412882   \n",
       "min                          1.000000          0.000000      0.003429   \n",
       "25%                          1.000000        174.000000      0.631737   \n",
       "50%                          3.000000        295.000000      2.247747   \n",
       "75%                          8.000000        362.000000     11.516122   \n",
       "max                        190.000000        365.000000     54.727854   \n",
       "\n",
       "           logprice  \n",
       "count  29601.000000  \n",
       "mean       4.194017  \n",
       "std        0.837741  \n",
       "min        2.079442  \n",
       "25%        3.637586  \n",
       "50%        4.043051  \n",
       "75%        4.605170  \n",
       "max        9.935616  "
      ]
     },
     "execution_count": 14,
     "metadata": {},
     "output_type": "execute_result"
    }
   ],
   "source": [
    "logprice = [math.log(x) for x in greece['price']]\n",
    "#ax = sns.violinplot(x=\"room_type\", y=\"logprice\" ,data=ath)\n",
    "greece['logprice']=logprice\n",
    "greece['price'] = greece['price'].astype('float')\n",
    "greece['availability_365'] = greece['availability_365'].astype('int')\n",
    "greece['calculated_host_listings_count'] = greece['calculated_host_listings_count'].astype('int')\n",
    "greece.describe()"
   ]
  },
  {
   "cell_type": "code",
   "execution_count": 15,
   "metadata": {},
   "outputs": [
    {
     "data": {
      "text/plain": [
       "<AxesSubplot:xlabel='room_type', ylabel='logprice'>"
      ]
     },
     "execution_count": 15,
     "metadata": {},
     "output_type": "execute_result"
    },
    {
     "data": {
      "image/png": "[encoded data removed]",
      "text/plain": [
       "<Figure size 864x576 with 1 Axes>"
      ]
     },
     "metadata": {},
     "output_type": "display_data"
    }
   ],
   "source": [
    "plt.figure(figsize=(12, 8))\n",
    "sns.boxplot(x=\"room_type\", y=\"logprice\", data=greece)"
   ]
  },
  {
   "cell_type": "code",
   "execution_count": 16,
   "metadata": {},
   "outputs": [
    {
     "data": {
      "text/plain": [
       "<AxesSubplot:xlabel='NOMOS', ylabel='logprice'>"
      ]
     },
     "execution_count": 16,
     "metadata": {},
     "output_type": "execute_result"
    },
    {
     "data": {
      "image/png": "[encoded data removed]",
      "text/plain": [
       "<Figure size 864x576 with 1 Axes>"
      ]
     },
     "metadata": {},
     "output_type": "display_data"
    }
   ],
   "source": [
    "plt.figure(figsize=(12, 8))\n",
    "sns.boxplot(x=\"NOMOS\", y=\"logprice\", data=greece)"
   ]
  },
  {
   "cell_type": "code",
   "execution_count": 17,
   "metadata": {},
   "outputs": [
    {
     "data": {
      "text/html": [
       "<div>\n",
       "<style scoped>\n",
       "    .dataframe tbody tr th:only-of-type {\n",
       "        vertical-align: middle;\n",
       "    }\n",
       "\n",
       "    .dataframe tbody tr th {\n",
       "        vertical-align: top;\n",
       "    }\n",
       "\n",
       "    .dataframe thead th {\n",
       "        text-align: right;\n",
       "    }\n",
       "</style>\n",
       "<table border=\"1\" class=\"dataframe\">\n",
       "  <thead>\n",
       "    <tr style=\"text-align: right;\">\n",
       "      <th></th>\n",
       "      <th>price</th>\n",
       "    </tr>\n",
       "    <tr>\n",
       "      <th>room_type</th>\n",
       "      <th></th>\n",
       "    </tr>\n",
       "  </thead>\n",
       "  <tbody>\n",
       "    <tr>\n",
       "      <th>Entire home/apt</th>\n",
       "      <td>59.0</td>\n",
       "    </tr>\n",
       "    <tr>\n",
       "      <th>Hotel room</th>\n",
       "      <td>72.0</td>\n",
       "    </tr>\n",
       "    <tr>\n",
       "      <th>Private room</th>\n",
       "      <td>45.0</td>\n",
       "    </tr>\n",
       "    <tr>\n",
       "      <th>Shared room</th>\n",
       "      <td>19.0</td>\n",
       "    </tr>\n",
       "  </tbody>\n",
       "</table>\n",
       "</div>"
      ],
      "text/plain": [
       "                 price\n",
       "room_type             \n",
       "Entire home/apt   59.0\n",
       "Hotel room        72.0\n",
       "Private room      45.0\n",
       "Shared room       19.0"
      ]
     },
     "execution_count": 17,
     "metadata": {},
     "output_type": "execute_result"
    }
   ],
   "source": [
    "greece[['room_type','price']].groupby('room_type').median()"
   ]
  },
  {
   "cell_type": "code",
   "execution_count": 18,
   "metadata": {},
   "outputs": [
    {
     "data": {
      "text/html": [
       "<div>\n",
       "<style scoped>\n",
       "    .dataframe tbody tr th:only-of-type {\n",
       "        vertical-align: middle;\n",
       "    }\n",
       "\n",
       "    .dataframe tbody tr th {\n",
       "        vertical-align: top;\n",
       "    }\n",
       "\n",
       "    .dataframe thead th {\n",
       "        text-align: right;\n",
       "    }\n",
       "</style>\n",
       "<table border=\"1\" class=\"dataframe\">\n",
       "  <thead>\n",
       "    <tr style=\"text-align: right;\">\n",
       "      <th></th>\n",
       "      <th>price</th>\n",
       "    </tr>\n",
       "    <tr>\n",
       "      <th>room_type</th>\n",
       "      <th></th>\n",
       "    </tr>\n",
       "  </thead>\n",
       "  <tbody>\n",
       "    <tr>\n",
       "      <th>Entire home/apt</th>\n",
       "      <td>114.012201</td>\n",
       "    </tr>\n",
       "    <tr>\n",
       "      <th>Hotel room</th>\n",
       "      <td>405.716396</td>\n",
       "    </tr>\n",
       "    <tr>\n",
       "      <th>Private room</th>\n",
       "      <td>149.360253</td>\n",
       "    </tr>\n",
       "    <tr>\n",
       "      <th>Shared room</th>\n",
       "      <td>79.758242</td>\n",
       "    </tr>\n",
       "  </tbody>\n",
       "</table>\n",
       "</div>"
      ],
      "text/plain": [
       "                      price\n",
       "room_type                  \n",
       "Entire home/apt  114.012201\n",
       "Hotel room       405.716396\n",
       "Private room     149.360253\n",
       "Shared room       79.758242"
      ]
     },
     "execution_count": 18,
     "metadata": {},
     "output_type": "execute_result"
    }
   ],
   "source": [
    "greece[['room_type','price']].groupby('room_type').mean()"
   ]
  },
  {
   "cell_type": "code",
   "execution_count": 19,
   "metadata": {},
   "outputs": [
    {
     "data": {
      "image/png": "[encoded data removed]",
      "text/plain": [
       "<Figure size 720x720 with 1 Axes>"
      ]
     },
     "metadata": {},
     "output_type": "display_data"
    }
   ],
   "source": [
    "greece['room_type'].value_counts().plot(kind='pie',figsize=(10, 10), autopct='%1.1f%%')\n",
    "plt.show()"
   ]
  },
  {
   "cell_type": "code",
   "execution_count": 20,
   "metadata": {},
   "outputs": [
    {
     "name": "stderr",
     "output_type": "stream",
     "text": [
      "C:\\Users\\IOANNIS\\anaconda3\\envs\\geo\\lib\\site-packages\\seaborn\\distributions.py:2551: FutureWarning: `distplot` is a deprecated function and will be removed in a future version. Please adapt your code to use either `displot` (a figure-level function with similar flexibility) or `histplot` (an axes-level function for histograms).\n",
      "  warnings.warn(msg, FutureWarning)\n"
     ]
    },
    {
     "data": {
      "text/plain": [
       "<AxesSubplot:xlabel='price', ylabel='Density'>"
      ]
     },
     "execution_count": 20,
     "metadata": {},
     "output_type": "execute_result"
    },
    {
     "data": {
      "image/png": "[encoded data removed]",
      "text/plain": [
       "<Figure size 432x288 with 1 Axes>"
      ]
     },
     "metadata": {},
     "output_type": "display_data"
    }
   ],
   "source": [
    "sns.distplot(greece['price'])"
   ]
  },
  {
   "cell_type": "code",
   "execution_count": 21,
   "metadata": {},
   "outputs": [
    {
     "name": "stderr",
     "output_type": "stream",
     "text": [
      "C:\\Users\\IOANNIS\\anaconda3\\envs\\geo\\lib\\site-packages\\seaborn\\distributions.py:2551: FutureWarning: `distplot` is a deprecated function and will be removed in a future version. Please adapt your code to use either `displot` (a figure-level function with similar flexibility) or `histplot` (an axes-level function for histograms).\n",
      "  warnings.warn(msg, FutureWarning)\n"
     ]
    },
    {
     "data": {
      "text/plain": [
       "<AxesSubplot:xlabel='price', ylabel='Density'>"
      ]
     },
     "execution_count": 21,
     "metadata": {},
     "output_type": "execute_result"
    },
    {
     "data": {
      "image/png": "[encoded data removed]",
      "text/plain": [
       "<Figure size 432x288 with 1 Axes>"
      ]
     },
     "metadata": {},
     "output_type": "display_data"
    }
   ],
   "source": [
    "q = greece['price'].quantile(0.98)\n",
    "data_1 = greece[greece.price < q].copy()\n",
    "\n",
    "\n",
    "sns.distplot(data_1['price'])"
   ]
  },
  {
   "cell_type": "code",
   "execution_count": 22,
   "metadata": {},
   "outputs": [
    {
     "name": "stderr",
     "output_type": "stream",
     "text": [
      "C:\\Users\\IOANNIS\\anaconda3\\envs\\geo\\lib\\site-packages\\seaborn\\distributions.py:2551: FutureWarning: `distplot` is a deprecated function and will be removed in a future version. Please adapt your code to use either `displot` (a figure-level function with similar flexibility) or `histplot` (an axes-level function for histograms).\n",
      "  warnings.warn(msg, FutureWarning)\n"
     ]
    },
    {
     "data": {
      "text/plain": [
       "<AxesSubplot:xlabel='logprice', ylabel='Density'>"
      ]
     },
     "execution_count": 22,
     "metadata": {},
     "output_type": "execute_result"
    },
    {
     "data": {
      "image/png": "[encoded data removed]",
      "text/plain": [
       "<Figure size 432x288 with 1 Axes>"
      ]
     },
     "metadata": {},
     "output_type": "display_data"
    }
   ],
   "source": [
    "logprice = [math.log(x) for x in data_1['price']]\n",
    "data_1['logprice']=logprice\n",
    "sns.distplot(data_1['logprice'])"
   ]
  },
  {
   "cell_type": "code",
   "execution_count": 23,
   "metadata": {},
   "outputs": [
    {
     "name": "stdout",
     "output_type": "stream",
     "text": [
      "75.0 90.0 66.0 60.0 71.0\n",
      "155.46396280031 164.77645727221278 143.58294062205468 178.47109356860923 161.49562270545044\n"
     ]
    },
    {
     "data": {
      "text/html": [
       "<div>\n",
       "<style scoped>\n",
       "    .dataframe tbody tr th:only-of-type {\n",
       "        vertical-align: middle;\n",
       "    }\n",
       "\n",
       "    .dataframe tbody tr th {\n",
       "        vertical-align: top;\n",
       "    }\n",
       "\n",
       "    .dataframe thead th {\n",
       "        text-align: right;\n",
       "    }\n",
       "</style>\n",
       "<table border=\"1\" class=\"dataframe\">\n",
       "  <thead>\n",
       "    <tr style=\"text-align: right;\">\n",
       "      <th></th>\n",
       "      <th>latitude</th>\n",
       "      <th>longitude</th>\n",
       "      <th>price</th>\n",
       "      <th>reviews_per_month</th>\n",
       "      <th>galazia_paralia</th>\n",
       "    </tr>\n",
       "  </thead>\n",
       "  <tbody>\n",
       "    <tr>\n",
       "      <th>count</th>\n",
       "      <td>7742.000000</td>\n",
       "      <td>7742.000000</td>\n",
       "      <td>7742.000000</td>\n",
       "      <td>5587.000000</td>\n",
       "      <td>7742.000000</td>\n",
       "    </tr>\n",
       "    <tr>\n",
       "      <th>mean</th>\n",
       "      <td>35.474009</td>\n",
       "      <td>23.972111</td>\n",
       "      <td>155.463963</td>\n",
       "      <td>0.594612</td>\n",
       "      <td>4.284157</td>\n",
       "    </tr>\n",
       "    <tr>\n",
       "      <th>std</th>\n",
       "      <td>0.078507</td>\n",
       "      <td>0.189256</td>\n",
       "      <td>376.410001</td>\n",
       "      <td>0.686970</td>\n",
       "      <td>5.285490</td>\n",
       "    </tr>\n",
       "    <tr>\n",
       "      <th>min</th>\n",
       "      <td>34.834420</td>\n",
       "      <td>23.529640</td>\n",
       "      <td>9.000000</td>\n",
       "      <td>0.010000</td>\n",
       "      <td>0.006774</td>\n",
       "    </tr>\n",
       "    <tr>\n",
       "      <th>25%</th>\n",
       "      <td>35.451733</td>\n",
       "      <td>23.857280</td>\n",
       "      <td>50.000000</td>\n",
       "      <td>0.140000</td>\n",
       "      <td>0.990585</td>\n",
       "    </tr>\n",
       "    <tr>\n",
       "      <th>50%</th>\n",
       "      <td>35.507860</td>\n",
       "      <td>24.013355</td>\n",
       "      <td>75.000000</td>\n",
       "      <td>0.370000</td>\n",
       "      <td>2.241727</td>\n",
       "    </tr>\n",
       "    <tr>\n",
       "      <th>75%</th>\n",
       "      <td>35.516190</td>\n",
       "      <td>24.088195</td>\n",
       "      <td>146.000000</td>\n",
       "      <td>0.810000</td>\n",
       "      <td>4.741840</td>\n",
       "    </tr>\n",
       "    <tr>\n",
       "      <th>max</th>\n",
       "      <td>35.593770</td>\n",
       "      <td>24.320120</td>\n",
       "      <td>8000.000000</td>\n",
       "      <td>8.140000</td>\n",
       "      <td>57.977670</td>\n",
       "    </tr>\n",
       "  </tbody>\n",
       "</table>\n",
       "</div>"
      ],
      "text/plain": [
       "          latitude    longitude        price  reviews_per_month  \\\n",
       "count  7742.000000  7742.000000  7742.000000        5587.000000   \n",
       "mean     35.474009    23.972111   155.463963           0.594612   \n",
       "std       0.078507     0.189256   376.410001           0.686970   \n",
       "min      34.834420    23.529640     9.000000           0.010000   \n",
       "25%      35.451733    23.857280    50.000000           0.140000   \n",
       "50%      35.507860    24.013355    75.000000           0.370000   \n",
       "75%      35.516190    24.088195   146.000000           0.810000   \n",
       "max      35.593770    24.320120  8000.000000           8.140000   \n",
       "\n",
       "       galazia_paralia  \n",
       "count      7742.000000  \n",
       "mean          4.284157  \n",
       "std           5.285490  \n",
       "min           0.006774  \n",
       "25%           0.990585  \n",
       "50%           2.241727  \n",
       "75%           4.741840  \n",
       "max          57.977670  "
      ]
     },
     "execution_count": 23,
     "metadata": {},
     "output_type": "execute_result"
    }
   ],
   "source": [
    "#βρίσκω τις ενδιάμεσες τιμές των καταλυμάτων ανά νομό\n",
    "print(xania['price'].median(),reth['price'].median(),las['price'].median(),irak['price'].median(),crete['price'].median())\n",
    "print(xania['price'].mean(),reth['price'].mean(),las['price'].mean(),irak['price'].mean(),crete['price'].mean())\n",
    "xania['price'] = xania['price'].astype('float')\n",
    "xania.describe()"
   ]
  },
  {
   "cell_type": "code",
   "execution_count": 24,
   "metadata": {},
   "outputs": [
    {
     "data": {
      "text/html": [
       "<div>\n",
       "<style scoped>\n",
       "    .dataframe tbody tr th:only-of-type {\n",
       "        vertical-align: middle;\n",
       "    }\n",
       "\n",
       "    .dataframe tbody tr th {\n",
       "        vertical-align: top;\n",
       "    }\n",
       "\n",
       "    .dataframe thead th {\n",
       "        text-align: right;\n",
       "    }\n",
       "</style>\n",
       "<table border=\"1\" class=\"dataframe\">\n",
       "  <thead>\n",
       "    <tr style=\"text-align: right;\">\n",
       "      <th></th>\n",
       "      <th>latitude</th>\n",
       "      <th>longitude</th>\n",
       "      <th>price</th>\n",
       "      <th>reviews_per_month</th>\n",
       "      <th>galazia_paralia</th>\n",
       "    </tr>\n",
       "  </thead>\n",
       "  <tbody>\n",
       "    <tr>\n",
       "      <th>count</th>\n",
       "      <td>3534.000000</td>\n",
       "      <td>3534.000000</td>\n",
       "      <td>3534.000000</td>\n",
       "      <td>2458.000000</td>\n",
       "      <td>3534.000000</td>\n",
       "    </tr>\n",
       "    <tr>\n",
       "      <th>mean</th>\n",
       "      <td>35.321511</td>\n",
       "      <td>24.535371</td>\n",
       "      <td>164.776457</td>\n",
       "      <td>0.483092</td>\n",
       "      <td>4.267269</td>\n",
       "    </tr>\n",
       "    <tr>\n",
       "      <th>std</th>\n",
       "      <td>0.083819</td>\n",
       "      <td>0.116030</td>\n",
       "      <td>479.246814</td>\n",
       "      <td>0.594086</td>\n",
       "      <td>3.940047</td>\n",
       "    </tr>\n",
       "    <tr>\n",
       "      <th>min</th>\n",
       "      <td>35.095200</td>\n",
       "      <td>24.284810</td>\n",
       "      <td>11.000000</td>\n",
       "      <td>0.010000</td>\n",
       "      <td>0.043027</td>\n",
       "    </tr>\n",
       "    <tr>\n",
       "      <th>25%</th>\n",
       "      <td>35.302698</td>\n",
       "      <td>24.461595</td>\n",
       "      <td>55.000000</td>\n",
       "      <td>0.120000</td>\n",
       "      <td>1.188263</td>\n",
       "    </tr>\n",
       "    <tr>\n",
       "      <th>50%</th>\n",
       "      <td>35.359710</td>\n",
       "      <td>24.506885</td>\n",
       "      <td>90.000000</td>\n",
       "      <td>0.300000</td>\n",
       "      <td>2.852100</td>\n",
       "    </tr>\n",
       "    <tr>\n",
       "      <th>75%</th>\n",
       "      <td>35.369130</td>\n",
       "      <td>24.599535</td>\n",
       "      <td>155.000000</td>\n",
       "      <td>0.620000</td>\n",
       "      <td>6.553033</td>\n",
       "    </tr>\n",
       "    <tr>\n",
       "      <th>max</th>\n",
       "      <td>35.424620</td>\n",
       "      <td>24.893540</td>\n",
       "      <td>8000.000000</td>\n",
       "      <td>8.920000</td>\n",
       "      <td>18.640707</td>\n",
       "    </tr>\n",
       "  </tbody>\n",
       "</table>\n",
       "</div>"
      ],
      "text/plain": [
       "          latitude    longitude        price  reviews_per_month  \\\n",
       "count  3534.000000  3534.000000  3534.000000        2458.000000   \n",
       "mean     35.321511    24.535371   164.776457           0.483092   \n",
       "std       0.083819     0.116030   479.246814           0.594086   \n",
       "min      35.095200    24.284810    11.000000           0.010000   \n",
       "25%      35.302698    24.461595    55.000000           0.120000   \n",
       "50%      35.359710    24.506885    90.000000           0.300000   \n",
       "75%      35.369130    24.599535   155.000000           0.620000   \n",
       "max      35.424620    24.893540  8000.000000           8.920000   \n",
       "\n",
       "       galazia_paralia  \n",
       "count      3534.000000  \n",
       "mean          4.267269  \n",
       "std           3.940047  \n",
       "min           0.043027  \n",
       "25%           1.188263  \n",
       "50%           2.852100  \n",
       "75%           6.553033  \n",
       "max          18.640707  "
      ]
     },
     "execution_count": 24,
     "metadata": {},
     "output_type": "execute_result"
    }
   ],
   "source": [
    "reth['price'] = reth['price'].astype('float')\n",
    "reth.describe()"
   ]
  },
  {
   "cell_type": "code",
   "execution_count": 25,
   "metadata": {},
   "outputs": [
    {
     "data": {
      "text/html": [
       "<div>\n",
       "<style scoped>\n",
       "    .dataframe tbody tr th:only-of-type {\n",
       "        vertical-align: middle;\n",
       "    }\n",
       "\n",
       "    .dataframe tbody tr th {\n",
       "        vertical-align: top;\n",
       "    }\n",
       "\n",
       "    .dataframe thead th {\n",
       "        text-align: right;\n",
       "    }\n",
       "</style>\n",
       "<table border=\"1\" class=\"dataframe\">\n",
       "  <thead>\n",
       "    <tr style=\"text-align: right;\">\n",
       "      <th></th>\n",
       "      <th>latitude</th>\n",
       "      <th>longitude</th>\n",
       "      <th>price</th>\n",
       "      <th>reviews_per_month</th>\n",
       "      <th>galazia_paralia</th>\n",
       "    </tr>\n",
       "  </thead>\n",
       "  <tbody>\n",
       "    <tr>\n",
       "      <th>count</th>\n",
       "      <td>2122.000000</td>\n",
       "      <td>2122.000000</td>\n",
       "      <td>2122.000000</td>\n",
       "      <td>1479.000000</td>\n",
       "      <td>2122.000000</td>\n",
       "    </tr>\n",
       "    <tr>\n",
       "      <th>mean</th>\n",
       "      <td>35.152158</td>\n",
       "      <td>25.821894</td>\n",
       "      <td>143.582941</td>\n",
       "      <td>0.499844</td>\n",
       "      <td>2.759568</td>\n",
       "    </tr>\n",
       "    <tr>\n",
       "      <th>std</th>\n",
       "      <td>0.096500</td>\n",
       "      <td>0.195133</td>\n",
       "      <td>298.359715</td>\n",
       "      <td>0.591593</td>\n",
       "      <td>3.661034</td>\n",
       "    </tr>\n",
       "    <tr>\n",
       "      <th>min</th>\n",
       "      <td>34.996840</td>\n",
       "      <td>25.433340</td>\n",
       "      <td>16.000000</td>\n",
       "      <td>0.010000</td>\n",
       "      <td>0.027482</td>\n",
       "    </tr>\n",
       "    <tr>\n",
       "      <th>25%</th>\n",
       "      <td>35.041960</td>\n",
       "      <td>25.713290</td>\n",
       "      <td>45.000000</td>\n",
       "      <td>0.120000</td>\n",
       "      <td>0.568150</td>\n",
       "    </tr>\n",
       "    <tr>\n",
       "      <th>50%</th>\n",
       "      <td>35.179680</td>\n",
       "      <td>25.736785</td>\n",
       "      <td>66.000000</td>\n",
       "      <td>0.300000</td>\n",
       "      <td>1.152210</td>\n",
       "    </tr>\n",
       "    <tr>\n",
       "      <th>75%</th>\n",
       "      <td>35.215705</td>\n",
       "      <td>25.968892</td>\n",
       "      <td>120.000000</td>\n",
       "      <td>0.660000</td>\n",
       "      <td>3.209471</td>\n",
       "    </tr>\n",
       "    <tr>\n",
       "      <th>max</th>\n",
       "      <td>35.336810</td>\n",
       "      <td>26.277830</td>\n",
       "      <td>5290.000000</td>\n",
       "      <td>5.590000</td>\n",
       "      <td>17.118057</td>\n",
       "    </tr>\n",
       "  </tbody>\n",
       "</table>\n",
       "</div>"
      ],
      "text/plain": [
       "          latitude    longitude        price  reviews_per_month  \\\n",
       "count  2122.000000  2122.000000  2122.000000        1479.000000   \n",
       "mean     35.152158    25.821894   143.582941           0.499844   \n",
       "std       0.096500     0.195133   298.359715           0.591593   \n",
       "min      34.996840    25.433340    16.000000           0.010000   \n",
       "25%      35.041960    25.713290    45.000000           0.120000   \n",
       "50%      35.179680    25.736785    66.000000           0.300000   \n",
       "75%      35.215705    25.968892   120.000000           0.660000   \n",
       "max      35.336810    26.277830  5290.000000           5.590000   \n",
       "\n",
       "       galazia_paralia  \n",
       "count      2122.000000  \n",
       "mean          2.759568  \n",
       "std           3.661034  \n",
       "min           0.027482  \n",
       "25%           0.568150  \n",
       "50%           1.152210  \n",
       "75%           3.209471  \n",
       "max          17.118057  "
      ]
     },
     "execution_count": 25,
     "metadata": {},
     "output_type": "execute_result"
    }
   ],
   "source": [
    "las['price'] = las['price'].astype('float')\n",
    "las.describe()"
   ]
  },
  {
   "cell_type": "code",
   "execution_count": 26,
   "metadata": {},
   "outputs": [
    {
     "data": {
      "text/html": [
       "<div>\n",
       "<style scoped>\n",
       "    .dataframe tbody tr th:only-of-type {\n",
       "        vertical-align: middle;\n",
       "    }\n",
       "\n",
       "    .dataframe tbody tr th {\n",
       "        vertical-align: top;\n",
       "    }\n",
       "\n",
       "    .dataframe thead th {\n",
       "        text-align: right;\n",
       "    }\n",
       "</style>\n",
       "<table border=\"1\" class=\"dataframe\">\n",
       "  <thead>\n",
       "    <tr style=\"text-align: right;\">\n",
       "      <th></th>\n",
       "      <th>latitude</th>\n",
       "      <th>longitude</th>\n",
       "      <th>price</th>\n",
       "      <th>reviews_per_month</th>\n",
       "      <th>galazia_paralia</th>\n",
       "    </tr>\n",
       "  </thead>\n",
       "  <tbody>\n",
       "    <tr>\n",
       "      <th>count</th>\n",
       "      <td>4307.000000</td>\n",
       "      <td>4307.000000</td>\n",
       "      <td>4307.000000</td>\n",
       "      <td>3040.000000</td>\n",
       "      <td>4307.000000</td>\n",
       "    </tr>\n",
       "    <tr>\n",
       "      <th>mean</th>\n",
       "      <td>35.258718</td>\n",
       "      <td>25.151770</td>\n",
       "      <td>178.471094</td>\n",
       "      <td>0.702224</td>\n",
       "      <td>7.030966</td>\n",
       "    </tr>\n",
       "    <tr>\n",
       "      <th>std</th>\n",
       "      <td>0.130702</td>\n",
       "      <td>0.204926</td>\n",
       "      <td>782.240894</td>\n",
       "      <td>0.924351</td>\n",
       "      <td>7.470715</td>\n",
       "    </tr>\n",
       "    <tr>\n",
       "      <th>min</th>\n",
       "      <td>34.929190</td>\n",
       "      <td>24.734370</td>\n",
       "      <td>9.000000</td>\n",
       "      <td>0.010000</td>\n",
       "      <td>0.016175</td>\n",
       "    </tr>\n",
       "    <tr>\n",
       "      <th>25%</th>\n",
       "      <td>35.232870</td>\n",
       "      <td>25.025445</td>\n",
       "      <td>40.000000</td>\n",
       "      <td>0.150000</td>\n",
       "      <td>3.069105</td>\n",
       "    </tr>\n",
       "    <tr>\n",
       "      <th>50%</th>\n",
       "      <td>35.316420</td>\n",
       "      <td>25.135190</td>\n",
       "      <td>60.000000</td>\n",
       "      <td>0.400000</td>\n",
       "      <td>4.439858</td>\n",
       "    </tr>\n",
       "    <tr>\n",
       "      <th>75%</th>\n",
       "      <td>35.335590</td>\n",
       "      <td>25.345020</td>\n",
       "      <td>100.000000</td>\n",
       "      <td>0.860000</td>\n",
       "      <td>8.455982</td>\n",
       "    </tr>\n",
       "    <tr>\n",
       "      <th>max</th>\n",
       "      <td>35.416150</td>\n",
       "      <td>25.534480</td>\n",
       "      <td>8000.000000</td>\n",
       "      <td>12.300000</td>\n",
       "      <td>40.126676</td>\n",
       "    </tr>\n",
       "  </tbody>\n",
       "</table>\n",
       "</div>"
      ],
      "text/plain": [
       "          latitude    longitude        price  reviews_per_month  \\\n",
       "count  4307.000000  4307.000000  4307.000000        3040.000000   \n",
       "mean     35.258718    25.151770   178.471094           0.702224   \n",
       "std       0.130702     0.204926   782.240894           0.924351   \n",
       "min      34.929190    24.734370     9.000000           0.010000   \n",
       "25%      35.232870    25.025445    40.000000           0.150000   \n",
       "50%      35.316420    25.135190    60.000000           0.400000   \n",
       "75%      35.335590    25.345020   100.000000           0.860000   \n",
       "max      35.416150    25.534480  8000.000000          12.300000   \n",
       "\n",
       "       galazia_paralia  \n",
       "count      4307.000000  \n",
       "mean          7.030966  \n",
       "std           7.470715  \n",
       "min           0.016175  \n",
       "25%           3.069105  \n",
       "50%           4.439858  \n",
       "75%           8.455982  \n",
       "max          40.126676  "
      ]
     },
     "execution_count": 26,
     "metadata": {},
     "output_type": "execute_result"
    }
   ],
   "source": [
    "irak['price'] = irak['price'].astype('float')\n",
    "irak.describe()"
   ]
  },
  {
   "cell_type": "code",
   "execution_count": 27,
   "metadata": {},
   "outputs": [
    {
     "data": {
      "text/html": [
       "<div>\n",
       "<style scoped>\n",
       "    .dataframe tbody tr th:only-of-type {\n",
       "        vertical-align: middle;\n",
       "    }\n",
       "\n",
       "    .dataframe tbody tr th {\n",
       "        vertical-align: top;\n",
       "    }\n",
       "\n",
       "    .dataframe thead th {\n",
       "        text-align: right;\n",
       "    }\n",
       "</style>\n",
       "<table border=\"1\" class=\"dataframe\">\n",
       "  <thead>\n",
       "    <tr style=\"text-align: right;\">\n",
       "      <th></th>\n",
       "      <th>latitude</th>\n",
       "      <th>longitude</th>\n",
       "      <th>price</th>\n",
       "      <th>reviews_per_month</th>\n",
       "      <th>calculated_host_listings_count</th>\n",
       "      <th>availability_365</th>\n",
       "      <th>galazia_paralia</th>\n",
       "      <th>top-10</th>\n",
       "      <th>logprice</th>\n",
       "    </tr>\n",
       "  </thead>\n",
       "  <tbody>\n",
       "    <tr>\n",
       "      <th>count</th>\n",
       "      <td>17705.000000</td>\n",
       "      <td>17705.000000</td>\n",
       "      <td>17705.000000</td>\n",
       "      <td>12564.000000</td>\n",
       "      <td>17705.000000</td>\n",
       "      <td>17705.000000</td>\n",
       "      <td>17705.000000</td>\n",
       "      <td>17705.000000</td>\n",
       "      <td>17705.000000</td>\n",
       "    </tr>\n",
       "    <tr>\n",
       "      <th>mean</th>\n",
       "      <td>35.352622</td>\n",
       "      <td>24.593212</td>\n",
       "      <td>161.495623</td>\n",
       "      <td>0.587677</td>\n",
       "      <td>18.062073</td>\n",
       "      <td>251.821802</td>\n",
       "      <td>4.766260</td>\n",
       "      <td>12.057218</td>\n",
       "      <td>4.446782</td>\n",
       "    </tr>\n",
       "    <tr>\n",
       "      <th>std</th>\n",
       "      <td>0.151546</td>\n",
       "      <td>0.677743</td>\n",
       "      <td>517.111466</td>\n",
       "      <td>0.730047</td>\n",
       "      <td>39.363626</td>\n",
       "      <td>115.550343</td>\n",
       "      <td>5.689914</td>\n",
       "      <td>11.435507</td>\n",
       "      <td>0.862560</td>\n",
       "    </tr>\n",
       "    <tr>\n",
       "      <th>min</th>\n",
       "      <td>34.834420</td>\n",
       "      <td>23.529640</td>\n",
       "      <td>9.000000</td>\n",
       "      <td>0.010000</td>\n",
       "      <td>1.000000</td>\n",
       "      <td>0.000000</td>\n",
       "      <td>0.006774</td>\n",
       "      <td>0.003429</td>\n",
       "      <td>2.197225</td>\n",
       "    </tr>\n",
       "    <tr>\n",
       "      <th>25%</th>\n",
       "      <td>35.283350</td>\n",
       "      <td>24.019650</td>\n",
       "      <td>46.000000</td>\n",
       "      <td>0.130000</td>\n",
       "      <td>1.000000</td>\n",
       "      <td>179.000000</td>\n",
       "      <td>1.052524</td>\n",
       "      <td>3.096158</td>\n",
       "      <td>3.828641</td>\n",
       "    </tr>\n",
       "    <tr>\n",
       "      <th>50%</th>\n",
       "      <td>35.364390</td>\n",
       "      <td>24.474090</td>\n",
       "      <td>71.000000</td>\n",
       "      <td>0.360000</td>\n",
       "      <td>3.000000</td>\n",
       "      <td>274.000000</td>\n",
       "      <td>2.812682</td>\n",
       "      <td>9.718715</td>\n",
       "      <td>4.262680</td>\n",
       "    </tr>\n",
       "    <tr>\n",
       "      <th>75%</th>\n",
       "      <td>35.500630</td>\n",
       "      <td>25.131840</td>\n",
       "      <td>136.000000</td>\n",
       "      <td>0.760000</td>\n",
       "      <td>9.000000</td>\n",
       "      <td>363.000000</td>\n",
       "      <td>5.955812</td>\n",
       "      <td>16.999132</td>\n",
       "      <td>4.912655</td>\n",
       "    </tr>\n",
       "    <tr>\n",
       "      <th>max</th>\n",
       "      <td>35.593770</td>\n",
       "      <td>26.277830</td>\n",
       "      <td>8000.000000</td>\n",
       "      <td>12.300000</td>\n",
       "      <td>190.000000</td>\n",
       "      <td>365.000000</td>\n",
       "      <td>57.977670</td>\n",
       "      <td>54.727854</td>\n",
       "      <td>8.987197</td>\n",
       "    </tr>\n",
       "  </tbody>\n",
       "</table>\n",
       "</div>"
      ],
      "text/plain": [
       "           latitude     longitude         price  reviews_per_month  \\\n",
       "count  17705.000000  17705.000000  17705.000000       12564.000000   \n",
       "mean      35.352622     24.593212    161.495623           0.587677   \n",
       "std        0.151546      0.677743    517.111466           0.730047   \n",
       "min       34.834420     23.529640      9.000000           0.010000   \n",
       "25%       35.283350     24.019650     46.000000           0.130000   \n",
       "50%       35.364390     24.474090     71.000000           0.360000   \n",
       "75%       35.500630     25.131840    136.000000           0.760000   \n",
       "max       35.593770     26.277830   8000.000000          12.300000   \n",
       "\n",
       "       calculated_host_listings_count  availability_365  galazia_paralia  \\\n",
       "count                    17705.000000      17705.000000     17705.000000   \n",
       "mean                        18.062073        251.821802         4.766260   \n",
       "std                         39.363626        115.550343         5.689914   \n",
       "min                          1.000000          0.000000         0.006774   \n",
       "25%                          1.000000        179.000000         1.052524   \n",
       "50%                          3.000000        274.000000         2.812682   \n",
       "75%                          9.000000        363.000000         5.955812   \n",
       "max                        190.000000        365.000000        57.977670   \n",
       "\n",
       "             top-10      logprice  \n",
       "count  17705.000000  17705.000000  \n",
       "mean      12.057218      4.446782  \n",
       "std       11.435507      0.862560  \n",
       "min        0.003429      2.197225  \n",
       "25%        3.096158      3.828641  \n",
       "50%        9.718715      4.262680  \n",
       "75%       16.999132      4.912655  \n",
       "max       54.727854      8.987197  "
      ]
     },
     "execution_count": 27,
     "metadata": {},
     "output_type": "execute_result"
    }
   ],
   "source": [
    "logprice = [math.log(x) for x in crete['price']]\n",
    "crete['logprice']=logprice\n",
    "crete['availability_365'] = crete['availability_365'].astype('int')\n",
    "crete['calculated_host_listings_count'] = crete['calculated_host_listings_count'].astype('int')\n",
    "crete['price']=crete['price'].astype('float')\n",
    "crete.describe()"
   ]
  },
  {
   "cell_type": "code",
   "execution_count": 28,
   "metadata": {},
   "outputs": [
    {
     "data": {
      "image/png": "[encoded data removed]",
      "text/plain": [
       "<Figure size 432x288 with 1 Axes>"
      ]
     },
     "metadata": {},
     "output_type": "display_data"
    }
   ],
   "source": [
    "crete.groupby(['NOMOS','room_type']).size().unstack().plot(kind='bar',stacked=True)\n",
    "plt.show()"
   ]
  },
  {
   "cell_type": "code",
   "execution_count": 29,
   "metadata": {},
   "outputs": [
    {
     "name": "stderr",
     "output_type": "stream",
     "text": [
      "C:\\Users\\IOANNIS\\anaconda3\\envs\\geo\\lib\\site-packages\\seaborn\\distributions.py:2551: FutureWarning: `distplot` is a deprecated function and will be removed in a future version. Please adapt your code to use either `displot` (a figure-level function with similar flexibility) or `histplot` (an axes-level function for histograms).\n",
      "  warnings.warn(msg, FutureWarning)\n"
     ]
    },
    {
     "data": {
      "text/plain": [
       "<AxesSubplot:xlabel='price', ylabel='Density'>"
      ]
     },
     "execution_count": 29,
     "metadata": {},
     "output_type": "execute_result"
    },
    {
     "data": {
      "image/png": "[encoded data removed]",
      "text/plain": [
       "<Figure size 432x288 with 1 Axes>"
      ]
     },
     "metadata": {},
     "output_type": "display_data"
    }
   ],
   "source": [
    "sns.distplot(crete['price'])"
   ]
  },
  {
   "cell_type": "code",
   "execution_count": 30,
   "metadata": {},
   "outputs": [
    {
     "name": "stderr",
     "output_type": "stream",
     "text": [
      "C:\\Users\\IOANNIS\\anaconda3\\envs\\geo\\lib\\site-packages\\seaborn\\distributions.py:2551: FutureWarning: `distplot` is a deprecated function and will be removed in a future version. Please adapt your code to use either `displot` (a figure-level function with similar flexibility) or `histplot` (an axes-level function for histograms).\n",
      "  warnings.warn(msg, FutureWarning)\n"
     ]
    },
    {
     "data": {
      "text/plain": [
       "<AxesSubplot:xlabel='price', ylabel='Density'>"
      ]
     },
     "execution_count": 30,
     "metadata": {},
     "output_type": "execute_result"
    },
    {
     "data": {
      "image/png": "[encoded data removed]",
      "text/plain": [
       "<Figure size 432x288 with 1 Axes>"
      ]
     },
     "metadata": {},
     "output_type": "display_data"
    }
   ],
   "source": [
    "#briskoume apo to grafhma thn timh pou einai sto 99% kathws einai ektos oriwn\n",
    "q = crete['price'].quantile(0.98)\n",
    "data_1 = crete[crete.price < q].copy()\n",
    "\n",
    "\n",
    "sns.distplot(data_1['price'])"
   ]
  },
  {
   "cell_type": "code",
   "execution_count": 32,
   "metadata": {},
   "outputs": [
    {
     "name": "stderr",
     "output_type": "stream",
     "text": [
      "C:\\Users\\IOANNIS\\anaconda3\\envs\\geo\\lib\\site-packages\\seaborn\\distributions.py:2551: FutureWarning: `distplot` is a deprecated function and will be removed in a future version. Please adapt your code to use either `displot` (a figure-level function with similar flexibility) or `histplot` (an axes-level function for histograms).\n",
      "  warnings.warn(msg, FutureWarning)\n"
     ]
    },
    {
     "data": {
      "text/plain": [
       "<AxesSubplot:xlabel='logprice', ylabel='Density'>"
      ]
     },
     "execution_count": 32,
     "metadata": {},
     "output_type": "execute_result"
    },
    {
     "data": {
      "image/png": "[encoded data removed]",
      "text/plain": [
       "<Figure size 432x288 with 1 Axes>"
      ]
     },
     "metadata": {},
     "output_type": "display_data"
    }
   ],
   "source": [
    "logprice = [math.log(x) for x in data_1['price']]\n",
    "data_1['logprice']=logprice\n",
    "sns.distplot(data_1['logprice'])"
   ]
  },
  {
   "cell_type": "code",
   "execution_count": 32,
   "metadata": {},
   "outputs": [
    {
     "data": {
      "text/plain": [
       "<AxesSubplot:xlabel='room_type', ylabel='logprice'>"
      ]
     },
     "execution_count": 32,
     "metadata": {},
     "output_type": "execute_result"
    },
    {
     "data": {
      "image/png": "[encoded data removed]",
      "text/plain": [
       "<Figure size 432x288 with 1 Axes>"
      ]
     },
     "metadata": {},
     "output_type": "display_data"
    }
   ],
   "source": [
    "sns.boxplot(x=\"room_type\", y=\"logprice\", data=data_1)"
   ]
  },
  {
   "cell_type": "code",
   "execution_count": 33,
   "metadata": {},
   "outputs": [
    {
     "data": {
      "text/plain": [
       "<AxesSubplot:xlabel='NOMOS', ylabel='logprice'>"
      ]
     },
     "execution_count": 33,
     "metadata": {},
     "output_type": "execute_result"
    },
    {
     "data": {
      "image/png": "[encoded data removed]",
      "text/plain": [
       "<Figure size 432x288 with 1 Axes>"
      ]
     },
     "metadata": {},
     "output_type": "display_data"
    }
   ],
   "source": [
    "sns.boxplot(x=\"NOMOS\", y=\"logprice\", data=data_1)"
   ]
  },
  {
   "cell_type": "code",
   "execution_count": 34,
   "metadata": {},
   "outputs": [
    {
     "data": {
      "text/html": [
       "<div>\n",
       "<style scoped>\n",
       "    .dataframe tbody tr th:only-of-type {\n",
       "        vertical-align: middle;\n",
       "    }\n",
       "\n",
       "    .dataframe tbody tr th {\n",
       "        vertical-align: top;\n",
       "    }\n",
       "\n",
       "    .dataframe thead th {\n",
       "        text-align: right;\n",
       "    }\n",
       "</style>\n",
       "<table border=\"1\" class=\"dataframe\">\n",
       "  <thead>\n",
       "    <tr style=\"text-align: right;\">\n",
       "      <th></th>\n",
       "      <th>id</th>\n",
       "      <th>host_id</th>\n",
       "      <th>latitude</th>\n",
       "      <th>longitude</th>\n",
       "      <th>price</th>\n",
       "      <th>minimum_nights</th>\n",
       "      <th>number_of_reviews</th>\n",
       "      <th>reviews_per_month</th>\n",
       "      <th>calculated_host_listings_count</th>\n",
       "      <th>availability_365</th>\n",
       "      <th>metro</th>\n",
       "      <th>top-10</th>\n",
       "      <th>logprice</th>\n",
       "    </tr>\n",
       "  </thead>\n",
       "  <tbody>\n",
       "    <tr>\n",
       "      <th>count</th>\n",
       "      <td>9.455000e+03</td>\n",
       "      <td>9.455000e+03</td>\n",
       "      <td>9455.000000</td>\n",
       "      <td>9455.000000</td>\n",
       "      <td>9455.000000</td>\n",
       "      <td>9455.000000</td>\n",
       "      <td>9455.000000</td>\n",
       "      <td>7272.000000</td>\n",
       "      <td>9455.000000</td>\n",
       "      <td>9455.000000</td>\n",
       "      <td>9455.000000</td>\n",
       "      <td>9455.000000</td>\n",
       "      <td>9455.000000</td>\n",
       "    </tr>\n",
       "    <tr>\n",
       "      <th>mean</th>\n",
       "      <td>2.864946e+07</td>\n",
       "      <td>1.318461e+08</td>\n",
       "      <td>37.980053</td>\n",
       "      <td>23.731778</td>\n",
       "      <td>70.141195</td>\n",
       "      <td>3.433633</td>\n",
       "      <td>37.427922</td>\n",
       "      <td>1.637207</td>\n",
       "      <td>9.449709</td>\n",
       "      <td>254.109572</td>\n",
       "      <td>0.449764</td>\n",
       "      <td>0.853416</td>\n",
       "      <td>3.835086</td>\n",
       "    </tr>\n",
       "    <tr>\n",
       "      <th>std</th>\n",
       "      <td>1.146347e+07</td>\n",
       "      <td>1.025103e+08</td>\n",
       "      <td>0.013405</td>\n",
       "      <td>0.012365</td>\n",
       "      <td>416.017364</td>\n",
       "      <td>17.893770</td>\n",
       "      <td>64.294023</td>\n",
       "      <td>1.735093</td>\n",
       "      <td>17.541995</td>\n",
       "      <td>121.661204</td>\n",
       "      <td>0.287380</td>\n",
       "      <td>0.653693</td>\n",
       "      <td>0.651451</td>\n",
       "    </tr>\n",
       "    <tr>\n",
       "      <th>min</th>\n",
       "      <td>1.059500e+04</td>\n",
       "      <td>3.717700e+04</td>\n",
       "      <td>37.949280</td>\n",
       "      <td>23.697320</td>\n",
       "      <td>8.000000</td>\n",
       "      <td>1.000000</td>\n",
       "      <td>0.000000</td>\n",
       "      <td>0.010000</td>\n",
       "      <td>1.000000</td>\n",
       "      <td>0.000000</td>\n",
       "      <td>0.002720</td>\n",
       "      <td>0.017649</td>\n",
       "      <td>2.079442</td>\n",
       "    </tr>\n",
       "    <tr>\n",
       "      <th>25%</th>\n",
       "      <td>2.105441e+07</td>\n",
       "      <td>3.509330e+07</td>\n",
       "      <td>37.969140</td>\n",
       "      <td>23.724050</td>\n",
       "      <td>30.000000</td>\n",
       "      <td>1.000000</td>\n",
       "      <td>1.000000</td>\n",
       "      <td>0.340000</td>\n",
       "      <td>1.000000</td>\n",
       "      <td>168.000000</td>\n",
       "      <td>0.249676</td>\n",
       "      <td>0.409217</td>\n",
       "      <td>3.401197</td>\n",
       "    </tr>\n",
       "    <tr>\n",
       "      <th>50%</th>\n",
       "      <td>3.002726e+07</td>\n",
       "      <td>1.197957e+08</td>\n",
       "      <td>37.978410</td>\n",
       "      <td>23.729940</td>\n",
       "      <td>43.000000</td>\n",
       "      <td>2.000000</td>\n",
       "      <td>9.000000</td>\n",
       "      <td>1.000000</td>\n",
       "      <td>2.000000</td>\n",
       "      <td>316.000000</td>\n",
       "      <td>0.377218</td>\n",
       "      <td>0.653444</td>\n",
       "      <td>3.761200</td>\n",
       "    </tr>\n",
       "    <tr>\n",
       "      <th>75%</th>\n",
       "      <td>3.786253e+07</td>\n",
       "      <td>2.154966e+08</td>\n",
       "      <td>37.988160</td>\n",
       "      <td>23.738025</td>\n",
       "      <td>65.000000</td>\n",
       "      <td>2.000000</td>\n",
       "      <td>46.000000</td>\n",
       "      <td>2.400000</td>\n",
       "      <td>8.000000</td>\n",
       "      <td>360.000000</td>\n",
       "      <td>0.571218</td>\n",
       "      <td>1.104055</td>\n",
       "      <td>4.174387</td>\n",
       "    </tr>\n",
       "    <tr>\n",
       "      <th>max</th>\n",
       "      <td>4.603472e+07</td>\n",
       "      <td>3.730263e+08</td>\n",
       "      <td>38.034560</td>\n",
       "      <td>23.789530</td>\n",
       "      <td>20653.000000</td>\n",
       "      <td>1000.000000</td>\n",
       "      <td>714.000000</td>\n",
       "      <td>14.210000</td>\n",
       "      <td>101.000000</td>\n",
       "      <td>365.000000</td>\n",
       "      <td>2.002011</td>\n",
       "      <td>5.121329</td>\n",
       "      <td>9.935616</td>\n",
       "    </tr>\n",
       "  </tbody>\n",
       "</table>\n",
       "</div>"
      ],
      "text/plain": [
       "                 id       host_id     latitude    longitude         price  \\\n",
       "count  9.455000e+03  9.455000e+03  9455.000000  9455.000000   9455.000000   \n",
       "mean   2.864946e+07  1.318461e+08    37.980053    23.731778     70.141195   \n",
       "std    1.146347e+07  1.025103e+08     0.013405     0.012365    416.017364   \n",
       "min    1.059500e+04  3.717700e+04    37.949280    23.697320      8.000000   \n",
       "25%    2.105441e+07  3.509330e+07    37.969140    23.724050     30.000000   \n",
       "50%    3.002726e+07  1.197957e+08    37.978410    23.729940     43.000000   \n",
       "75%    3.786253e+07  2.154966e+08    37.988160    23.738025     65.000000   \n",
       "max    4.603472e+07  3.730263e+08    38.034560    23.789530  20653.000000   \n",
       "\n",
       "       minimum_nights  number_of_reviews  reviews_per_month  \\\n",
       "count     9455.000000        9455.000000        7272.000000   \n",
       "mean         3.433633          37.427922           1.637207   \n",
       "std         17.893770          64.294023           1.735093   \n",
       "min          1.000000           0.000000           0.010000   \n",
       "25%          1.000000           1.000000           0.340000   \n",
       "50%          2.000000           9.000000           1.000000   \n",
       "75%          2.000000          46.000000           2.400000   \n",
       "max       1000.000000         714.000000          14.210000   \n",
       "\n",
       "       calculated_host_listings_count  availability_365        metro  \\\n",
       "count                     9455.000000       9455.000000  9455.000000   \n",
       "mean                         9.449709        254.109572     0.449764   \n",
       "std                         17.541995        121.661204     0.287380   \n",
       "min                          1.000000          0.000000     0.002720   \n",
       "25%                          1.000000        168.000000     0.249676   \n",
       "50%                          2.000000        316.000000     0.377218   \n",
       "75%                          8.000000        360.000000     0.571218   \n",
       "max                        101.000000        365.000000     2.002011   \n",
       "\n",
       "            top-10     logprice  \n",
       "count  9455.000000  9455.000000  \n",
       "mean      0.853416     3.835086  \n",
       "std       0.653693     0.651451  \n",
       "min       0.017649     2.079442  \n",
       "25%       0.409217     3.401197  \n",
       "50%       0.653444     3.761200  \n",
       "75%       1.104055     4.174387  \n",
       "max       5.121329     9.935616  "
      ]
     },
     "execution_count": 34,
     "metadata": {},
     "output_type": "execute_result"
    }
   ],
   "source": [
    "logprice = [math.log(x) for x in athens['price']]\n",
    "athens['logprice']=logprice\n",
    "athens['availability_365'] = athens['availability_365'].astype('int')\n",
    "athens['calculated_host_listings_count'] = athens['calculated_host_listings_count'].astype('int')\n",
    "athens['price']=athens['price'].astype('float')\n",
    "athens.describe()"
   ]
  },
  {
   "cell_type": "code",
   "execution_count": 35,
   "metadata": {},
   "outputs": [
    {
     "data": {
      "text/html": [
       "<div>\n",
       "<style scoped>\n",
       "    .dataframe tbody tr th:only-of-type {\n",
       "        vertical-align: middle;\n",
       "    }\n",
       "\n",
       "    .dataframe tbody tr th {\n",
       "        vertical-align: top;\n",
       "    }\n",
       "\n",
       "    .dataframe thead th {\n",
       "        text-align: right;\n",
       "    }\n",
       "</style>\n",
       "<table border=\"1\" class=\"dataframe\">\n",
       "  <thead>\n",
       "    <tr style=\"text-align: right;\">\n",
       "      <th></th>\n",
       "      <th>id</th>\n",
       "      <th>host_id</th>\n",
       "      <th>neighbourhood_group</th>\n",
       "      <th>latitude</th>\n",
       "      <th>longitude</th>\n",
       "      <th>price</th>\n",
       "      <th>minimum_nights</th>\n",
       "      <th>number_of_reviews</th>\n",
       "      <th>reviews_per_month</th>\n",
       "      <th>calculated_host_listings_count</th>\n",
       "      <th>availability_365</th>\n",
       "      <th>Μουσεία</th>\n",
       "      <th>top-10</th>\n",
       "      <th>logprice</th>\n",
       "    </tr>\n",
       "  </thead>\n",
       "  <tbody>\n",
       "    <tr>\n",
       "      <th>count</th>\n",
       "      <td>2.441000e+03</td>\n",
       "      <td>2.441000e+03</td>\n",
       "      <td>0.0</td>\n",
       "      <td>2441.000000</td>\n",
       "      <td>2441.000000</td>\n",
       "      <td>2441.000000</td>\n",
       "      <td>2441.000000</td>\n",
       "      <td>2441.000000</td>\n",
       "      <td>2071.000000</td>\n",
       "      <td>2441.000000</td>\n",
       "      <td>2441.000000</td>\n",
       "      <td>2441.000000</td>\n",
       "      <td>2441.000000</td>\n",
       "      <td>2441.000000</td>\n",
       "    </tr>\n",
       "    <tr>\n",
       "      <th>mean</th>\n",
       "      <td>2.992306e+07</td>\n",
       "      <td>1.511034e+08</td>\n",
       "      <td>NaN</td>\n",
       "      <td>40.628672</td>\n",
       "      <td>22.949787</td>\n",
       "      <td>58.073331</td>\n",
       "      <td>3.378533</td>\n",
       "      <td>34.503892</td>\n",
       "      <td>1.498344</td>\n",
       "      <td>5.337567</td>\n",
       "      <td>231.637853</td>\n",
       "      <td>0.813902</td>\n",
       "      <td>1.077872</td>\n",
       "      <td>3.750959</td>\n",
       "    </tr>\n",
       "    <tr>\n",
       "      <th>std</th>\n",
       "      <td>1.105068e+07</td>\n",
       "      <td>1.030073e+08</td>\n",
       "      <td>NaN</td>\n",
       "      <td>0.019217</td>\n",
       "      <td>0.017495</td>\n",
       "      <td>235.179474</td>\n",
       "      <td>15.720252</td>\n",
       "      <td>56.597566</td>\n",
       "      <td>1.541229</td>\n",
       "      <td>9.595505</td>\n",
       "      <td>127.369921</td>\n",
       "      <td>1.255992</td>\n",
       "      <td>1.335547</td>\n",
       "      <td>0.558465</td>\n",
       "    </tr>\n",
       "    <tr>\n",
       "      <th>min</th>\n",
       "      <td>3.526100e+04</td>\n",
       "      <td>1.208150e+05</td>\n",
       "      <td>NaN</td>\n",
       "      <td>40.554680</td>\n",
       "      <td>22.894960</td>\n",
       "      <td>9.000000</td>\n",
       "      <td>1.000000</td>\n",
       "      <td>0.000000</td>\n",
       "      <td>0.020000</td>\n",
       "      <td>1.000000</td>\n",
       "      <td>0.000000</td>\n",
       "      <td>0.002969</td>\n",
       "      <td>0.010741</td>\n",
       "      <td>2.197225</td>\n",
       "    </tr>\n",
       "    <tr>\n",
       "      <th>25%</th>\n",
       "      <td>2.189440e+07</td>\n",
       "      <td>5.311878e+07</td>\n",
       "      <td>NaN</td>\n",
       "      <td>40.619390</td>\n",
       "      <td>22.941420</td>\n",
       "      <td>30.000000</td>\n",
       "      <td>1.000000</td>\n",
       "      <td>2.000000</td>\n",
       "      <td>0.380000</td>\n",
       "      <td>1.000000</td>\n",
       "      <td>118.000000</td>\n",
       "      <td>0.213887</td>\n",
       "      <td>0.328960</td>\n",
       "      <td>3.401197</td>\n",
       "    </tr>\n",
       "    <tr>\n",
       "      <th>50%</th>\n",
       "      <td>3.170143e+07</td>\n",
       "      <td>1.463098e+08</td>\n",
       "      <td>NaN</td>\n",
       "      <td>40.633570</td>\n",
       "      <td>22.948420</td>\n",
       "      <td>40.000000</td>\n",
       "      <td>2.000000</td>\n",
       "      <td>13.000000</td>\n",
       "      <td>1.000000</td>\n",
       "      <td>2.000000</td>\n",
       "      <td>266.000000</td>\n",
       "      <td>0.359806</td>\n",
       "      <td>0.510242</td>\n",
       "      <td>3.688879</td>\n",
       "    </tr>\n",
       "    <tr>\n",
       "      <th>75%</th>\n",
       "      <td>3.922430e+07</td>\n",
       "      <td>2.367181e+08</td>\n",
       "      <td>NaN</td>\n",
       "      <td>40.639380</td>\n",
       "      <td>22.954680</td>\n",
       "      <td>55.000000</td>\n",
       "      <td>2.000000</td>\n",
       "      <td>40.000000</td>\n",
       "      <td>2.030000</td>\n",
       "      <td>5.000000</td>\n",
       "      <td>358.000000</td>\n",
       "      <td>0.740507</td>\n",
       "      <td>1.217116</td>\n",
       "      <td>4.007333</td>\n",
       "    </tr>\n",
       "    <tr>\n",
       "      <th>max</th>\n",
       "      <td>4.603885e+07</td>\n",
       "      <td>3.730006e+08</td>\n",
       "      <td>NaN</td>\n",
       "      <td>40.688390</td>\n",
       "      <td>23.100180</td>\n",
       "      <td>8000.000000</td>\n",
       "      <td>365.000000</td>\n",
       "      <td>502.000000</td>\n",
       "      <td>11.100000</td>\n",
       "      <td>55.000000</td>\n",
       "      <td>365.000000</td>\n",
       "      <td>11.692516</td>\n",
       "      <td>10.813272</td>\n",
       "      <td>8.987197</td>\n",
       "    </tr>\n",
       "  </tbody>\n",
       "</table>\n",
       "</div>"
      ],
      "text/plain": [
       "                 id       host_id  neighbourhood_group     latitude  \\\n",
       "count  2.441000e+03  2.441000e+03                  0.0  2441.000000   \n",
       "mean   2.992306e+07  1.511034e+08                  NaN    40.628672   \n",
       "std    1.105068e+07  1.030073e+08                  NaN     0.019217   \n",
       "min    3.526100e+04  1.208150e+05                  NaN    40.554680   \n",
       "25%    2.189440e+07  5.311878e+07                  NaN    40.619390   \n",
       "50%    3.170143e+07  1.463098e+08                  NaN    40.633570   \n",
       "75%    3.922430e+07  2.367181e+08                  NaN    40.639380   \n",
       "max    4.603885e+07  3.730006e+08                  NaN    40.688390   \n",
       "\n",
       "         longitude        price  minimum_nights  number_of_reviews  \\\n",
       "count  2441.000000  2441.000000     2441.000000        2441.000000   \n",
       "mean     22.949787    58.073331        3.378533          34.503892   \n",
       "std       0.017495   235.179474       15.720252          56.597566   \n",
       "min      22.894960     9.000000        1.000000           0.000000   \n",
       "25%      22.941420    30.000000        1.000000           2.000000   \n",
       "50%      22.948420    40.000000        2.000000          13.000000   \n",
       "75%      22.954680    55.000000        2.000000          40.000000   \n",
       "max      23.100180  8000.000000      365.000000         502.000000   \n",
       "\n",
       "       reviews_per_month  calculated_host_listings_count  availability_365  \\\n",
       "count        2071.000000                     2441.000000       2441.000000   \n",
       "mean            1.498344                        5.337567        231.637853   \n",
       "std             1.541229                        9.595505        127.369921   \n",
       "min             0.020000                        1.000000          0.000000   \n",
       "25%             0.380000                        1.000000        118.000000   \n",
       "50%             1.000000                        2.000000        266.000000   \n",
       "75%             2.030000                        5.000000        358.000000   \n",
       "max            11.100000                       55.000000        365.000000   \n",
       "\n",
       "           Μουσεία       top-10     logprice  \n",
       "count  2441.000000  2441.000000  2441.000000  \n",
       "mean      0.813902     1.077872     3.750959  \n",
       "std       1.255992     1.335547     0.558465  \n",
       "min       0.002969     0.010741     2.197225  \n",
       "25%       0.213887     0.328960     3.401197  \n",
       "50%       0.359806     0.510242     3.688879  \n",
       "75%       0.740507     1.217116     4.007333  \n",
       "max      11.692516    10.813272     8.987197  "
      ]
     },
     "execution_count": 35,
     "metadata": {},
     "output_type": "execute_result"
    }
   ],
   "source": [
    "logprice = [math.log(x) for x in thes['price']]\n",
    "thes['logprice']=logprice\n",
    "thes['availability_365'] = thes['availability_365'].astype('int')\n",
    "thes['calculated_host_listings_count'] = thes['calculated_host_listings_count'].astype('int')\n",
    "thes['price']=thes['price'].astype('float')\n",
    "thes.describe()"
   ]
  },
  {
   "cell_type": "code",
   "execution_count": 36,
   "metadata": {},
   "outputs": [
    {
     "data": {
      "text/html": [
       "<div>\n",
       "<style scoped>\n",
       "    .dataframe tbody tr th:only-of-type {\n",
       "        vertical-align: middle;\n",
       "    }\n",
       "\n",
       "    .dataframe tbody tr th {\n",
       "        vertical-align: top;\n",
       "    }\n",
       "\n",
       "    .dataframe thead th {\n",
       "        text-align: right;\n",
       "    }\n",
       "</style>\n",
       "<table border=\"1\" class=\"dataframe\">\n",
       "  <thead>\n",
       "    <tr style=\"text-align: right;\">\n",
       "      <th></th>\n",
       "      <th>price</th>\n",
       "    </tr>\n",
       "    <tr>\n",
       "      <th>Δημοτικό Διαμέρισμα</th>\n",
       "      <th></th>\n",
       "    </tr>\n",
       "  </thead>\n",
       "  <tbody>\n",
       "    <tr>\n",
       "      <th>1ο</th>\n",
       "      <td>75.682381</td>\n",
       "    </tr>\n",
       "    <tr>\n",
       "      <th>2ο</th>\n",
       "      <td>74.229615</td>\n",
       "    </tr>\n",
       "    <tr>\n",
       "      <th>3ο</th>\n",
       "      <td>84.997992</td>\n",
       "    </tr>\n",
       "    <tr>\n",
       "      <th>4ο</th>\n",
       "      <td>51.790637</td>\n",
       "    </tr>\n",
       "    <tr>\n",
       "      <th>5ο</th>\n",
       "      <td>43.397638</td>\n",
       "    </tr>\n",
       "    <tr>\n",
       "      <th>6ο</th>\n",
       "      <td>42.323873</td>\n",
       "    </tr>\n",
       "    <tr>\n",
       "      <th>7ο</th>\n",
       "      <td>46.759076</td>\n",
       "    </tr>\n",
       "  </tbody>\n",
       "</table>\n",
       "</div>"
      ],
      "text/plain": [
       "                         price\n",
       "Δημοτικό Διαμέρισμα           \n",
       "1ο                   75.682381\n",
       "2ο                   74.229615\n",
       "3ο                   84.997992\n",
       "4ο                   51.790637\n",
       "5ο                   43.397638\n",
       "6ο                   42.323873\n",
       "7ο                   46.759076"
      ]
     },
     "execution_count": 36,
     "metadata": {},
     "output_type": "execute_result"
    }
   ],
   "source": [
    "athens[['Δημοτικό Διαμέρισμα','price']].groupby('Δημοτικό Διαμέρισμα').mean()"
   ]
  },
  {
   "cell_type": "code",
   "execution_count": 37,
   "metadata": {},
   "outputs": [
    {
     "data": {
      "text/html": [
       "<div>\n",
       "<style scoped>\n",
       "    .dataframe tbody tr th:only-of-type {\n",
       "        vertical-align: middle;\n",
       "    }\n",
       "\n",
       "    .dataframe tbody tr th {\n",
       "        vertical-align: top;\n",
       "    }\n",
       "\n",
       "    .dataframe thead th {\n",
       "        text-align: right;\n",
       "    }\n",
       "</style>\n",
       "<table border=\"1\" class=\"dataframe\">\n",
       "  <thead>\n",
       "    <tr style=\"text-align: right;\">\n",
       "      <th></th>\n",
       "      <th>price</th>\n",
       "    </tr>\n",
       "    <tr>\n",
       "      <th>Δημοτικό Διαμέρισμα</th>\n",
       "      <th></th>\n",
       "    </tr>\n",
       "  </thead>\n",
       "  <tbody>\n",
       "    <tr>\n",
       "      <th>1ο</th>\n",
       "      <td>50.0</td>\n",
       "    </tr>\n",
       "    <tr>\n",
       "      <th>2ο</th>\n",
       "      <td>40.0</td>\n",
       "    </tr>\n",
       "    <tr>\n",
       "      <th>3ο</th>\n",
       "      <td>41.0</td>\n",
       "    </tr>\n",
       "    <tr>\n",
       "      <th>4ο</th>\n",
       "      <td>33.0</td>\n",
       "    </tr>\n",
       "    <tr>\n",
       "      <th>5ο</th>\n",
       "      <td>31.5</td>\n",
       "    </tr>\n",
       "    <tr>\n",
       "      <th>6ο</th>\n",
       "      <td>32.0</td>\n",
       "    </tr>\n",
       "    <tr>\n",
       "      <th>7ο</th>\n",
       "      <td>39.0</td>\n",
       "    </tr>\n",
       "  </tbody>\n",
       "</table>\n",
       "</div>"
      ],
      "text/plain": [
       "                     price\n",
       "Δημοτικό Διαμέρισμα       \n",
       "1ο                    50.0\n",
       "2ο                    40.0\n",
       "3ο                    41.0\n",
       "4ο                    33.0\n",
       "5ο                    31.5\n",
       "6ο                    32.0\n",
       "7ο                    39.0"
      ]
     },
     "execution_count": 37,
     "metadata": {},
     "output_type": "execute_result"
    }
   ],
   "source": [
    "athens[['Δημοτικό Διαμέρισμα','price']].groupby('Δημοτικό Διαμέρισμα').median()"
   ]
  },
  {
   "cell_type": "code",
   "execution_count": 38,
   "metadata": {},
   "outputs": [
    {
     "data": {
      "image/png": "[encoded data removed]",
      "text/plain": [
       "<Figure size 432x288 with 1 Axes>"
      ]
     },
     "metadata": {},
     "output_type": "display_data"
    }
   ],
   "source": [
    "athens.groupby(['Δημοτικό Διαμέρισμα','room_type']).size().unstack().plot(kind='bar',stacked=True)\n",
    "plt.show()"
   ]
  },
  {
   "cell_type": "code",
   "execution_count": 33,
   "metadata": {},
   "outputs": [
    {
     "name": "stderr",
     "output_type": "stream",
     "text": [
      "C:\\Users\\IOANNIS\\anaconda3\\envs\\geo\\lib\\site-packages\\seaborn\\distributions.py:2551: FutureWarning: `distplot` is a deprecated function and will be removed in a future version. Please adapt your code to use either `displot` (a figure-level function with similar flexibility) or `histplot` (an axes-level function for histograms).\n",
      "  warnings.warn(msg, FutureWarning)\n"
     ]
    },
    {
     "data": {
      "text/plain": [
       "<AxesSubplot:xlabel='price', ylabel='Density'>"
      ]
     },
     "execution_count": 33,
     "metadata": {},
     "output_type": "execute_result"
    },
    {
     "data": {
      "image/png": "[encoded data removed]",
      "text/plain": [
       "<Figure size 432x288 with 1 Axes>"
      ]
     },
     "metadata": {},
     "output_type": "display_data"
    }
   ],
   "source": [
    "sns.distplot(athens['price'])"
   ]
  },
  {
   "cell_type": "code",
   "execution_count": 34,
   "metadata": {},
   "outputs": [
    {
     "name": "stderr",
     "output_type": "stream",
     "text": [
      "C:\\Users\\IOANNIS\\anaconda3\\envs\\geo\\lib\\site-packages\\seaborn\\distributions.py:2551: FutureWarning: `distplot` is a deprecated function and will be removed in a future version. Please adapt your code to use either `displot` (a figure-level function with similar flexibility) or `histplot` (an axes-level function for histograms).\n",
      "  warnings.warn(msg, FutureWarning)\n"
     ]
    },
    {
     "data": {
      "text/plain": [
       "<AxesSubplot:xlabel='price', ylabel='Density'>"
      ]
     },
     "execution_count": 34,
     "metadata": {},
     "output_type": "execute_result"
    },
    {
     "data": {
      "image/png": "[encoded data removed]",
      "text/plain": [
       "<Figure size 432x288 with 1 Axes>"
      ]
     },
     "metadata": {},
     "output_type": "display_data"
    }
   ],
   "source": [
    "q = athens['price'].quantile(0.98)\n",
    "data_1 = athens[athens.price < q].copy()\n",
    "\n",
    "\n",
    "sns.distplot(data_1['price'])"
   ]
  },
  {
   "cell_type": "code",
   "execution_count": 37,
   "metadata": {},
   "outputs": [
    {
     "name": "stderr",
     "output_type": "stream",
     "text": [
      "C:\\Users\\IOANNIS\\anaconda3\\envs\\geo\\lib\\site-packages\\seaborn\\distributions.py:2551: FutureWarning: `distplot` is a deprecated function and will be removed in a future version. Please adapt your code to use either `displot` (a figure-level function with similar flexibility) or `histplot` (an axes-level function for histograms).\n",
      "  warnings.warn(msg, FutureWarning)\n"
     ]
    },
    {
     "data": {
      "text/plain": [
       "<AxesSubplot:xlabel='logprice', ylabel='Density'>"
      ]
     },
     "execution_count": 37,
     "metadata": {},
     "output_type": "execute_result"
    },
    {
     "data": {
      "image/png": "[encoded data removed]",
      "text/plain": [
       "<Figure size 432x288 with 1 Axes>"
      ]
     },
     "metadata": {},
     "output_type": "display_data"
    }
   ],
   "source": [
    "logprice = [math.log(x) for x in data_1['price']]\n",
    "\n",
    "data_1['logprice']=logprice\n",
    "sns.distplot(data_1['logprice'])"
   ]
  },
  {
   "cell_type": "code",
   "execution_count": 42,
   "metadata": {},
   "outputs": [
    {
     "data": {
      "text/plain": [
       "<AxesSubplot:xlabel='Δημοτικό Διαμέρισμα', ylabel='logprice'>"
      ]
     },
     "execution_count": 42,
     "metadata": {},
     "output_type": "execute_result"
    },
    {
     "data": {
      "image/png": "[encoded data removed]",
      "text/plain": [
       "<Figure size 432x288 with 1 Axes>"
      ]
     },
     "metadata": {},
     "output_type": "display_data"
    }
   ],
   "source": [
    "sns.boxplot(x=\"Δημοτικό Διαμέρισμα\", y=\"logprice\", data=data_1)"
   ]
  },
  {
   "cell_type": "code",
   "execution_count": 38,
   "metadata": {},
   "outputs": [
    {
     "data": {
      "text/html": [
       "<div>\n",
       "<style scoped>\n",
       "    .dataframe tbody tr th:only-of-type {\n",
       "        vertical-align: middle;\n",
       "    }\n",
       "\n",
       "    .dataframe tbody tr th {\n",
       "        vertical-align: top;\n",
       "    }\n",
       "\n",
       "    .dataframe thead th {\n",
       "        text-align: right;\n",
       "    }\n",
       "</style>\n",
       "<table border=\"1\" class=\"dataframe\">\n",
       "  <thead>\n",
       "    <tr style=\"text-align: right;\">\n",
       "      <th></th>\n",
       "      <th>id</th>\n",
       "      <th>host_id</th>\n",
       "      <th>neighbourhood_group</th>\n",
       "      <th>latitude</th>\n",
       "      <th>longitude</th>\n",
       "      <th>price</th>\n",
       "      <th>minimum_nights</th>\n",
       "      <th>number_of_reviews</th>\n",
       "      <th>reviews_per_month</th>\n",
       "      <th>calculated_host_listings_count</th>\n",
       "      <th>availability_365</th>\n",
       "      <th>Μουσεία</th>\n",
       "      <th>top-10</th>\n",
       "      <th>logprice</th>\n",
       "    </tr>\n",
       "  </thead>\n",
       "  <tbody>\n",
       "    <tr>\n",
       "      <th>count</th>\n",
       "      <td>2.441000e+03</td>\n",
       "      <td>2.441000e+03</td>\n",
       "      <td>0.0</td>\n",
       "      <td>2441.000000</td>\n",
       "      <td>2441.000000</td>\n",
       "      <td>2441.000000</td>\n",
       "      <td>2441.000000</td>\n",
       "      <td>2441.000000</td>\n",
       "      <td>2071.000000</td>\n",
       "      <td>2441.000000</td>\n",
       "      <td>2441.000000</td>\n",
       "      <td>2441.000000</td>\n",
       "      <td>2441.000000</td>\n",
       "      <td>2441.000000</td>\n",
       "    </tr>\n",
       "    <tr>\n",
       "      <th>mean</th>\n",
       "      <td>2.992306e+07</td>\n",
       "      <td>1.511034e+08</td>\n",
       "      <td>NaN</td>\n",
       "      <td>40.628672</td>\n",
       "      <td>22.949787</td>\n",
       "      <td>58.073331</td>\n",
       "      <td>3.378533</td>\n",
       "      <td>34.503892</td>\n",
       "      <td>1.498344</td>\n",
       "      <td>5.337567</td>\n",
       "      <td>231.637853</td>\n",
       "      <td>0.813902</td>\n",
       "      <td>1.077872</td>\n",
       "      <td>3.750959</td>\n",
       "    </tr>\n",
       "    <tr>\n",
       "      <th>std</th>\n",
       "      <td>1.105068e+07</td>\n",
       "      <td>1.030073e+08</td>\n",
       "      <td>NaN</td>\n",
       "      <td>0.019217</td>\n",
       "      <td>0.017495</td>\n",
       "      <td>235.179474</td>\n",
       "      <td>15.720252</td>\n",
       "      <td>56.597566</td>\n",
       "      <td>1.541229</td>\n",
       "      <td>9.595505</td>\n",
       "      <td>127.369921</td>\n",
       "      <td>1.255992</td>\n",
       "      <td>1.335547</td>\n",
       "      <td>0.558465</td>\n",
       "    </tr>\n",
       "    <tr>\n",
       "      <th>min</th>\n",
       "      <td>3.526100e+04</td>\n",
       "      <td>1.208150e+05</td>\n",
       "      <td>NaN</td>\n",
       "      <td>40.554680</td>\n",
       "      <td>22.894960</td>\n",
       "      <td>9.000000</td>\n",
       "      <td>1.000000</td>\n",
       "      <td>0.000000</td>\n",
       "      <td>0.020000</td>\n",
       "      <td>1.000000</td>\n",
       "      <td>0.000000</td>\n",
       "      <td>0.002969</td>\n",
       "      <td>0.010741</td>\n",
       "      <td>2.197225</td>\n",
       "    </tr>\n",
       "    <tr>\n",
       "      <th>25%</th>\n",
       "      <td>2.189440e+07</td>\n",
       "      <td>5.311878e+07</td>\n",
       "      <td>NaN</td>\n",
       "      <td>40.619390</td>\n",
       "      <td>22.941420</td>\n",
       "      <td>30.000000</td>\n",
       "      <td>1.000000</td>\n",
       "      <td>2.000000</td>\n",
       "      <td>0.380000</td>\n",
       "      <td>1.000000</td>\n",
       "      <td>118.000000</td>\n",
       "      <td>0.213887</td>\n",
       "      <td>0.328960</td>\n",
       "      <td>3.401197</td>\n",
       "    </tr>\n",
       "    <tr>\n",
       "      <th>50%</th>\n",
       "      <td>3.170143e+07</td>\n",
       "      <td>1.463098e+08</td>\n",
       "      <td>NaN</td>\n",
       "      <td>40.633570</td>\n",
       "      <td>22.948420</td>\n",
       "      <td>40.000000</td>\n",
       "      <td>2.000000</td>\n",
       "      <td>13.000000</td>\n",
       "      <td>1.000000</td>\n",
       "      <td>2.000000</td>\n",
       "      <td>266.000000</td>\n",
       "      <td>0.359806</td>\n",
       "      <td>0.510242</td>\n",
       "      <td>3.688879</td>\n",
       "    </tr>\n",
       "    <tr>\n",
       "      <th>75%</th>\n",
       "      <td>3.922430e+07</td>\n",
       "      <td>2.367181e+08</td>\n",
       "      <td>NaN</td>\n",
       "      <td>40.639380</td>\n",
       "      <td>22.954680</td>\n",
       "      <td>55.000000</td>\n",
       "      <td>2.000000</td>\n",
       "      <td>40.000000</td>\n",
       "      <td>2.030000</td>\n",
       "      <td>5.000000</td>\n",
       "      <td>358.000000</td>\n",
       "      <td>0.740507</td>\n",
       "      <td>1.217116</td>\n",
       "      <td>4.007333</td>\n",
       "    </tr>\n",
       "    <tr>\n",
       "      <th>max</th>\n",
       "      <td>4.603885e+07</td>\n",
       "      <td>3.730006e+08</td>\n",
       "      <td>NaN</td>\n",
       "      <td>40.688390</td>\n",
       "      <td>23.100180</td>\n",
       "      <td>8000.000000</td>\n",
       "      <td>365.000000</td>\n",
       "      <td>502.000000</td>\n",
       "      <td>11.100000</td>\n",
       "      <td>55.000000</td>\n",
       "      <td>365.000000</td>\n",
       "      <td>11.692516</td>\n",
       "      <td>10.813272</td>\n",
       "      <td>8.987197</td>\n",
       "    </tr>\n",
       "  </tbody>\n",
       "</table>\n",
       "</div>"
      ],
      "text/plain": [
       "                 id       host_id  neighbourhood_group     latitude  \\\n",
       "count  2.441000e+03  2.441000e+03                  0.0  2441.000000   \n",
       "mean   2.992306e+07  1.511034e+08                  NaN    40.628672   \n",
       "std    1.105068e+07  1.030073e+08                  NaN     0.019217   \n",
       "min    3.526100e+04  1.208150e+05                  NaN    40.554680   \n",
       "25%    2.189440e+07  5.311878e+07                  NaN    40.619390   \n",
       "50%    3.170143e+07  1.463098e+08                  NaN    40.633570   \n",
       "75%    3.922430e+07  2.367181e+08                  NaN    40.639380   \n",
       "max    4.603885e+07  3.730006e+08                  NaN    40.688390   \n",
       "\n",
       "         longitude        price  minimum_nights  number_of_reviews  \\\n",
       "count  2441.000000  2441.000000     2441.000000        2441.000000   \n",
       "mean     22.949787    58.073331        3.378533          34.503892   \n",
       "std       0.017495   235.179474       15.720252          56.597566   \n",
       "min      22.894960     9.000000        1.000000           0.000000   \n",
       "25%      22.941420    30.000000        1.000000           2.000000   \n",
       "50%      22.948420    40.000000        2.000000          13.000000   \n",
       "75%      22.954680    55.000000        2.000000          40.000000   \n",
       "max      23.100180  8000.000000      365.000000         502.000000   \n",
       "\n",
       "       reviews_per_month  calculated_host_listings_count  availability_365  \\\n",
       "count        2071.000000                     2441.000000       2441.000000   \n",
       "mean            1.498344                        5.337567        231.637853   \n",
       "std             1.541229                        9.595505        127.369921   \n",
       "min             0.020000                        1.000000          0.000000   \n",
       "25%             0.380000                        1.000000        118.000000   \n",
       "50%             1.000000                        2.000000        266.000000   \n",
       "75%             2.030000                        5.000000        358.000000   \n",
       "max            11.100000                       55.000000        365.000000   \n",
       "\n",
       "           Μουσεία       top-10     logprice  \n",
       "count  2441.000000  2441.000000  2441.000000  \n",
       "mean      0.813902     1.077872     3.750959  \n",
       "std       1.255992     1.335547     0.558465  \n",
       "min       0.002969     0.010741     2.197225  \n",
       "25%       0.213887     0.328960     3.401197  \n",
       "50%       0.359806     0.510242     3.688879  \n",
       "75%       0.740507     1.217116     4.007333  \n",
       "max      11.692516    10.813272     8.987197  "
      ]
     },
     "execution_count": 38,
     "metadata": {},
     "output_type": "execute_result"
    }
   ],
   "source": [
    "logprice = [math.log(x) for x in thes['price']]\n",
    "thes['logprice']=logprice\n",
    "thes['availability_365'] = thes['availability_365'].astype('int')\n",
    "thes['calculated_host_listings_count'] = thes['calculated_host_listings_count'].astype('int')\n",
    "thes['price']=thes['price'].astype('float')\n",
    "thes.describe()"
   ]
  },
  {
   "cell_type": "code",
   "execution_count": 39,
   "metadata": {},
   "outputs": [
    {
     "data": {
      "text/html": [
       "<div>\n",
       "<style scoped>\n",
       "    .dataframe tbody tr th:only-of-type {\n",
       "        vertical-align: middle;\n",
       "    }\n",
       "\n",
       "    .dataframe tbody tr th {\n",
       "        vertical-align: top;\n",
       "    }\n",
       "\n",
       "    .dataframe thead th {\n",
       "        text-align: right;\n",
       "    }\n",
       "</style>\n",
       "<table border=\"1\" class=\"dataframe\">\n",
       "  <thead>\n",
       "    <tr style=\"text-align: right;\">\n",
       "      <th></th>\n",
       "      <th>price</th>\n",
       "    </tr>\n",
       "    <tr>\n",
       "      <th>neighbourhood</th>\n",
       "      <th></th>\n",
       "    </tr>\n",
       "  </thead>\n",
       "  <tbody>\n",
       "    <tr>\n",
       "      <th>Ampelokipon – Menemeni</th>\n",
       "      <td>36.256410</td>\n",
       "    </tr>\n",
       "    <tr>\n",
       "      <th>Kalamaria</th>\n",
       "      <td>55.321429</td>\n",
       "    </tr>\n",
       "    <tr>\n",
       "      <th>Kordelio – Evosmos</th>\n",
       "      <td>54.000000</td>\n",
       "    </tr>\n",
       "    <tr>\n",
       "      <th>Neapolis – Sykeon</th>\n",
       "      <td>39.015625</td>\n",
       "    </tr>\n",
       "    <tr>\n",
       "      <th>Pavlou Mela</th>\n",
       "      <td>46.444444</td>\n",
       "    </tr>\n",
       "    <tr>\n",
       "      <th>Pilea – Chortiatis</th>\n",
       "      <td>114.202532</td>\n",
       "    </tr>\n",
       "    <tr>\n",
       "      <th>Thessaloniki</th>\n",
       "      <td>57.368166</td>\n",
       "    </tr>\n",
       "  </tbody>\n",
       "</table>\n",
       "</div>"
      ],
      "text/plain": [
       "                             price\n",
       "neighbourhood                     \n",
       "Ampelokipon – Menemeni   36.256410\n",
       "Kalamaria                55.321429\n",
       "Kordelio – Evosmos       54.000000\n",
       "Neapolis – Sykeon        39.015625\n",
       "Pavlou Mela              46.444444\n",
       "Pilea – Chortiatis      114.202532\n",
       "Thessaloniki             57.368166"
      ]
     },
     "execution_count": 39,
     "metadata": {},
     "output_type": "execute_result"
    }
   ],
   "source": [
    "thes[[\"neighbourhood\", \"price\"]].groupby(\"neighbourhood\").mean()"
   ]
  },
  {
   "cell_type": "code",
   "execution_count": 40,
   "metadata": {},
   "outputs": [
    {
     "data": {
      "text/html": [
       "<div>\n",
       "<style scoped>\n",
       "    .dataframe tbody tr th:only-of-type {\n",
       "        vertical-align: middle;\n",
       "    }\n",
       "\n",
       "    .dataframe tbody tr th {\n",
       "        vertical-align: top;\n",
       "    }\n",
       "\n",
       "    .dataframe thead th {\n",
       "        text-align: right;\n",
       "    }\n",
       "</style>\n",
       "<table border=\"1\" class=\"dataframe\">\n",
       "  <thead>\n",
       "    <tr style=\"text-align: right;\">\n",
       "      <th></th>\n",
       "      <th>price</th>\n",
       "    </tr>\n",
       "    <tr>\n",
       "      <th>neighbourhood</th>\n",
       "      <th></th>\n",
       "    </tr>\n",
       "  </thead>\n",
       "  <tbody>\n",
       "    <tr>\n",
       "      <th>Ampelokipon – Menemeni</th>\n",
       "      <td>32.0</td>\n",
       "    </tr>\n",
       "    <tr>\n",
       "      <th>Kalamaria</th>\n",
       "      <td>47.5</td>\n",
       "    </tr>\n",
       "    <tr>\n",
       "      <th>Kordelio – Evosmos</th>\n",
       "      <td>36.5</td>\n",
       "    </tr>\n",
       "    <tr>\n",
       "      <th>Neapolis – Sykeon</th>\n",
       "      <td>32.0</td>\n",
       "    </tr>\n",
       "    <tr>\n",
       "      <th>Pavlou Mela</th>\n",
       "      <td>37.5</td>\n",
       "    </tr>\n",
       "    <tr>\n",
       "      <th>Pilea – Chortiatis</th>\n",
       "      <td>50.0</td>\n",
       "    </tr>\n",
       "    <tr>\n",
       "      <th>Thessaloniki</th>\n",
       "      <td>40.0</td>\n",
       "    </tr>\n",
       "  </tbody>\n",
       "</table>\n",
       "</div>"
      ],
      "text/plain": [
       "                        price\n",
       "neighbourhood                \n",
       "Ampelokipon – Menemeni   32.0\n",
       "Kalamaria                47.5\n",
       "Kordelio – Evosmos       36.5\n",
       "Neapolis – Sykeon        32.0\n",
       "Pavlou Mela              37.5\n",
       "Pilea – Chortiatis       50.0\n",
       "Thessaloniki             40.0"
      ]
     },
     "execution_count": 40,
     "metadata": {},
     "output_type": "execute_result"
    }
   ],
   "source": [
    "thes[[\"neighbourhood\", \"price\"]].groupby(\"neighbourhood\").median()"
   ]
  },
  {
   "cell_type": "code",
   "execution_count": 41,
   "metadata": {},
   "outputs": [
    {
     "data": {
      "image/png": "[encoded data removed]",
      "text/plain": [
       "<Figure size 432x288 with 1 Axes>"
      ]
     },
     "metadata": {},
     "output_type": "display_data"
    }
   ],
   "source": [
    "thes.groupby(['neighbourhood','room_type']).size().unstack().plot(kind='bar',stacked=True)\n",
    "plt.show()"
   ]
  },
  {
   "cell_type": "code",
   "execution_count": 42,
   "metadata": {},
   "outputs": [
    {
     "name": "stderr",
     "output_type": "stream",
     "text": [
      "C:\\Users\\IOANNIS\\anaconda3\\envs\\geo\\lib\\site-packages\\seaborn\\distributions.py:2551: FutureWarning: `distplot` is a deprecated function and will be removed in a future version. Please adapt your code to use either `displot` (a figure-level function with similar flexibility) or `histplot` (an axes-level function for histograms).\n",
      "  warnings.warn(msg, FutureWarning)\n"
     ]
    },
    {
     "data": {
      "text/plain": [
       "<AxesSubplot:xlabel='price', ylabel='Density'>"
      ]
     },
     "execution_count": 42,
     "metadata": {},
     "output_type": "execute_result"
    },
    {
     "data": {
      "image/png": "[encoded data removed]",
      "text/plain": [
       "<Figure size 432x288 with 1 Axes>"
      ]
     },
     "metadata": {},
     "output_type": "display_data"
    }
   ],
   "source": [
    "sns.distplot(thes['price'])"
   ]
  },
  {
   "cell_type": "code",
   "execution_count": 43,
   "metadata": {},
   "outputs": [
    {
     "name": "stderr",
     "output_type": "stream",
     "text": [
      "C:\\Users\\IOANNIS\\anaconda3\\envs\\geo\\lib\\site-packages\\seaborn\\distributions.py:2551: FutureWarning: `distplot` is a deprecated function and will be removed in a future version. Please adapt your code to use either `displot` (a figure-level function with similar flexibility) or `histplot` (an axes-level function for histograms).\n",
      "  warnings.warn(msg, FutureWarning)\n"
     ]
    },
    {
     "data": {
      "text/plain": [
       "<AxesSubplot:xlabel='price', ylabel='Density'>"
      ]
     },
     "execution_count": 43,
     "metadata": {},
     "output_type": "execute_result"
    },
    {
     "data": {
      "image/png": "[encoded data removed]",
      "text/plain": [
       "<Figure size 432x288 with 1 Axes>"
      ]
     },
     "metadata": {},
     "output_type": "display_data"
    }
   ],
   "source": [
    "#briskoume apo to grafhma thn timh pou einai sto 99% kathws einai ektos oriwn\n",
    "q = thes['price'].quantile(0.98)\n",
    "data_1 = thes[thes.price < q].copy()\n",
    "\n",
    "\n",
    "sns.distplot(data_1['price'])"
   ]
  },
  {
   "cell_type": "code",
   "execution_count": 45,
   "metadata": {},
   "outputs": [
    {
     "name": "stderr",
     "output_type": "stream",
     "text": [
      "C:\\Users\\IOANNIS\\anaconda3\\envs\\geo\\lib\\site-packages\\seaborn\\distributions.py:2551: FutureWarning: `distplot` is a deprecated function and will be removed in a future version. Please adapt your code to use either `displot` (a figure-level function with similar flexibility) or `histplot` (an axes-level function for histograms).\n",
      "  warnings.warn(msg, FutureWarning)\n"
     ]
    },
    {
     "data": {
      "text/plain": [
       "<AxesSubplot:xlabel='logprice', ylabel='Density'>"
      ]
     },
     "execution_count": 45,
     "metadata": {},
     "output_type": "execute_result"
    },
    {
     "data": {
      "image/png": "[encoded data removed]",
      "text/plain": [
       "<Figure size 432x288 with 1 Axes>"
      ]
     },
     "metadata": {},
     "output_type": "display_data"
    }
   ],
   "source": [
    "logprice = [math.log(x) for x in data_1['price']]\n",
    "#ax = sns.violinplot(x=\"room_type\", y=\"logprice\" ,data=ath)\n",
    "data_1['logprice']=logprice\n",
    "sns.distplot(data_1['logprice'])"
   ]
  },
  {
   "cell_type": "code",
   "execution_count": 46,
   "metadata": {},
   "outputs": [
    {
     "data": {
      "text/plain": [
       "<AxesSubplot:xlabel='neighbourhood', ylabel='price'>"
      ]
     },
     "execution_count": 46,
     "metadata": {},
     "output_type": "execute_result"
    },
    {
     "data": {
      "image/png": "[encoded data removed]",
      "text/plain": [
       "<Figure size 1152x432 with 1 Axes>"
      ]
     },
     "metadata": {},
     "output_type": "display_data"
    }
   ],
   "source": [
    "plt.figure(figsize=(16, 6))\n",
    "\n",
    "sns.boxplot(x=\"neighbourhood\", y=\"price\", data=data_1)"
   ]
  },
  {
   "cell_type": "code",
   "execution_count": 47,
   "metadata": {},
   "outputs": [
    {
     "data": {
      "text/html": [
       "<div>\n",
       "<style scoped>\n",
       "    .dataframe tbody tr th:only-of-type {\n",
       "        vertical-align: middle;\n",
       "    }\n",
       "\n",
       "    .dataframe tbody tr th {\n",
       "        vertical-align: top;\n",
       "    }\n",
       "\n",
       "    .dataframe thead th {\n",
       "        text-align: right;\n",
       "    }\n",
       "</style>\n",
       "<table border=\"1\" class=\"dataframe\">\n",
       "  <thead>\n",
       "    <tr style=\"text-align: right;\">\n",
       "      <th></th>\n",
       "      <th>id</th>\n",
       "      <th>latitude</th>\n",
       "      <th>longitude</th>\n",
       "      <th>room_type</th>\n",
       "      <th>price</th>\n",
       "      <th>minimum_nights</th>\n",
       "      <th>reviews_per_month</th>\n",
       "      <th>calculated_host_listings_count</th>\n",
       "      <th>availability_365</th>\n",
       "      <th>top-10</th>\n",
       "      <th>NOMOS</th>\n",
       "      <th>logprice</th>\n",
       "    </tr>\n",
       "  </thead>\n",
       "  <tbody>\n",
       "    <tr>\n",
       "      <th>count</th>\n",
       "      <td>29601.0</td>\n",
       "      <td>29601.000000</td>\n",
       "      <td>29601.000000</td>\n",
       "      <td>29601</td>\n",
       "      <td>29601.000000</td>\n",
       "      <td>29601.0</td>\n",
       "      <td>21907.000000</td>\n",
       "      <td>29601.000000</td>\n",
       "      <td>29601.000000</td>\n",
       "      <td>29601.000000</td>\n",
       "      <td>29601</td>\n",
       "      <td>29601.000000</td>\n",
       "    </tr>\n",
       "    <tr>\n",
       "      <th>unique</th>\n",
       "      <td>29601.0</td>\n",
       "      <td>NaN</td>\n",
       "      <td>NaN</td>\n",
       "      <td>4</td>\n",
       "      <td>NaN</td>\n",
       "      <td>58.0</td>\n",
       "      <td>NaN</td>\n",
       "      <td>NaN</td>\n",
       "      <td>NaN</td>\n",
       "      <td>NaN</td>\n",
       "      <td>6</td>\n",
       "      <td>NaN</td>\n",
       "    </tr>\n",
       "    <tr>\n",
       "      <th>top</th>\n",
       "      <td>24641534.0</td>\n",
       "      <td>NaN</td>\n",
       "      <td>NaN</td>\n",
       "      <td>Entire home/apt</td>\n",
       "      <td>NaN</td>\n",
       "      <td>1.0</td>\n",
       "      <td>NaN</td>\n",
       "      <td>NaN</td>\n",
       "      <td>NaN</td>\n",
       "      <td>NaN</td>\n",
       "      <td>ΑΤΤΙΚΗΣ</td>\n",
       "      <td>NaN</td>\n",
       "    </tr>\n",
       "    <tr>\n",
       "      <th>freq</th>\n",
       "      <td>1.0</td>\n",
       "      <td>NaN</td>\n",
       "      <td>NaN</td>\n",
       "      <td>26146</td>\n",
       "      <td>NaN</td>\n",
       "      <td>9175.0</td>\n",
       "      <td>NaN</td>\n",
       "      <td>NaN</td>\n",
       "      <td>NaN</td>\n",
       "      <td>NaN</td>\n",
       "      <td>9455</td>\n",
       "      <td>NaN</td>\n",
       "    </tr>\n",
       "    <tr>\n",
       "      <th>mean</th>\n",
       "      <td>NaN</td>\n",
       "      <td>36.626944</td>\n",
       "      <td>24.182535</td>\n",
       "      <td>NaN</td>\n",
       "      <td>123.787102</td>\n",
       "      <td>NaN</td>\n",
       "      <td>1.022158</td>\n",
       "      <td>14.261849</td>\n",
       "      <td>250.888112</td>\n",
       "      <td>7.573162</td>\n",
       "      <td>NaN</td>\n",
       "      <td>4.194017</td>\n",
       "    </tr>\n",
       "    <tr>\n",
       "      <th>std</th>\n",
       "      <td>NaN</td>\n",
       "      <td>1.700171</td>\n",
       "      <td>0.752269</td>\n",
       "      <td>NaN</td>\n",
       "      <td>471.061723</td>\n",
       "      <td>NaN</td>\n",
       "      <td>1.335910</td>\n",
       "      <td>32.484490</td>\n",
       "      <td>118.680398</td>\n",
       "      <td>10.412882</td>\n",
       "      <td>NaN</td>\n",
       "      <td>0.837741</td>\n",
       "    </tr>\n",
       "    <tr>\n",
       "      <th>min</th>\n",
       "      <td>NaN</td>\n",
       "      <td>34.834420</td>\n",
       "      <td>22.894960</td>\n",
       "      <td>NaN</td>\n",
       "      <td>8.000000</td>\n",
       "      <td>NaN</td>\n",
       "      <td>0.010000</td>\n",
       "      <td>1.000000</td>\n",
       "      <td>0.000000</td>\n",
       "      <td>0.003429</td>\n",
       "      <td>NaN</td>\n",
       "      <td>2.079442</td>\n",
       "    </tr>\n",
       "    <tr>\n",
       "      <th>25%</th>\n",
       "      <td>NaN</td>\n",
       "      <td>35.339410</td>\n",
       "      <td>23.727700</td>\n",
       "      <td>NaN</td>\n",
       "      <td>38.000000</td>\n",
       "      <td>NaN</td>\n",
       "      <td>0.180000</td>\n",
       "      <td>1.000000</td>\n",
       "      <td>174.000000</td>\n",
       "      <td>0.631737</td>\n",
       "      <td>NaN</td>\n",
       "      <td>3.637586</td>\n",
       "    </tr>\n",
       "    <tr>\n",
       "      <th>50%</th>\n",
       "      <td>NaN</td>\n",
       "      <td>35.512740</td>\n",
       "      <td>23.961870</td>\n",
       "      <td>NaN</td>\n",
       "      <td>57.000000</td>\n",
       "      <td>NaN</td>\n",
       "      <td>0.520000</td>\n",
       "      <td>3.000000</td>\n",
       "      <td>295.000000</td>\n",
       "      <td>2.247747</td>\n",
       "      <td>NaN</td>\n",
       "      <td>4.043051</td>\n",
       "    </tr>\n",
       "    <tr>\n",
       "      <th>75%</th>\n",
       "      <td>NaN</td>\n",
       "      <td>37.977910</td>\n",
       "      <td>24.590430</td>\n",
       "      <td>NaN</td>\n",
       "      <td>100.000000</td>\n",
       "      <td>NaN</td>\n",
       "      <td>1.270000</td>\n",
       "      <td>8.000000</td>\n",
       "      <td>362.000000</td>\n",
       "      <td>11.516122</td>\n",
       "      <td>NaN</td>\n",
       "      <td>4.605170</td>\n",
       "    </tr>\n",
       "    <tr>\n",
       "      <th>max</th>\n",
       "      <td>NaN</td>\n",
       "      <td>40.688390</td>\n",
       "      <td>26.277830</td>\n",
       "      <td>NaN</td>\n",
       "      <td>20653.000000</td>\n",
       "      <td>NaN</td>\n",
       "      <td>14.210000</td>\n",
       "      <td>190.000000</td>\n",
       "      <td>365.000000</td>\n",
       "      <td>54.727854</td>\n",
       "      <td>NaN</td>\n",
       "      <td>9.935616</td>\n",
       "    </tr>\n",
       "  </tbody>\n",
       "</table>\n",
       "</div>"
      ],
      "text/plain": [
       "                id      latitude     longitude        room_type         price  \\\n",
       "count      29601.0  29601.000000  29601.000000            29601  29601.000000   \n",
       "unique     29601.0           NaN           NaN                4           NaN   \n",
       "top     24641534.0           NaN           NaN  Entire home/apt           NaN   \n",
       "freq           1.0           NaN           NaN            26146           NaN   \n",
       "mean           NaN     36.626944     24.182535              NaN    123.787102   \n",
       "std            NaN      1.700171      0.752269              NaN    471.061723   \n",
       "min            NaN     34.834420     22.894960              NaN      8.000000   \n",
       "25%            NaN     35.339410     23.727700              NaN     38.000000   \n",
       "50%            NaN     35.512740     23.961870              NaN     57.000000   \n",
       "75%            NaN     37.977910     24.590430              NaN    100.000000   \n",
       "max            NaN     40.688390     26.277830              NaN  20653.000000   \n",
       "\n",
       "        minimum_nights  reviews_per_month  calculated_host_listings_count  \\\n",
       "count          29601.0       21907.000000                    29601.000000   \n",
       "unique            58.0                NaN                             NaN   \n",
       "top                1.0                NaN                             NaN   \n",
       "freq            9175.0                NaN                             NaN   \n",
       "mean               NaN           1.022158                       14.261849   \n",
       "std                NaN           1.335910                       32.484490   \n",
       "min                NaN           0.010000                        1.000000   \n",
       "25%                NaN           0.180000                        1.000000   \n",
       "50%                NaN           0.520000                        3.000000   \n",
       "75%                NaN           1.270000                        8.000000   \n",
       "max                NaN          14.210000                      190.000000   \n",
       "\n",
       "        availability_365        top-10    NOMOS      logprice  \n",
       "count       29601.000000  29601.000000    29601  29601.000000  \n",
       "unique               NaN           NaN        6           NaN  \n",
       "top                  NaN           NaN  ΑΤΤΙΚΗΣ           NaN  \n",
       "freq                 NaN           NaN     9455           NaN  \n",
       "mean          250.888112      7.573162      NaN      4.194017  \n",
       "std           118.680398     10.412882      NaN      0.837741  \n",
       "min             0.000000      0.003429      NaN      2.079442  \n",
       "25%           174.000000      0.631737      NaN      3.637586  \n",
       "50%           295.000000      2.247747      NaN      4.043051  \n",
       "75%           362.000000     11.516122      NaN      4.605170  \n",
       "max           365.000000     54.727854      NaN      9.935616  "
      ]
     },
     "execution_count": 47,
     "metadata": {},
     "output_type": "execute_result"
    }
   ],
   "source": [
    "#δεν χρειαζομασε το host_id,neighbourhood,longitude,latitude\n",
    "data=greece.drop(['host_id','last_review','number_of_reviews','neighbourhood'],axis=1)\n",
    "\n",
    "data.describe(include='all')"
   ]
  },
  {
   "cell_type": "code",
   "execution_count": 48,
   "metadata": {},
   "outputs": [
    {
     "name": "stderr",
     "output_type": "stream",
     "text": [
      "C:\\Users\\IOANNIS\\anaconda3\\envs\\geo\\lib\\site-packages\\seaborn\\distributions.py:2551: FutureWarning: `distplot` is a deprecated function and will be removed in a future version. Please adapt your code to use either `displot` (a figure-level function with similar flexibility) or `histplot` (an axes-level function for histograms).\n",
      "  warnings.warn(msg, FutureWarning)\n"
     ]
    },
    {
     "data": {
      "text/plain": [
       "<AxesSubplot:xlabel='logprice', ylabel='Density'>"
      ]
     },
     "execution_count": 48,
     "metadata": {},
     "output_type": "execute_result"
    },
    {
     "data": {
      "image/png": "[encoded data removed]",
      "text/plain": [
       "<Figure size 432x288 with 1 Axes>"
      ]
     },
     "metadata": {},
     "output_type": "display_data"
    }
   ],
   "source": [
    "\n",
    "sns.distplot(greece['logprice'])"
   ]
  },
  {
   "cell_type": "code",
   "execution_count": 167,
   "metadata": {},
   "outputs": [],
   "source": [
    "data['id'] = data['id'].astype('int')\n",
    "data['minimum_nights'] = data['minimum_nights'].astype('int')"
   ]
  },
  {
   "cell_type": "code",
   "execution_count": 168,
   "metadata": {},
   "outputs": [],
   "source": [
    "data_with_dummies = pd.get_dummies(data, drop_first=True)"
   ]
  },
  {
   "cell_type": "code",
   "execution_count": 169,
   "metadata": {},
   "outputs": [
    {
     "data": {
      "text/html": [
       "<div>\n",
       "<style scoped>\n",
       "    .dataframe tbody tr th:only-of-type {\n",
       "        vertical-align: middle;\n",
       "    }\n",
       "\n",
       "    .dataframe tbody tr th {\n",
       "        vertical-align: top;\n",
       "    }\n",
       "\n",
       "    .dataframe thead th {\n",
       "        text-align: right;\n",
       "    }\n",
       "</style>\n",
       "<table border=\"1\" class=\"dataframe\">\n",
       "  <thead>\n",
       "    <tr style=\"text-align: right;\">\n",
       "      <th></th>\n",
       "      <th>id</th>\n",
       "      <th>latitude</th>\n",
       "      <th>longitude</th>\n",
       "      <th>price</th>\n",
       "      <th>minimum_nights</th>\n",
       "      <th>reviews_per_month</th>\n",
       "      <th>calculated_host_listings_count</th>\n",
       "      <th>availability_365</th>\n",
       "      <th>top-10</th>\n",
       "      <th>logprice</th>\n",
       "      <th>room_type_Hotel room</th>\n",
       "      <th>room_type_Private room</th>\n",
       "      <th>room_type_Shared room</th>\n",
       "      <th>NOMOS_ΗΡΑΚΛΕΙΟΥ</th>\n",
       "      <th>NOMOS_ΘΕΣΣΑΛΟΝΙΚΗΣ</th>\n",
       "      <th>NOMOS_ΛΑΣΙΘΙΟΥ</th>\n",
       "      <th>NOMOS_ΡΕΘΥΜΝΗΣ</th>\n",
       "      <th>NOMOS_ΧΑΝΙΩΝ</th>\n",
       "    </tr>\n",
       "  </thead>\n",
       "  <tbody>\n",
       "    <tr>\n",
       "      <th>0</th>\n",
       "      <td>10595</td>\n",
       "      <td>37.98863</td>\n",
       "      <td>23.76527</td>\n",
       "      <td>60.0</td>\n",
       "      <td>2</td>\n",
       "      <td>0.23</td>\n",
       "      <td>6</td>\n",
       "      <td>339</td>\n",
       "      <td>2.016581</td>\n",
       "      <td>4.094345</td>\n",
       "      <td>0</td>\n",
       "      <td>0</td>\n",
       "      <td>0</td>\n",
       "      <td>0</td>\n",
       "      <td>0</td>\n",
       "      <td>0</td>\n",
       "      <td>0</td>\n",
       "      <td>0</td>\n",
       "    </tr>\n",
       "    <tr>\n",
       "      <th>1</th>\n",
       "      <td>10990</td>\n",
       "      <td>37.98903</td>\n",
       "      <td>23.76448</td>\n",
       "      <td>36.0</td>\n",
       "      <td>1</td>\n",
       "      <td>0.41</td>\n",
       "      <td>6</td>\n",
       "      <td>151</td>\n",
       "      <td>1.964837</td>\n",
       "      <td>3.583519</td>\n",
       "      <td>0</td>\n",
       "      <td>0</td>\n",
       "      <td>0</td>\n",
       "      <td>0</td>\n",
       "      <td>0</td>\n",
       "      <td>0</td>\n",
       "      <td>0</td>\n",
       "      <td>0</td>\n",
       "    </tr>\n",
       "    <tr>\n",
       "      <th>2</th>\n",
       "      <td>10993</td>\n",
       "      <td>37.98888</td>\n",
       "      <td>23.76473</td>\n",
       "      <td>33.0</td>\n",
       "      <td>1</td>\n",
       "      <td>0.53</td>\n",
       "      <td>6</td>\n",
       "      <td>274</td>\n",
       "      <td>1.980157</td>\n",
       "      <td>3.496508</td>\n",
       "      <td>0</td>\n",
       "      <td>0</td>\n",
       "      <td>0</td>\n",
       "      <td>0</td>\n",
       "      <td>0</td>\n",
       "      <td>0</td>\n",
       "      <td>0</td>\n",
       "      <td>0</td>\n",
       "    </tr>\n",
       "    <tr>\n",
       "      <th>3</th>\n",
       "      <td>10995</td>\n",
       "      <td>37.98903</td>\n",
       "      <td>23.76448</td>\n",
       "      <td>36.0</td>\n",
       "      <td>1</td>\n",
       "      <td>0.18</td>\n",
       "      <td>6</td>\n",
       "      <td>154</td>\n",
       "      <td>1.964837</td>\n",
       "      <td>3.583519</td>\n",
       "      <td>0</td>\n",
       "      <td>0</td>\n",
       "      <td>0</td>\n",
       "      <td>0</td>\n",
       "      <td>0</td>\n",
       "      <td>0</td>\n",
       "      <td>0</td>\n",
       "      <td>0</td>\n",
       "    </tr>\n",
       "    <tr>\n",
       "      <th>4</th>\n",
       "      <td>27262</td>\n",
       "      <td>37.98924</td>\n",
       "      <td>23.76500</td>\n",
       "      <td>38.0</td>\n",
       "      <td>1</td>\n",
       "      <td>0.17</td>\n",
       "      <td>6</td>\n",
       "      <td>140</td>\n",
       "      <td>2.015571</td>\n",
       "      <td>3.637586</td>\n",
       "      <td>0</td>\n",
       "      <td>0</td>\n",
       "      <td>0</td>\n",
       "      <td>0</td>\n",
       "      <td>0</td>\n",
       "      <td>0</td>\n",
       "      <td>0</td>\n",
       "      <td>0</td>\n",
       "    </tr>\n",
       "  </tbody>\n",
       "</table>\n",
       "</div>"
      ],
      "text/plain": [
       "      id  latitude  longitude  price  minimum_nights  reviews_per_month  \\\n",
       "0  10595  37.98863   23.76527   60.0               2               0.23   \n",
       "1  10990  37.98903   23.76448   36.0               1               0.41   \n",
       "2  10993  37.98888   23.76473   33.0               1               0.53   \n",
       "3  10995  37.98903   23.76448   36.0               1               0.18   \n",
       "4  27262  37.98924   23.76500   38.0               1               0.17   \n",
       "\n",
       "   calculated_host_listings_count  availability_365    top-10  logprice  \\\n",
       "0                               6               339  2.016581  4.094345   \n",
       "1                               6               151  1.964837  3.583519   \n",
       "2                               6               274  1.980157  3.496508   \n",
       "3                               6               154  1.964837  3.583519   \n",
       "4                               6               140  2.015571  3.637586   \n",
       "\n",
       "   room_type_Hotel room  room_type_Private room  room_type_Shared room  \\\n",
       "0                     0                       0                      0   \n",
       "1                     0                       0                      0   \n",
       "2                     0                       0                      0   \n",
       "3                     0                       0                      0   \n",
       "4                     0                       0                      0   \n",
       "\n",
       "   NOMOS_ΗΡΑΚΛΕΙΟΥ  NOMOS_ΘΕΣΣΑΛΟΝΙΚΗΣ  NOMOS_ΛΑΣΙΘΙΟΥ  NOMOS_ΡΕΘΥΜΝΗΣ  \\\n",
       "0                0                   0               0               0   \n",
       "1                0                   0               0               0   \n",
       "2                0                   0               0               0   \n",
       "3                0                   0               0               0   \n",
       "4                0                   0               0               0   \n",
       "\n",
       "   NOMOS_ΧΑΝΙΩΝ  \n",
       "0             0  \n",
       "1             0  \n",
       "2             0  \n",
       "3             0  \n",
       "4             0  "
      ]
     },
     "execution_count": 169,
     "metadata": {},
     "output_type": "execute_result"
    }
   ],
   "source": [
    "data_with_dummies.head()"
   ]
  },
  {
   "cell_type": "code",
   "execution_count": 170,
   "metadata": {},
   "outputs": [
    {
     "data": {
      "text/html": [
       "<div>\n",
       "<style scoped>\n",
       "    .dataframe tbody tr th:only-of-type {\n",
       "        vertical-align: middle;\n",
       "    }\n",
       "\n",
       "    .dataframe tbody tr th {\n",
       "        vertical-align: top;\n",
       "    }\n",
       "\n",
       "    .dataframe thead th {\n",
       "        text-align: right;\n",
       "    }\n",
       "</style>\n",
       "<table border=\"1\" class=\"dataframe\">\n",
       "  <thead>\n",
       "    <tr style=\"text-align: right;\">\n",
       "      <th></th>\n",
       "      <th>id</th>\n",
       "      <th>latitude</th>\n",
       "      <th>longitude</th>\n",
       "      <th>price</th>\n",
       "      <th>minimum_nights</th>\n",
       "      <th>reviews_per_month</th>\n",
       "      <th>calculated_host_listings_count</th>\n",
       "      <th>availability_365</th>\n",
       "      <th>top-10</th>\n",
       "      <th>logprice</th>\n",
       "      <th>room_type_Hotel room</th>\n",
       "      <th>room_type_Private room</th>\n",
       "      <th>room_type_Shared room</th>\n",
       "      <th>NOMOS_ΗΡΑΚΛΕΙΟΥ</th>\n",
       "      <th>NOMOS_ΘΕΣΣΑΛΟΝΙΚΗΣ</th>\n",
       "      <th>NOMOS_ΛΑΣΙΘΙΟΥ</th>\n",
       "      <th>NOMOS_ΡΕΘΥΜΝΗΣ</th>\n",
       "      <th>NOMOS_ΧΑΝΙΩΝ</th>\n",
       "    </tr>\n",
       "  </thead>\n",
       "  <tbody>\n",
       "    <tr>\n",
       "      <th>count</th>\n",
       "      <td>2.960100e+04</td>\n",
       "      <td>29601.000000</td>\n",
       "      <td>29601.000000</td>\n",
       "      <td>29601.000000</td>\n",
       "      <td>29601.000000</td>\n",
       "      <td>21907.000000</td>\n",
       "      <td>29601.000000</td>\n",
       "      <td>29601.000000</td>\n",
       "      <td>29601.000000</td>\n",
       "      <td>29601.000000</td>\n",
       "      <td>29601.000000</td>\n",
       "      <td>29601.000000</td>\n",
       "      <td>29601.000000</td>\n",
       "      <td>29601.000000</td>\n",
       "      <td>29601.000000</td>\n",
       "      <td>29601.000000</td>\n",
       "      <td>29601.000000</td>\n",
       "      <td>29601.000000</td>\n",
       "    </tr>\n",
       "    <tr>\n",
       "      <th>mean</th>\n",
       "      <td>2.689202e+07</td>\n",
       "      <td>36.626944</td>\n",
       "      <td>24.182535</td>\n",
       "      <td>123.787102</td>\n",
       "      <td>3.331306</td>\n",
       "      <td>1.022158</td>\n",
       "      <td>14.261849</td>\n",
       "      <td>250.888112</td>\n",
       "      <td>7.573162</td>\n",
       "      <td>4.194017</td>\n",
       "      <td>0.022871</td>\n",
       "      <td>0.090774</td>\n",
       "      <td>0.003074</td>\n",
       "      <td>0.145502</td>\n",
       "      <td>0.082463</td>\n",
       "      <td>0.071687</td>\n",
       "      <td>0.119388</td>\n",
       "      <td>0.261545</td>\n",
       "    </tr>\n",
       "    <tr>\n",
       "      <th>std</th>\n",
       "      <td>1.240322e+07</td>\n",
       "      <td>1.700171</td>\n",
       "      <td>0.752269</td>\n",
       "      <td>471.061723</td>\n",
       "      <td>12.205423</td>\n",
       "      <td>1.335910</td>\n",
       "      <td>32.484490</td>\n",
       "      <td>118.680398</td>\n",
       "      <td>10.412882</td>\n",
       "      <td>0.837741</td>\n",
       "      <td>0.149494</td>\n",
       "      <td>0.287292</td>\n",
       "      <td>0.055361</td>\n",
       "      <td>0.352612</td>\n",
       "      <td>0.275074</td>\n",
       "      <td>0.257973</td>\n",
       "      <td>0.324250</td>\n",
       "      <td>0.439484</td>\n",
       "    </tr>\n",
       "    <tr>\n",
       "      <th>min</th>\n",
       "      <td>1.059500e+04</td>\n",
       "      <td>34.834420</td>\n",
       "      <td>22.894960</td>\n",
       "      <td>8.000000</td>\n",
       "      <td>1.000000</td>\n",
       "      <td>0.010000</td>\n",
       "      <td>1.000000</td>\n",
       "      <td>0.000000</td>\n",
       "      <td>0.003429</td>\n",
       "      <td>2.079442</td>\n",
       "      <td>0.000000</td>\n",
       "      <td>0.000000</td>\n",
       "      <td>0.000000</td>\n",
       "      <td>0.000000</td>\n",
       "      <td>0.000000</td>\n",
       "      <td>0.000000</td>\n",
       "      <td>0.000000</td>\n",
       "      <td>0.000000</td>\n",
       "    </tr>\n",
       "    <tr>\n",
       "      <th>25%</th>\n",
       "      <td>1.801214e+07</td>\n",
       "      <td>35.339410</td>\n",
       "      <td>23.727700</td>\n",
       "      <td>38.000000</td>\n",
       "      <td>1.000000</td>\n",
       "      <td>0.180000</td>\n",
       "      <td>1.000000</td>\n",
       "      <td>174.000000</td>\n",
       "      <td>0.631737</td>\n",
       "      <td>3.637586</td>\n",
       "      <td>0.000000</td>\n",
       "      <td>0.000000</td>\n",
       "      <td>0.000000</td>\n",
       "      <td>0.000000</td>\n",
       "      <td>0.000000</td>\n",
       "      <td>0.000000</td>\n",
       "      <td>0.000000</td>\n",
       "      <td>0.000000</td>\n",
       "    </tr>\n",
       "    <tr>\n",
       "      <th>50%</th>\n",
       "      <td>2.737895e+07</td>\n",
       "      <td>35.512740</td>\n",
       "      <td>23.961870</td>\n",
       "      <td>57.000000</td>\n",
       "      <td>2.000000</td>\n",
       "      <td>0.520000</td>\n",
       "      <td>3.000000</td>\n",
       "      <td>295.000000</td>\n",
       "      <td>2.247747</td>\n",
       "      <td>4.043051</td>\n",
       "      <td>0.000000</td>\n",
       "      <td>0.000000</td>\n",
       "      <td>0.000000</td>\n",
       "      <td>0.000000</td>\n",
       "      <td>0.000000</td>\n",
       "      <td>0.000000</td>\n",
       "      <td>0.000000</td>\n",
       "      <td>0.000000</td>\n",
       "    </tr>\n",
       "    <tr>\n",
       "      <th>75%</th>\n",
       "      <td>3.711915e+07</td>\n",
       "      <td>37.977910</td>\n",
       "      <td>24.590430</td>\n",
       "      <td>100.000000</td>\n",
       "      <td>3.000000</td>\n",
       "      <td>1.270000</td>\n",
       "      <td>8.000000</td>\n",
       "      <td>362.000000</td>\n",
       "      <td>11.516122</td>\n",
       "      <td>4.605170</td>\n",
       "      <td>0.000000</td>\n",
       "      <td>0.000000</td>\n",
       "      <td>0.000000</td>\n",
       "      <td>0.000000</td>\n",
       "      <td>0.000000</td>\n",
       "      <td>0.000000</td>\n",
       "      <td>0.000000</td>\n",
       "      <td>1.000000</td>\n",
       "    </tr>\n",
       "    <tr>\n",
       "      <th>max</th>\n",
       "      <td>4.606640e+07</td>\n",
       "      <td>40.688390</td>\n",
       "      <td>26.277830</td>\n",
       "      <td>20653.000000</td>\n",
       "      <td>1000.000000</td>\n",
       "      <td>14.210000</td>\n",
       "      <td>190.000000</td>\n",
       "      <td>365.000000</td>\n",
       "      <td>54.727854</td>\n",
       "      <td>9.935616</td>\n",
       "      <td>1.000000</td>\n",
       "      <td>1.000000</td>\n",
       "      <td>1.000000</td>\n",
       "      <td>1.000000</td>\n",
       "      <td>1.000000</td>\n",
       "      <td>1.000000</td>\n",
       "      <td>1.000000</td>\n",
       "      <td>1.000000</td>\n",
       "    </tr>\n",
       "  </tbody>\n",
       "</table>\n",
       "</div>"
      ],
      "text/plain": [
       "                 id      latitude     longitude         price  minimum_nights  \\\n",
       "count  2.960100e+04  29601.000000  29601.000000  29601.000000    29601.000000   \n",
       "mean   2.689202e+07     36.626944     24.182535    123.787102        3.331306   \n",
       "std    1.240322e+07      1.700171      0.752269    471.061723       12.205423   \n",
       "min    1.059500e+04     34.834420     22.894960      8.000000        1.000000   \n",
       "25%    1.801214e+07     35.339410     23.727700     38.000000        1.000000   \n",
       "50%    2.737895e+07     35.512740     23.961870     57.000000        2.000000   \n",
       "75%    3.711915e+07     37.977910     24.590430    100.000000        3.000000   \n",
       "max    4.606640e+07     40.688390     26.277830  20653.000000     1000.000000   \n",
       "\n",
       "       reviews_per_month  calculated_host_listings_count  availability_365  \\\n",
       "count       21907.000000                    29601.000000      29601.000000   \n",
       "mean            1.022158                       14.261849        250.888112   \n",
       "std             1.335910                       32.484490        118.680398   \n",
       "min             0.010000                        1.000000          0.000000   \n",
       "25%             0.180000                        1.000000        174.000000   \n",
       "50%             0.520000                        3.000000        295.000000   \n",
       "75%             1.270000                        8.000000        362.000000   \n",
       "max            14.210000                      190.000000        365.000000   \n",
       "\n",
       "             top-10      logprice  room_type_Hotel room  \\\n",
       "count  29601.000000  29601.000000          29601.000000   \n",
       "mean       7.573162      4.194017              0.022871   \n",
       "std       10.412882      0.837741              0.149494   \n",
       "min        0.003429      2.079442              0.000000   \n",
       "25%        0.631737      3.637586              0.000000   \n",
       "50%        2.247747      4.043051              0.000000   \n",
       "75%       11.516122      4.605170              0.000000   \n",
       "max       54.727854      9.935616              1.000000   \n",
       "\n",
       "       room_type_Private room  room_type_Shared room  NOMOS_ΗΡΑΚΛΕΙΟΥ  \\\n",
       "count            29601.000000           29601.000000     29601.000000   \n",
       "mean                 0.090774               0.003074         0.145502   \n",
       "std                  0.287292               0.055361         0.352612   \n",
       "min                  0.000000               0.000000         0.000000   \n",
       "25%                  0.000000               0.000000         0.000000   \n",
       "50%                  0.000000               0.000000         0.000000   \n",
       "75%                  0.000000               0.000000         0.000000   \n",
       "max                  1.000000               1.000000         1.000000   \n",
       "\n",
       "       NOMOS_ΘΕΣΣΑΛΟΝΙΚΗΣ  NOMOS_ΛΑΣΙΘΙΟΥ  NOMOS_ΡΕΘΥΜΝΗΣ  NOMOS_ΧΑΝΙΩΝ  \n",
       "count        29601.000000    29601.000000    29601.000000  29601.000000  \n",
       "mean             0.082463        0.071687        0.119388      0.261545  \n",
       "std              0.275074        0.257973        0.324250      0.439484  \n",
       "min              0.000000        0.000000        0.000000      0.000000  \n",
       "25%              0.000000        0.000000        0.000000      0.000000  \n",
       "50%              0.000000        0.000000        0.000000      0.000000  \n",
       "75%              0.000000        0.000000        0.000000      1.000000  \n",
       "max              1.000000        1.000000        1.000000      1.000000  "
      ]
     },
     "execution_count": 170,
     "metadata": {},
     "output_type": "execute_result"
    }
   ],
   "source": [
    "data_with_dummies.describe()"
   ]
  },
  {
   "cell_type": "code",
   "execution_count": 171,
   "metadata": {},
   "outputs": [
    {
     "name": "stdout",
     "output_type": "stream",
     "text": [
      "411.0\n"
     ]
    }
   ],
   "source": [
    "data_greece=data_with_dummies\n",
    "data_greece_1=data_greece[(data_greece['price']<data_greece['price'].quantile(0.97))]\n",
    "print(data_greece['price'].quantile(0.97))"
   ]
  },
  {
   "cell_type": "code",
   "execution_count": 172,
   "metadata": {},
   "outputs": [
    {
     "data": {
      "text/plain": [
       "0.53"
      ]
     },
     "execution_count": 172,
     "metadata": {},
     "output_type": "execute_result"
    }
   ],
   "source": [
    "import numpy as np\n",
    "data_greece_1['reviews_per_month'].median()"
   ]
  },
  {
   "cell_type": "code",
   "execution_count": 173,
   "metadata": {},
   "outputs": [
    {
     "name": "stderr",
     "output_type": "stream",
     "text": [
      "<ipython-input-173-17657c4ebf0a>:2: SettingWithCopyWarning: \n",
      "A value is trying to be set on a copy of a slice from a DataFrame.\n",
      "Try using .loc[row_indexer,col_indexer] = value instead\n",
      "\n",
      "See the caveats in the documentation: https://pandas.pydata.org/pandas-docs/stable/user_guide/indexing.html#returning-a-view-versus-a-copy\n",
      "  data_greece_1['reviews_per_month']=data_greece_1['reviews_per_month'].replace(np.nan, data_greece_1['reviews_per_month'].median())\n"
     ]
    }
   ],
   "source": [
    "import numpy as np\n",
    "data_greece_1['reviews_per_month']=data_greece_1['reviews_per_month'].replace(np.nan, data_greece_1['reviews_per_month'].median())"
   ]
  },
  {
   "cell_type": "code",
   "execution_count": 174,
   "metadata": {},
   "outputs": [],
   "source": [
    "from sklearn.preprocessing import StandardScaler\n",
    "targets=data_greece_1['logprice']\n",
    "inputs_s =data_greece_1[['top-10','reviews_per_month','longitude','latitude','calculated_host_listings_count','availability_365','room_type_Hotel room','room_type_Private room','room_type_Shared room',\n",
    "                    'NOMOS_ΗΡΑΚΛΕΙΟΥ','NOMOS_ΘΕΣΣΑΛΟΝΙΚΗΣ','NOMOS_ΛΑΣΙΘΙΟΥ','NOMOS_ΡΕΘΥΜΝΗΣ','NOMOS_ΧΑΝΙΩΝ']]\n",
    "\n",
    "scaler=StandardScaler()\n",
    "scaler.fit(inputs_s)\n",
    "inputs = scaler.transform(inputs_s)"
   ]
  },
  {
   "cell_type": "code",
   "execution_count": 175,
   "metadata": {},
   "outputs": [
    {
     "data": {
      "text/plain": [
       "LinearRegression()"
      ]
     },
     "execution_count": 175,
     "metadata": {},
     "output_type": "execute_result"
    }
   ],
   "source": [
    "from sklearn.model_selection import train_test_split\n",
    "from sklearn.linear_model import LinearRegression\n",
    "from sklearn import metrics\n",
    "import numpy as np\n",
    "\n",
    "x_train, x_test, y_train, y_test = train_test_split(inputs, targets, test_size=0.1, random_state=365)\n",
    "reg = LinearRegression()\n",
    "# Fit the regression with the scaled TRAIN inputs and targets\n",
    "reg.fit(x_train,y_train)"
   ]
  },
  {
   "cell_type": "code",
   "execution_count": 176,
   "metadata": {},
   "outputs": [],
   "source": [
    "y_pred_train=reg.predict(x_train)\n",
    "y_pred_test=reg.predict(x_test)"
   ]
  },
  {
   "cell_type": "code",
   "execution_count": 177,
   "metadata": {},
   "outputs": [
    {
     "name": "stdout",
     "output_type": "stream",
     "text": [
      "36.97208401201081\n",
      "3789.7297484906426\n",
      "61.560780928206576\n",
      "0.2636314471849389\n",
      "37.55533072094414\n",
      "3833.9492599141063\n",
      "61.91889259276288\n",
      "0.2688674555128835\n"
     ]
    }
   ],
   "source": [
    "y_train_1 = [math.exp(x) for x in y_train]\n",
    "y_pred_train_1 = [math.exp(x) for x in y_pred_train]\n",
    "y_test_1 = [math.exp(x) for x in y_test]\n",
    "y_pred_test_1 = [math.exp(x) for x in y_pred_test]\n",
    "\n",
    "print(metrics.mean_absolute_error(y_train_1, y_pred_train_1))\n",
    "print(metrics.mean_squared_error(y_train_1, y_pred_train_1))\n",
    "print(np.sqrt(metrics.mean_squared_error(y_train_1, y_pred_train_1)))\n",
    "print(metrics.r2_score(y_train, y_pred_train))\n",
    "\n",
    "print(metrics.mean_absolute_error(y_test_1, y_pred_test_1))\n",
    "print(metrics.mean_squared_error(y_test_1, y_pred_test_1))\n",
    "print(np.sqrt(metrics.mean_squared_error(y_test_1, y_pred_test_1)))\n",
    "print(metrics.r2_score(y_test, y_pred_test))\n",
    "\n"
   ]
  },
  {
   "cell_type": "code",
   "execution_count": 178,
   "metadata": {},
   "outputs": [
    {
     "data": {
      "image/png": "[encoded data removed]",
      "text/plain": [
       "<Figure size 432x288 with 1 Axes>"
      ]
     },
     "metadata": {},
     "output_type": "display_data"
    }
   ],
   "source": [
    "plt.scatter(y_train, y_pred_train)\n",
    "plt.xlabel('Targets (y_train)',size=18)\n",
    "plt.ylabel('Predictions (y_hat)',size=18)\n",
    "plt.show()"
   ]
  },
  {
   "cell_type": "code",
   "execution_count": 64,
   "metadata": {},
   "outputs": [
    {
     "name": "stdout",
     "output_type": "stream",
     "text": [
      "3789.7297484906762\n"
     ]
    }
   ],
   "source": [
    "n=range(len(y_train_1))\n",
    "suma=0\n",
    "for i in n:\n",
    "    dif=y_train_1[i]-y_pred_train_1[i]\n",
    "    sqrd_dif=dif**2\n",
    "    suma+=sqrd_dif\n",
    "print(suma/(len(y_train_1)))"
   ]
  },
  {
   "cell_type": "code",
   "execution_count": 114,
   "metadata": {},
   "outputs": [
    {
     "name": "stdout",
     "output_type": "stream",
     "text": [
      "0.2632037238155064\n",
      "0.26502747366158563\n"
     ]
    }
   ],
   "source": [
    "## R2 adjusted \n",
    "print(1-(1-metrics.r2_score(y_train, y_pred_train))*(len(x_train)/(len(x_train)-len(reg.coef_)-1)))\n",
    "print(1-(1-metrics.r2_score(y_test, y_pred_test))*(len(x_test)/(len(x_test)-len(reg.coef_)-1)))"
   ]
  },
  {
   "cell_type": "markdown",
   "metadata": {},
   "source": [
    "# Decision tree "
   ]
  },
  {
   "cell_type": "code",
   "execution_count": 66,
   "metadata": {},
   "outputs": [
    {
     "data": {
      "text/plain": [
       "DecisionTreeRegressor(random_state=0)"
      ]
     },
     "execution_count": 66,
     "metadata": {},
     "output_type": "execute_result"
    }
   ],
   "source": [
    "##Decision tree \n",
    "from sklearn.model_selection import train_test_split\n",
    "from sklearn import linear_model\n",
    "from sklearn import metrics\n",
    "import numpy as np\n",
    "from sklearn.tree import DecisionTreeRegressor\n",
    "\n",
    "\n",
    "\n",
    "x_train, x_test, y_train, y_test = train_test_split(inputs, targets, test_size=0.1, random_state=365)\n",
    "tree = DecisionTreeRegressor(random_state = 0)\n",
    "tree.fit(x_train, y_train)"
   ]
  },
  {
   "cell_type": "code",
   "execution_count": 67,
   "metadata": {},
   "outputs": [],
   "source": [
    "y_pred_train=tree.predict(x_train)\n",
    "y_pred_test=tree.predict(x_test)"
   ]
  },
  {
   "cell_type": "code",
   "execution_count": 68,
   "metadata": {},
   "outputs": [
    {
     "name": "stdout",
     "output_type": "stream",
     "text": [
      "0.000518962251240631\n",
      "0.00012326785714927548\n",
      "0.011102605872013808\n",
      "0.9997397096718558\n",
      "0.5013179111956981\n",
      "0.46291403220501537\n",
      "0.680377859872744\n",
      "0.03422994081439701\n"
     ]
    }
   ],
   "source": [
    "print(metrics.mean_absolute_error(y_train, y_pred_train))\n",
    "print(metrics.mean_squared_error(y_train, y_pred_train))\n",
    "print(np.sqrt(metrics.mean_squared_error(y_train, y_pred_train)))\n",
    "print(metrics.r2_score(y_train, y_pred_train))\n",
    "\n",
    "print(metrics.mean_absolute_error(y_test, y_pred_test))\n",
    "print(metrics.mean_squared_error(y_test, y_pred_test))\n",
    "print(np.sqrt(metrics.mean_squared_error(y_test, y_pred_test)))\n",
    "print(metrics.r2_score(y_test, y_pred_test))"
   ]
  },
  {
   "cell_type": "markdown",
   "metadata": {},
   "source": [
    "# overfitting"
   ]
  },
  {
   "cell_type": "code",
   "execution_count": 69,
   "metadata": {},
   "outputs": [
    {
     "name": "stdout",
     "output_type": "stream",
     "text": [
      "0.9997395584809123\n",
      "0.029157619074976826\n"
     ]
    }
   ],
   "source": [
    "#R2 adjusted \n",
    "print(1-(1-metrics.r2_score(y_train, y_pred_train))*(len(x_train)/(len(x_train)-len(reg.coef_)-1)))\n",
    "print(1-(1-metrics.r2_score(y_test, y_pred_test))*(len(x_test)/(len(x_test)-len(reg.coef_)-1)))"
   ]
  },
  {
   "cell_type": "markdown",
   "metadata": {},
   "source": [
    "# Random Forest"
   ]
  },
  {
   "cell_type": "code",
   "execution_count": 70,
   "metadata": {},
   "outputs": [
    {
     "data": {
      "text/plain": [
       "RandomForestRegressor(n_estimators=10, random_state=0)"
      ]
     },
     "execution_count": 70,
     "metadata": {},
     "output_type": "execute_result"
    }
   ],
   "source": [
    "from sklearn.ensemble import RandomForestRegressor\n",
    "random = RandomForestRegressor(n_estimators = 10, random_state = 0)\n",
    "random.fit(x_train, y_train)"
   ]
  },
  {
   "cell_type": "code",
   "execution_count": 71,
   "metadata": {},
   "outputs": [],
   "source": [
    "y_pred_train=random.predict(x_train)\n",
    "y_pred_test=random.predict(x_test)"
   ]
  },
  {
   "cell_type": "code",
   "execution_count": 72,
   "metadata": {},
   "outputs": [
    {
     "name": "stdout",
     "output_type": "stream",
     "text": [
      "13.093991061570364\n",
      "690.8620600582011\n",
      "26.284254983891042\n",
      "0.9038608029021246\n",
      "31.15236732631986\n",
      "2760.6273183699086\n",
      "52.54167220759069\n",
      "0.4640610114788699\n"
     ]
    }
   ],
   "source": [
    "y_train_1 = [math.exp(x) for x in y_train]\n",
    "y_pred_train_1 = [math.exp(x) for x in y_pred_train]\n",
    "y_test_1 = [math.exp(x) for x in y_test]\n",
    "y_pred_test_1 = [math.exp(x) for x in y_pred_test]\n",
    "print(metrics.mean_absolute_error(y_train_1, y_pred_train_1))\n",
    "print(metrics.mean_squared_error(y_train_1, y_pred_train_1))\n",
    "print(np.sqrt(metrics.mean_squared_error(y_train_1, y_pred_train_1)))\n",
    "print(metrics.r2_score(y_train, y_pred_train))\n",
    "\n",
    "print(metrics.mean_absolute_error(y_test_1, y_pred_test_1))\n",
    "print(metrics.mean_squared_error(y_test_1, y_pred_test_1))\n",
    "print(np.sqrt(metrics.mean_squared_error(y_test_1, y_pred_test_1)))\n",
    "print(metrics.r2_score(y_test, y_pred_test))"
   ]
  },
  {
   "cell_type": "code",
   "execution_count": 73,
   "metadata": {},
   "outputs": [
    {
     "name": "stdout",
     "output_type": "stream",
     "text": [
      "0.9038049599670073\n",
      "0.46124620586688925\n"
     ]
    }
   ],
   "source": [
    "#R2 adjusted\n",
    "print(1-(1-metrics.r2_score(y_train, y_pred_train))*(len(x_train)/(len(x_train)-len(reg.coef_)-1)))\n",
    "print(1-(1-metrics.r2_score(y_test, y_pred_test))*(len(x_test)/(len(x_test)-len(reg.coef_)-1)))"
   ]
  },
  {
   "cell_type": "markdown",
   "metadata": {},
   "source": [
    "# Bayes"
   ]
  },
  {
   "cell_type": "code",
   "execution_count": 74,
   "metadata": {},
   "outputs": [
    {
     "data": {
      "text/plain": [
       "BayesianRidge()"
      ]
     },
     "execution_count": 74,
     "metadata": {},
     "output_type": "execute_result"
    }
   ],
   "source": [
    "##bayes \n",
    "from sklearn.model_selection import train_test_split\n",
    "from sklearn import linear_model\n",
    "from sklearn import metrics\n",
    "import numpy as np\n",
    "\n",
    "x_train, x_test, y_train, y_test = train_test_split(inputs, targets, test_size=0.1, random_state=365)\n",
    "bayes= linear_model.BayesianRidge()\n",
    "# Fit the regression with the scaled TRAIN inputs and targets\n",
    "bayes.fit(x_train,y_train)"
   ]
  },
  {
   "cell_type": "code",
   "execution_count": 75,
   "metadata": {},
   "outputs": [],
   "source": [
    "y_pred_train=bayes.predict(x_train)\n",
    "y_pred_test=bayes.predict(x_test)"
   ]
  },
  {
   "cell_type": "code",
   "execution_count": 76,
   "metadata": {},
   "outputs": [
    {
     "name": "stdout",
     "output_type": "stream",
     "text": [
      "36.987081530897164\n",
      "3795.624395956012\n",
      "61.608638971787165\n",
      "0.26326454689838774\n",
      "37.559164642909785\n",
      "3839.988163961843\n",
      "61.967638037622855\n",
      "0.26870655201859384\n"
     ]
    }
   ],
   "source": [
    "y_train_1 = [math.exp(x) for x in y_train]\n",
    "y_pred_train_1 = [math.exp(x) for x in y_pred_train]\n",
    "y_test_1 = [math.exp(x) for x in y_test]\n",
    "y_pred_test_1 = [math.exp(x) for x in y_pred_test]\n",
    "\n",
    "print(metrics.mean_absolute_error(y_train_1, y_pred_train_1))\n",
    "print(metrics.mean_squared_error(y_train_1, y_pred_train_1))\n",
    "print(np.sqrt(metrics.mean_squared_error(y_train_1, y_pred_train_1)))\n",
    "print(metrics.r2_score(y_train, y_pred_train))\n",
    "\n",
    "print(metrics.mean_absolute_error(y_test_1, y_pred_test_1))\n",
    "print(metrics.mean_squared_error(y_test_1, y_pred_test_1))\n",
    "print(np.sqrt(metrics.mean_squared_error(y_test_1, y_pred_test_1)))\n",
    "print(metrics.r2_score(y_test, y_pred_test))"
   ]
  },
  {
   "cell_type": "markdown",
   "metadata": {},
   "source": [
    "# classification"
   ]
  },
  {
   "cell_type": "code",
   "execution_count": 77,
   "metadata": {},
   "outputs": [
    {
     "name": "stdout",
     "output_type": "stream",
     "text": [
      "35.0 49.0 70.0 120.0\n"
     ]
    },
    {
     "data": {
      "text/html": [
       "<div>\n",
       "<style scoped>\n",
       "    .dataframe tbody tr th:only-of-type {\n",
       "        vertical-align: middle;\n",
       "    }\n",
       "\n",
       "    .dataframe tbody tr th {\n",
       "        vertical-align: top;\n",
       "    }\n",
       "\n",
       "    .dataframe thead th {\n",
       "        text-align: right;\n",
       "    }\n",
       "</style>\n",
       "<table border=\"1\" class=\"dataframe\">\n",
       "  <thead>\n",
       "    <tr style=\"text-align: right;\">\n",
       "      <th></th>\n",
       "      <th>id</th>\n",
       "      <th>latitude</th>\n",
       "      <th>longitude</th>\n",
       "      <th>price</th>\n",
       "      <th>minimum_nights</th>\n",
       "      <th>reviews_per_month</th>\n",
       "      <th>calculated_host_listings_count</th>\n",
       "      <th>availability_365</th>\n",
       "      <th>top-10</th>\n",
       "      <th>logprice</th>\n",
       "      <th>room_type_Hotel room</th>\n",
       "      <th>room_type_Private room</th>\n",
       "      <th>room_type_Shared room</th>\n",
       "      <th>NOMOS_ΗΡΑΚΛΕΙΟΥ</th>\n",
       "      <th>NOMOS_ΘΕΣΣΑΛΟΝΙΚΗΣ</th>\n",
       "      <th>NOMOS_ΛΑΣΙΘΙΟΥ</th>\n",
       "      <th>NOMOS_ΡΕΘΥΜΝΗΣ</th>\n",
       "      <th>NOMOS_ΧΑΝΙΩΝ</th>\n",
       "      <th>Κλάσεις τιμής</th>\n",
       "    </tr>\n",
       "  </thead>\n",
       "  <tbody>\n",
       "    <tr>\n",
       "      <th>0</th>\n",
       "      <td>10595</td>\n",
       "      <td>37.98863</td>\n",
       "      <td>23.76527</td>\n",
       "      <td>60.0</td>\n",
       "      <td>2</td>\n",
       "      <td>0.23</td>\n",
       "      <td>6</td>\n",
       "      <td>339</td>\n",
       "      <td>2.016581</td>\n",
       "      <td>4.094345</td>\n",
       "      <td>0</td>\n",
       "      <td>0</td>\n",
       "      <td>0</td>\n",
       "      <td>0</td>\n",
       "      <td>0</td>\n",
       "      <td>0</td>\n",
       "      <td>0</td>\n",
       "      <td>0</td>\n",
       "      <td>3</td>\n",
       "    </tr>\n",
       "    <tr>\n",
       "      <th>1</th>\n",
       "      <td>10990</td>\n",
       "      <td>37.98903</td>\n",
       "      <td>23.76448</td>\n",
       "      <td>36.0</td>\n",
       "      <td>1</td>\n",
       "      <td>0.41</td>\n",
       "      <td>6</td>\n",
       "      <td>151</td>\n",
       "      <td>1.964837</td>\n",
       "      <td>3.583519</td>\n",
       "      <td>0</td>\n",
       "      <td>0</td>\n",
       "      <td>0</td>\n",
       "      <td>0</td>\n",
       "      <td>0</td>\n",
       "      <td>0</td>\n",
       "      <td>0</td>\n",
       "      <td>0</td>\n",
       "      <td>2</td>\n",
       "    </tr>\n",
       "    <tr>\n",
       "      <th>2</th>\n",
       "      <td>10993</td>\n",
       "      <td>37.98888</td>\n",
       "      <td>23.76473</td>\n",
       "      <td>33.0</td>\n",
       "      <td>1</td>\n",
       "      <td>0.53</td>\n",
       "      <td>6</td>\n",
       "      <td>274</td>\n",
       "      <td>1.980157</td>\n",
       "      <td>3.496508</td>\n",
       "      <td>0</td>\n",
       "      <td>0</td>\n",
       "      <td>0</td>\n",
       "      <td>0</td>\n",
       "      <td>0</td>\n",
       "      <td>0</td>\n",
       "      <td>0</td>\n",
       "      <td>0</td>\n",
       "      <td>1</td>\n",
       "    </tr>\n",
       "    <tr>\n",
       "      <th>3</th>\n",
       "      <td>10995</td>\n",
       "      <td>37.98903</td>\n",
       "      <td>23.76448</td>\n",
       "      <td>36.0</td>\n",
       "      <td>1</td>\n",
       "      <td>0.18</td>\n",
       "      <td>6</td>\n",
       "      <td>154</td>\n",
       "      <td>1.964837</td>\n",
       "      <td>3.583519</td>\n",
       "      <td>0</td>\n",
       "      <td>0</td>\n",
       "      <td>0</td>\n",
       "      <td>0</td>\n",
       "      <td>0</td>\n",
       "      <td>0</td>\n",
       "      <td>0</td>\n",
       "      <td>0</td>\n",
       "      <td>2</td>\n",
       "    </tr>\n",
       "    <tr>\n",
       "      <th>4</th>\n",
       "      <td>27262</td>\n",
       "      <td>37.98924</td>\n",
       "      <td>23.76500</td>\n",
       "      <td>38.0</td>\n",
       "      <td>1</td>\n",
       "      <td>0.17</td>\n",
       "      <td>6</td>\n",
       "      <td>140</td>\n",
       "      <td>2.015571</td>\n",
       "      <td>3.637586</td>\n",
       "      <td>0</td>\n",
       "      <td>0</td>\n",
       "      <td>0</td>\n",
       "      <td>0</td>\n",
       "      <td>0</td>\n",
       "      <td>0</td>\n",
       "      <td>0</td>\n",
       "      <td>0</td>\n",
       "      <td>2</td>\n",
       "    </tr>\n",
       "  </tbody>\n",
       "</table>\n",
       "</div>"
      ],
      "text/plain": [
       "      id  latitude  longitude  price  minimum_nights  reviews_per_month  \\\n",
       "0  10595  37.98863   23.76527   60.0               2               0.23   \n",
       "1  10990  37.98903   23.76448   36.0               1               0.41   \n",
       "2  10993  37.98888   23.76473   33.0               1               0.53   \n",
       "3  10995  37.98903   23.76448   36.0               1               0.18   \n",
       "4  27262  37.98924   23.76500   38.0               1               0.17   \n",
       "\n",
       "   calculated_host_listings_count  availability_365    top-10  logprice  \\\n",
       "0                               6               339  2.016581  4.094345   \n",
       "1                               6               151  1.964837  3.583519   \n",
       "2                               6               274  1.980157  3.496508   \n",
       "3                               6               154  1.964837  3.583519   \n",
       "4                               6               140  2.015571  3.637586   \n",
       "\n",
       "   room_type_Hotel room  room_type_Private room  room_type_Shared room  \\\n",
       "0                     0                       0                      0   \n",
       "1                     0                       0                      0   \n",
       "2                     0                       0                      0   \n",
       "3                     0                       0                      0   \n",
       "4                     0                       0                      0   \n",
       "\n",
       "   NOMOS_ΗΡΑΚΛΕΙΟΥ  NOMOS_ΘΕΣΣΑΛΟΝΙΚΗΣ  NOMOS_ΛΑΣΙΘΙΟΥ  NOMOS_ΡΕΘΥΜΝΗΣ  \\\n",
       "0                0                   0               0               0   \n",
       "1                0                   0               0               0   \n",
       "2                0                   0               0               0   \n",
       "3                0                   0               0               0   \n",
       "4                0                   0               0               0   \n",
       "\n",
       "   NOMOS_ΧΑΝΙΩΝ  Κλάσεις τιμής  \n",
       "0             0              3  \n",
       "1             0              2  \n",
       "2             0              1  \n",
       "3             0              2  \n",
       "4             0              2  "
      ]
     },
     "execution_count": 77,
     "metadata": {},
     "output_type": "execute_result"
    }
   ],
   "source": [
    "#xwrizw thn timi se 5 mh epikalyptomenes klaseis\n",
    "data_greece['reviews_per_month']=data_greece['reviews_per_month'].replace(np.nan, data_greece['reviews_per_month'].median())\n",
    "klasi=[]\n",
    "a=data_greece['price'].quantile(0.20)\n",
    "b=data_greece['price'].quantile(0.40)\n",
    "c=data_greece['price'].quantile(0.60)\n",
    "d=data_greece['price'].quantile(0.80)\n",
    "print(a,b,c,d)\n",
    "for i in data_greece['price']:\n",
    "    if i <= a:\n",
    "        klasi.append(1)\n",
    "    elif i <= b:\n",
    "        klasi.append(2)\n",
    "    elif i <= c:\n",
    "        klasi.append(3)\n",
    "    elif i <= d:\n",
    "        klasi.append(4)\n",
    "    else :\n",
    "        klasi.append(5)\n",
    "data_greece['Κλάσεις τιμής']=klasi\n",
    "data_greece.head()"
   ]
  },
  {
   "cell_type": "code",
   "execution_count": 78,
   "metadata": {},
   "outputs": [],
   "source": [
    "\n",
    "# Decision tree classifier \n",
    "# importing necessary libraries \n",
    "from sklearn import datasets \n",
    "from sklearn.metrics import confusion_matrix , recall_score\n",
    "from sklearn.model_selection import train_test_split \n",
    "from sklearn.preprocessing import StandardScaler\n",
    "\n",
    "y=data_greece['Κλάσεις τιμής']\n",
    "X =data_greece[['top-10','reviews_per_month','calculated_host_listings_count','availability_365','room_type_Hotel room','room_type_Private room','room_type_Shared room',\n",
    "                    'NOMOS_ΗΡΑΚΛΕΙΟΥ','NOMOS_ΘΕΣΣΑΛΟΝΙΚΗΣ','NOMOS_ΛΑΣΙΘΙΟΥ','NOMOS_ΡΕΘΥΜΝΗΣ','NOMOS_ΧΑΝΙΩΝ']]\n",
    "# dividing X, y into train and test data \n",
    "\n",
    "X_train, X_test, y_train, y_test = train_test_split(X, y, test_size = 0.1, random_state = 0)\n",
    "\n",
    "sc = StandardScaler()\n",
    "X_train = sc.fit_transform(X_train)\n",
    "X_test = sc.transform(X_test)"
   ]
  },
  {
   "cell_type": "code",
   "execution_count": 79,
   "metadata": {},
   "outputs": [
    {
     "data": {
      "text/plain": [
       "DecisionTreeClassifier(criterion='entropy', random_state=0)"
      ]
     },
     "execution_count": 79,
     "metadata": {},
     "output_type": "execute_result"
    }
   ],
   "source": [
    "# training a DescisionTreeClassifier \n",
    "from sklearn.tree import DecisionTreeClassifier\n",
    "classifier = DecisionTreeClassifier(criterion = 'entropy', random_state = 0)\n",
    "classifier.fit(X_train, y_train)"
   ]
  },
  {
   "cell_type": "code",
   "execution_count": 80,
   "metadata": {},
   "outputs": [],
   "source": [
    "y_pred = classifier.predict(X_test)"
   ]
  },
  {
   "cell_type": "code",
   "execution_count": 81,
   "metadata": {},
   "outputs": [
    {
     "name": "stdout",
     "output_type": "stream",
     "text": [
      "[[311 123 121  75  34]\n",
      " [138 169 144  84  41]\n",
      " [ 95 109 216 130  85]\n",
      " [ 65  78 118 145 100]\n",
      " [ 35  41  78 118 308]]\n"
     ]
    },
    {
     "data": {
      "text/plain": [
       "0.3880445795339412"
      ]
     },
     "execution_count": 81,
     "metadata": {},
     "output_type": "execute_result"
    }
   ],
   "source": [
    "from sklearn.metrics import confusion_matrix, accuracy_score,precision_score\n",
    "cm = confusion_matrix(y_test, y_pred)\n",
    "print(cm)\n",
    "accuracy_score(y_test, y_pred)"
   ]
  },
  {
   "cell_type": "code",
   "execution_count": 82,
   "metadata": {},
   "outputs": [
    {
     "name": "stdout",
     "output_type": "stream",
     "text": [
      "0.3910441737900644\n"
     ]
    }
   ],
   "source": [
    "print(precision_score(y_test, y_pred,average='weighted'))"
   ]
  },
  {
   "cell_type": "code",
   "execution_count": 83,
   "metadata": {},
   "outputs": [
    {
     "name": "stdout",
     "output_type": "stream",
     "text": [
      "[[458  11 140   0  55]\n",
      " [297   7 178   1  93]\n",
      " [236   2 225   1 171]\n",
      " [129   2 171   0 204]\n",
      " [ 69   0 159   2 350]]\n"
     ]
    },
    {
     "data": {
      "text/plain": [
       "0.3512326916582236"
      ]
     },
     "execution_count": 83,
     "metadata": {},
     "output_type": "execute_result"
    }
   ],
   "source": [
    "# Support vector machine) classifier \n",
    "\n",
    "from sklearn.metrics import confusion_matrix , accuracy_score\n",
    "\n",
    "# training a linear SVM classifier \n",
    "from sklearn.svm import SVC \n",
    "from sklearn.svm import SVC\n",
    "classifier_SVM = SVC(kernel = 'linear', random_state = 0)\n",
    "classifier_SVM.fit(X_train, y_train)\n",
    "  \n",
    "y_pred_SVM = classifier_SVM.predict(X_test)\n",
    "  \n",
    "# creating a confusion matrix \n",
    "\n",
    "cm = confusion_matrix(y_test, y_pred_SVM)\n",
    "print(cm)\n",
    "accuracy_score(y_test, y_pred_SVM)"
   ]
  },
  {
   "cell_type": "code",
   "execution_count": 84,
   "metadata": {},
   "outputs": [
    {
     "name": "stdout",
     "output_type": "stream",
     "text": [
      "0.2820787767622259\n"
     ]
    }
   ],
   "source": [
    "print(precision_score(y_test, y_pred_SVM,average='weighted'))"
   ]
  },
  {
   "cell_type": "code",
   "execution_count": 85,
   "metadata": {},
   "outputs": [
    {
     "name": "stdout",
     "output_type": "stream",
     "text": [
      "[[311 123 121  75  34]\n",
      " [138 169 144  84  41]\n",
      " [ 95 109 216 130  85]\n",
      " [ 65  78 118 145 100]\n",
      " [ 35  41  78 118 308]]\n"
     ]
    },
    {
     "data": {
      "text/plain": [
       "0.3880445795339412"
      ]
     },
     "execution_count": 85,
     "metadata": {},
     "output_type": "execute_result"
    }
   ],
   "source": [
    "# KNN (k-nearest neighbours) classifier\n",
    "\n",
    "from sklearn.neighbors import KNeighborsClassifier\n",
    "classifier_KNN = KNeighborsClassifier(n_neighbors = 5, metric = 'minkowski', p = 2)\n",
    "classifier_KNN.fit(X_train, y_train)\n",
    "\n",
    "knn_predictions = classifier_KNN.predict(X_test)\n",
    "cm = confusion_matrix(y_test, y_pred)\n",
    "print(cm)\n",
    "accuracy_score(y_test, y_pred)"
   ]
  },
  {
   "cell_type": "code",
   "execution_count": 86,
   "metadata": {},
   "outputs": [
    {
     "name": "stdout",
     "output_type": "stream",
     "text": [
      "0.3910441737900644\n"
     ]
    }
   ],
   "source": [
    "print(precision_score(y_test, y_pred,average='weighted'))"
   ]
  },
  {
   "cell_type": "code",
   "execution_count": 87,
   "metadata": {},
   "outputs": [
    {
     "name": "stdout",
     "output_type": "stream",
     "text": [
      "[[297   4 173 176  14]\n",
      " [158   8 143 242  25]\n",
      " [120   3 153 323  36]\n",
      " [ 64   2  94 278  68]\n",
      " [ 34   1  65 282 198]]\n"
     ]
    },
    {
     "data": {
      "text/plain": [
       "0.3154339750084431"
      ]
     },
     "execution_count": 87,
     "metadata": {},
     "output_type": "execute_result"
    }
   ],
   "source": [
    "# Naive bayes classifier\n",
    "\n",
    "# training a Naive Bayes classifier \n",
    "from sklearn.naive_bayes import GaussianNB\n",
    "classifier_NB = GaussianNB()\n",
    "classifier_NB.fit(X_train, y_train)\n",
    "\n",
    "# accuracy on X_test \n",
    "y_pred_NB = classifier_NB.predict(X_test)\n",
    "  \n",
    "cm = confusion_matrix(y_test, y_pred_NB)\n",
    "print(cm)\n",
    "accuracy_score(y_test, y_pred_NB)"
   ]
  },
  {
   "cell_type": "code",
   "execution_count": 88,
   "metadata": {},
   "outputs": [
    {
     "name": "stdout",
     "output_type": "stream",
     "text": [
      "0.38791989925036713\n"
     ]
    }
   ],
   "source": [
    "print(precision_score(y_test, y_pred_NB,average='weighted'))"
   ]
  },
  {
   "cell_type": "markdown",
   "metadata": {},
   "source": [
    "# crete regression"
   ]
  },
  {
   "cell_type": "code",
   "execution_count": 89,
   "metadata": {},
   "outputs": [
    {
     "data": {
      "text/html": [
       "<div>\n",
       "<style scoped>\n",
       "    .dataframe tbody tr th:only-of-type {\n",
       "        vertical-align: middle;\n",
       "    }\n",
       "\n",
       "    .dataframe tbody tr th {\n",
       "        vertical-align: top;\n",
       "    }\n",
       "\n",
       "    .dataframe thead th {\n",
       "        text-align: right;\n",
       "    }\n",
       "</style>\n",
       "<table border=\"1\" class=\"dataframe\">\n",
       "  <thead>\n",
       "    <tr style=\"text-align: right;\">\n",
       "      <th></th>\n",
       "      <th>id</th>\n",
       "      <th>host_id</th>\n",
       "      <th>neighbourhood</th>\n",
       "      <th>latitude</th>\n",
       "      <th>longitude</th>\n",
       "      <th>room_type</th>\n",
       "      <th>price</th>\n",
       "      <th>minimum_nights</th>\n",
       "      <th>number_of_reviews</th>\n",
       "      <th>last_review</th>\n",
       "      <th>reviews_per_month</th>\n",
       "      <th>calculated_host_listings_count</th>\n",
       "      <th>availability_365</th>\n",
       "      <th>NOMOS</th>\n",
       "      <th>galazia_paralia</th>\n",
       "      <th>top-10</th>\n",
       "      <th>logprice</th>\n",
       "    </tr>\n",
       "  </thead>\n",
       "  <tbody>\n",
       "    <tr>\n",
       "      <th>0</th>\n",
       "      <td>31023</td>\n",
       "      <td>133208</td>\n",
       "      <td>Χανίων</td>\n",
       "      <td>35.51591</td>\n",
       "      <td>24.01751</td>\n",
       "      <td>Entire home/apt</td>\n",
       "      <td>39.0</td>\n",
       "      <td>2</td>\n",
       "      <td>266</td>\n",
       "      <td>2020-09-01</td>\n",
       "      <td>2.64</td>\n",
       "      <td>4</td>\n",
       "      <td>270</td>\n",
       "      <td>ΧΑΝΙΩΝ</td>\n",
       "      <td>1.030510</td>\n",
       "      <td>0.403887</td>\n",
       "      <td>3.663562</td>\n",
       "    </tr>\n",
       "    <tr>\n",
       "      <th>1</th>\n",
       "      <td>31789</td>\n",
       "      <td>136649</td>\n",
       "      <td>Κισσάμου</td>\n",
       "      <td>35.49762</td>\n",
       "      <td>23.69768</td>\n",
       "      <td>Entire home/apt</td>\n",
       "      <td>200.0</td>\n",
       "      <td>3</td>\n",
       "      <td>2</td>\n",
       "      <td>2012-09-23</td>\n",
       "      <td>0.02</td>\n",
       "      <td>1</td>\n",
       "      <td>365</td>\n",
       "      <td>ΧΑΝΙΩΝ</td>\n",
       "      <td>8.871771</td>\n",
       "      <td>13.664239</td>\n",
       "      <td>5.298317</td>\n",
       "    </tr>\n",
       "    <tr>\n",
       "      <th>2</th>\n",
       "      <td>81174</td>\n",
       "      <td>439663</td>\n",
       "      <td>Αποκορώνου</td>\n",
       "      <td>35.44785</td>\n",
       "      <td>24.19948</td>\n",
       "      <td>Entire home/apt</td>\n",
       "      <td>54.0</td>\n",
       "      <td>2</td>\n",
       "      <td>27</td>\n",
       "      <td>2020-09-09</td>\n",
       "      <td>0.24</td>\n",
       "      <td>5</td>\n",
       "      <td>213</td>\n",
       "      <td>ΧΑΝΙΩΝ</td>\n",
       "      <td>0.302180</td>\n",
       "      <td>18.041839</td>\n",
       "      <td>3.988984</td>\n",
       "    </tr>\n",
       "    <tr>\n",
       "      <th>3</th>\n",
       "      <td>89694</td>\n",
       "      <td>51279</td>\n",
       "      <td>Κισσάμου</td>\n",
       "      <td>35.41732</td>\n",
       "      <td>23.57061</td>\n",
       "      <td>Entire home/apt</td>\n",
       "      <td>165.0</td>\n",
       "      <td>7</td>\n",
       "      <td>1</td>\n",
       "      <td>2020-08-19</td>\n",
       "      <td>0.43</td>\n",
       "      <td>38</td>\n",
       "      <td>5</td>\n",
       "      <td>ΧΑΝΙΩΝ</td>\n",
       "      <td>21.166218</td>\n",
       "      <td>16.463070</td>\n",
       "      <td>5.105945</td>\n",
       "    </tr>\n",
       "    <tr>\n",
       "      <th>4</th>\n",
       "      <td>91859</td>\n",
       "      <td>495505</td>\n",
       "      <td>Πλατανιά</td>\n",
       "      <td>35.51504</td>\n",
       "      <td>23.91027</td>\n",
       "      <td>Hotel room</td>\n",
       "      <td>56.0</td>\n",
       "      <td>1</td>\n",
       "      <td>23</td>\n",
       "      <td>2019-08-27</td>\n",
       "      <td>0.21</td>\n",
       "      <td>7</td>\n",
       "      <td>217</td>\n",
       "      <td>ΧΑΝΙΩΝ</td>\n",
       "      <td>0.484437</td>\n",
       "      <td>9.963618</td>\n",
       "      <td>4.025352</td>\n",
       "    </tr>\n",
       "  </tbody>\n",
       "</table>\n",
       "</div>"
      ],
      "text/plain": [
       "      id host_id neighbourhood  latitude  longitude        room_type  price  \\\n",
       "0  31023  133208        Χανίων  35.51591   24.01751  Entire home/apt   39.0   \n",
       "1  31789  136649      Κισσάμου  35.49762   23.69768  Entire home/apt  200.0   \n",
       "2  81174  439663    Αποκορώνου  35.44785   24.19948  Entire home/apt   54.0   \n",
       "3  89694   51279      Κισσάμου  35.41732   23.57061  Entire home/apt  165.0   \n",
       "4  91859  495505      Πλατανιά  35.51504   23.91027       Hotel room   56.0   \n",
       "\n",
       "  minimum_nights number_of_reviews last_review  reviews_per_month  \\\n",
       "0              2               266  2020-09-01               2.64   \n",
       "1              3                 2  2012-09-23               0.02   \n",
       "2              2                27  2020-09-09               0.24   \n",
       "3              7                 1  2020-08-19               0.43   \n",
       "4              1                23  2019-08-27               0.21   \n",
       "\n",
       "   calculated_host_listings_count  availability_365   NOMOS  galazia_paralia  \\\n",
       "0                               4               270  ΧΑΝΙΩΝ         1.030510   \n",
       "1                               1               365  ΧΑΝΙΩΝ         8.871771   \n",
       "2                               5               213  ΧΑΝΙΩΝ         0.302180   \n",
       "3                              38                 5  ΧΑΝΙΩΝ        21.166218   \n",
       "4                               7               217  ΧΑΝΙΩΝ         0.484437   \n",
       "\n",
       "      top-10  logprice  \n",
       "0   0.403887  3.663562  \n",
       "1  13.664239  5.298317  \n",
       "2  18.041839  3.988984  \n",
       "3  16.463070  5.105945  \n",
       "4   9.963618  4.025352  "
      ]
     },
     "execution_count": 89,
     "metadata": {},
     "output_type": "execute_result"
    }
   ],
   "source": [
    "crete.head(5)"
   ]
  },
  {
   "cell_type": "code",
   "execution_count": 90,
   "metadata": {},
   "outputs": [],
   "source": [
    "crete['id'] = crete['id'].astype('int')\n",
    "crete['minimum_nights'] = crete['minimum_nights'].astype('int')\n",
    "crete['availability_365'] = crete['availability_365'].astype('int')\n",
    "crete['reviews_per_month'] = crete['reviews_per_month'].astype('float')\n",
    "crete['number_of_reviews'] = crete['number_of_reviews'].astype('int')\n",
    "crete.drop('host_id', axis='columns', inplace=True)\n"
   ]
  },
  {
   "cell_type": "code",
   "execution_count": 91,
   "metadata": {},
   "outputs": [],
   "source": [
    "crete.drop('last_review', axis='columns', inplace=True)"
   ]
  },
  {
   "cell_type": "code",
   "execution_count": 92,
   "metadata": {},
   "outputs": [],
   "source": [
    "crete.drop('neighbourhood', axis='columns', inplace=True)"
   ]
  },
  {
   "cell_type": "code",
   "execution_count": 93,
   "metadata": {},
   "outputs": [],
   "source": [
    "\n",
    "data_with_dummies_crete = pd.get_dummies(crete, drop_first=True)\n",
    "data_with_dummies_crete['reviews_per_month']=data_with_dummies_crete['reviews_per_month'].replace(np.nan, data_with_dummies_crete['reviews_per_month'].median())"
   ]
  },
  {
   "cell_type": "code",
   "execution_count": 94,
   "metadata": {},
   "outputs": [
    {
     "data": {
      "text/plain": [
       "top-10                            float64\n",
       "reviews_per_month                 float64\n",
       "calculated_host_listings_count      int32\n",
       "availability_365                    int32\n",
       "room_type_Hotel room                uint8\n",
       "room_type_Private room              uint8\n",
       "room_type_Shared room               uint8\n",
       "NOMOS_ΛΑΣΙΘΙΟΥ                      uint8\n",
       "NOMOS_ΡΕΘΥΜΝΗΣ                      uint8\n",
       "NOMOS_ΧΑΝΙΩΝ                        uint8\n",
       "galazia_paralia                   float64\n",
       "dtype: object"
      ]
     },
     "execution_count": 94,
     "metadata": {},
     "output_type": "execute_result"
    }
   ],
   "source": [
    "data_crete=data_with_dummies_crete[(data_with_dummies_crete['price']<data_with_dummies_crete['price'].quantile(0.98))]\n",
    "\n",
    "#απλ΄ό γραμμικό μοντε΄λο για όλες τις μεταβλητές \n",
    "from sklearn.preprocessing import StandardScaler\n",
    "targets_crete=data_crete['logprice']\n",
    "inputs_c =data_crete[['top-10','reviews_per_month','calculated_host_listings_count','availability_365','room_type_Hotel room','room_type_Private room','room_type_Shared room',\n",
    "                    'NOMOS_ΛΑΣΙΘΙΟΥ','NOMOS_ΡΕΘΥΜΝΗΣ','NOMOS_ΧΑΝΙΩΝ','galazia_paralia']]\n",
    "scaler_crete = StandardScaler()\n",
    "scaler_crete.fit(inputs_c)\n",
    "inputs_crete = scaler_crete.transform(inputs_c)\n",
    "\n",
    "from sklearn.model_selection import train_test_split\n",
    "from sklearn.linear_model import LinearRegression\n",
    "from sklearn import metrics\n",
    "import numpy as np\n",
    "\n",
    "x_train, x_test, y_train, y_test = train_test_split(inputs_crete, targets_crete, test_size=0.1, random_state=365)\n",
    "inputs_c.dtypes"
   ]
  },
  {
   "cell_type": "code",
   "execution_count": 95,
   "metadata": {},
   "outputs": [],
   "source": [
    "reg_crete = LinearRegression()\n",
    "# Fit the regression with the scaled TRAIN inputs and targets\n",
    "reg_crete.fit(x_train,y_train)\n",
    "\n",
    "y_pred_train=reg_crete.predict(x_train)\n",
    "y_pred_test=reg_crete.predict(x_test)"
   ]
  },
  {
   "cell_type": "code",
   "execution_count": 96,
   "metadata": {},
   "outputs": [
    {
     "name": "stdout",
     "output_type": "stream",
     "text": [
      "56.12223921265858\n",
      "9668.861728386744\n",
      "98.33037032568699\n",
      "0.1937002114914269\n",
      "57.53099754165136\n",
      "9601.2172992937\n",
      "97.9858015188614\n",
      "0.183463665866194\n"
     ]
    }
   ],
   "source": [
    "y_train_1 = [math.exp(x) for x in y_train]\n",
    "y_pred_train_1 = [math.exp(x) for x in y_pred_train]\n",
    "y_test_1 = [math.exp(x) for x in y_test]\n",
    "y_pred_test_1 = [math.exp(x) for x in y_pred_test]\n",
    "\n",
    "print(metrics.mean_absolute_error(y_train_1, y_pred_train_1))\n",
    "print(metrics.mean_squared_error(y_train_1, y_pred_train_1))\n",
    "print(np.sqrt(metrics.mean_squared_error(y_train_1, y_pred_train_1)))\n",
    "print(metrics.r2_score(y_train, y_pred_train))\n",
    "\n",
    "print(metrics.mean_absolute_error(y_test_1, y_pred_test_1))\n",
    "print(metrics.mean_squared_error(y_test_1, y_pred_test_1))\n",
    "print(np.sqrt(metrics.mean_squared_error(y_test_1, y_pred_test_1)))\n",
    "print(metrics.r2_score(y_test, y_pred_test))"
   ]
  },
  {
   "cell_type": "code",
   "execution_count": 97,
   "metadata": {},
   "outputs": [
    {
     "name": "stdout",
     "output_type": "stream",
     "text": [
      "0.5289039104187058\n",
      "0.4414853477308125\n",
      "0.6644436377382302\n",
      "0.183463665866194\n"
     ]
    }
   ],
   "source": [
    "print(metrics.mean_absolute_error(y_test, y_pred_test))\n",
    "print(metrics.mean_squared_error(y_test, y_pred_test))\n",
    "print(np.sqrt(metrics.mean_squared_error(y_test, y_pred_test)))\n",
    "print(metrics.r2_score(y_test, y_pred_test))"
   ]
  },
  {
   "cell_type": "code",
   "execution_count": 98,
   "metadata": {},
   "outputs": [
    {
     "name": "stdout",
     "output_type": "stream",
     "text": [
      "0.19308010013706545\n",
      "0.177776819662128\n"
     ]
    }
   ],
   "source": [
    "## R2 adjusted \n",
    "print(1-(1-metrics.r2_score(y_train, y_pred_train))*(len(x_train)/(len(x_train)-len(reg_crete.coef_)-1)))\n",
    "print(1-(1-metrics.r2_score(y_test, y_pred_test))*(len(x_test)/(len(x_test)-len(reg_crete.coef_)-1)))"
   ]
  },
  {
   "cell_type": "code",
   "execution_count": 99,
   "metadata": {},
   "outputs": [
    {
     "data": {
      "text/plain": [
       "RandomForestRegressor(n_estimators=10, random_state=0)"
      ]
     },
     "execution_count": 99,
     "metadata": {},
     "output_type": "execute_result"
    }
   ],
   "source": [
    "from sklearn.ensemble import RandomForestRegressor\n",
    "random_crete = RandomForestRegressor(n_estimators = 10, random_state = 0)\n",
    "random_crete.fit(x_train, y_train)"
   ]
  },
  {
   "cell_type": "code",
   "execution_count": 100,
   "metadata": {},
   "outputs": [],
   "source": [
    "y_pred_train=random_crete.predict(x_train)\n",
    "y_pred_test=random_crete.predict(x_test)"
   ]
  },
  {
   "cell_type": "code",
   "execution_count": 101,
   "metadata": {},
   "outputs": [
    {
     "name": "stdout",
     "output_type": "stream",
     "text": [
      "20.76228425837681\n",
      "1993.6329895314118\n",
      "44.65011746380307\n",
      "0.887464911367741\n",
      "47.78616289563339\n",
      "7108.155958873991\n",
      "84.30988055307628\n",
      "0.3732224303912771\n"
     ]
    }
   ],
   "source": [
    "y_train_1 = [math.exp(x) for x in y_train]\n",
    "y_pred_train_1 = [math.exp(x) for x in y_pred_train]\n",
    "y_test_1 = [math.exp(x) for x in y_test]\n",
    "y_pred_test_1 = [math.exp(x) for x in y_pred_test]\n",
    "\n",
    "print(metrics.mean_absolute_error(y_train_1, y_pred_train_1))\n",
    "print(metrics.mean_squared_error(y_train_1, y_pred_train_1))\n",
    "print(np.sqrt(metrics.mean_squared_error(y_train_1, y_pred_train_1)))\n",
    "print(metrics.r2_score(y_train, y_pred_train))\n",
    "\n",
    "print(metrics.mean_absolute_error(y_test_1, y_pred_test_1))\n",
    "print(metrics.mean_squared_error(y_test_1, y_pred_test_1))\n",
    "print(np.sqrt(metrics.mean_squared_error(y_test_1, y_pred_test_1)))\n",
    "print(metrics.r2_score(y_test, y_pred_test))"
   ]
  },
  {
   "cell_type": "code",
   "execution_count": 102,
   "metadata": {},
   "outputs": [
    {
     "name": "stdout",
     "output_type": "stream",
     "text": [
      "0.8873567045517484\n",
      "0.36775634693538706\n"
     ]
    }
   ],
   "source": [
    "#R2 adjusted\n",
    "print(1-(1-metrics.r2_score(y_train, y_pred_train))*(len(x_train)/(len(x_train)-len(reg.coef_)-1)))\n",
    "print(1-(1-metrics.r2_score(y_test, y_pred_test))*(len(x_test)/(len(x_test)-len(reg.coef_)-1)))"
   ]
  },
  {
   "cell_type": "markdown",
   "metadata": {},
   "source": [
    "# bayes crete"
   ]
  },
  {
   "cell_type": "code",
   "execution_count": 103,
   "metadata": {},
   "outputs": [],
   "source": [
    "from sklearn import linear_model"
   ]
  },
  {
   "cell_type": "code",
   "execution_count": 104,
   "metadata": {},
   "outputs": [
    {
     "data": {
      "text/plain": [
       "BayesianRidge()"
      ]
     },
     "execution_count": 104,
     "metadata": {},
     "output_type": "execute_result"
    }
   ],
   "source": [
    "bayes_crete= linear_model.BayesianRidge()\n",
    "# Fit the regression with the scaled TRAIN inputs and targets\n",
    "bayes_crete.fit(x_train,y_train)"
   ]
  },
  {
   "cell_type": "code",
   "execution_count": 105,
   "metadata": {},
   "outputs": [],
   "source": [
    "y_pred_train=bayes_crete.predict(x_train)\n",
    "y_pred_test=bayes_crete.predict(x_test)"
   ]
  },
  {
   "cell_type": "code",
   "execution_count": 106,
   "metadata": {},
   "outputs": [
    {
     "name": "stdout",
     "output_type": "stream",
     "text": [
      "56.12018094353714\n",
      "9670.542644304738\n",
      "98.33891724187703\n",
      "0.19369833942120218\n",
      "57.52716510980432\n",
      "9601.881395930337\n",
      "97.98919019938035\n",
      "0.1835053392721132\n"
     ]
    }
   ],
   "source": [
    "y_train_1 = [math.exp(x) for x in y_train]\n",
    "y_pred_train_1 = [math.exp(x) for x in y_pred_train]\n",
    "y_test_1 = [math.exp(x) for x in y_test]\n",
    "y_pred_test_1 = [math.exp(x) for x in y_pred_test]\n",
    "\n",
    "print(metrics.mean_absolute_error(y_train_1, y_pred_train_1))\n",
    "print(metrics.mean_squared_error(y_train_1, y_pred_train_1))\n",
    "print(np.sqrt(metrics.mean_squared_error(y_train_1, y_pred_train_1)))\n",
    "print(metrics.r2_score(y_train, y_pred_train))\n",
    "\n",
    "print(metrics.mean_absolute_error(y_test_1, y_pred_test_1))\n",
    "print(metrics.mean_squared_error(y_test_1, y_pred_test_1))\n",
    "print(np.sqrt(metrics.mean_squared_error(y_test_1, y_pred_test_1)))\n",
    "print(metrics.r2_score(y_test, y_pred_test))"
   ]
  },
  {
   "cell_type": "markdown",
   "metadata": {},
   "source": [
    "# # ridge algorithm crete"
   ]
  },
  {
   "cell_type": "code",
   "execution_count": 107,
   "metadata": {},
   "outputs": [
    {
     "data": {
      "text/plain": [
       "DecisionTreeRegressor(random_state=0)"
      ]
     },
     "execution_count": 107,
     "metadata": {},
     "output_type": "execute_result"
    }
   ],
   "source": [
    "from sklearn.tree import DecisionTreeRegressor\n",
    "tree_crete = DecisionTreeRegressor(random_state = 0)\n",
    "tree_crete.fit(x_train, y_train)"
   ]
  },
  {
   "cell_type": "code",
   "execution_count": 108,
   "metadata": {},
   "outputs": [],
   "source": [
    "y_pred_train=tree_crete.predict(x_train)\n",
    "y_pred_test=tree_crete.predict(x_test)"
   ]
  },
  {
   "cell_type": "code",
   "execution_count": 109,
   "metadata": {},
   "outputs": [
    {
     "name": "stdout",
     "output_type": "stream",
     "text": [
      "0.00048813865270279784\n",
      "0.00011913335793037558\n",
      "0.010914822853824774\n",
      "0.999777961463024\n",
      "0.5633874858141641\n",
      "0.5966340662644758\n",
      "0.7724209126276138\n",
      "-0.10348711636968377\n"
     ]
    }
   ],
   "source": [
    "print(metrics.mean_absolute_error(y_train, y_pred_train))\n",
    "print(metrics.mean_squared_error(y_train, y_pred_train))\n",
    "print(np.sqrt(metrics.mean_squared_error(y_train, y_pred_train)))\n",
    "print(metrics.r2_score(y_train, y_pred_train))\n",
    "\n",
    "\n",
    "print(metrics.mean_absolute_error(y_test, y_pred_test))\n",
    "print(metrics.mean_squared_error(y_test, y_pred_test))\n",
    "print(np.sqrt(metrics.mean_squared_error(y_test, y_pred_test)))\n",
    "print(metrics.r2_score(y_test, y_pred_test))"
   ]
  },
  {
   "cell_type": "markdown",
   "metadata": {},
   "source": [
    "# classification crete"
   ]
  },
  {
   "cell_type": "code",
   "execution_count": 110,
   "metadata": {},
   "outputs": [
    {
     "name": "stdout",
     "output_type": "stream",
     "text": [
      "42.0 60.0 90.0 160.0\n"
     ]
    },
    {
     "data": {
      "text/html": [
       "<div>\n",
       "<style scoped>\n",
       "    .dataframe tbody tr th:only-of-type {\n",
       "        vertical-align: middle;\n",
       "    }\n",
       "\n",
       "    .dataframe tbody tr th {\n",
       "        vertical-align: top;\n",
       "    }\n",
       "\n",
       "    .dataframe thead th {\n",
       "        text-align: right;\n",
       "    }\n",
       "</style>\n",
       "<table border=\"1\" class=\"dataframe\">\n",
       "  <thead>\n",
       "    <tr style=\"text-align: right;\">\n",
       "      <th></th>\n",
       "      <th>id</th>\n",
       "      <th>latitude</th>\n",
       "      <th>longitude</th>\n",
       "      <th>price</th>\n",
       "      <th>minimum_nights</th>\n",
       "      <th>number_of_reviews</th>\n",
       "      <th>reviews_per_month</th>\n",
       "      <th>calculated_host_listings_count</th>\n",
       "      <th>availability_365</th>\n",
       "      <th>galazia_paralia</th>\n",
       "      <th>top-10</th>\n",
       "      <th>logprice</th>\n",
       "      <th>room_type_Hotel room</th>\n",
       "      <th>room_type_Private room</th>\n",
       "      <th>room_type_Shared room</th>\n",
       "      <th>NOMOS_ΛΑΣΙΘΙΟΥ</th>\n",
       "      <th>NOMOS_ΡΕΘΥΜΝΗΣ</th>\n",
       "      <th>NOMOS_ΧΑΝΙΩΝ</th>\n",
       "      <th>Κλάσεις τιμής</th>\n",
       "    </tr>\n",
       "  </thead>\n",
       "  <tbody>\n",
       "    <tr>\n",
       "      <th>0</th>\n",
       "      <td>31023</td>\n",
       "      <td>35.51591</td>\n",
       "      <td>24.01751</td>\n",
       "      <td>39.0</td>\n",
       "      <td>2</td>\n",
       "      <td>266</td>\n",
       "      <td>2.64</td>\n",
       "      <td>4</td>\n",
       "      <td>270</td>\n",
       "      <td>1.030510</td>\n",
       "      <td>0.403887</td>\n",
       "      <td>3.663562</td>\n",
       "      <td>0</td>\n",
       "      <td>0</td>\n",
       "      <td>0</td>\n",
       "      <td>0</td>\n",
       "      <td>0</td>\n",
       "      <td>1</td>\n",
       "      <td>1</td>\n",
       "    </tr>\n",
       "    <tr>\n",
       "      <th>1</th>\n",
       "      <td>31789</td>\n",
       "      <td>35.49762</td>\n",
       "      <td>23.69768</td>\n",
       "      <td>200.0</td>\n",
       "      <td>3</td>\n",
       "      <td>2</td>\n",
       "      <td>0.02</td>\n",
       "      <td>1</td>\n",
       "      <td>365</td>\n",
       "      <td>8.871771</td>\n",
       "      <td>13.664239</td>\n",
       "      <td>5.298317</td>\n",
       "      <td>0</td>\n",
       "      <td>0</td>\n",
       "      <td>0</td>\n",
       "      <td>0</td>\n",
       "      <td>0</td>\n",
       "      <td>1</td>\n",
       "      <td>5</td>\n",
       "    </tr>\n",
       "    <tr>\n",
       "      <th>2</th>\n",
       "      <td>81174</td>\n",
       "      <td>35.44785</td>\n",
       "      <td>24.19948</td>\n",
       "      <td>54.0</td>\n",
       "      <td>2</td>\n",
       "      <td>27</td>\n",
       "      <td>0.24</td>\n",
       "      <td>5</td>\n",
       "      <td>213</td>\n",
       "      <td>0.302180</td>\n",
       "      <td>18.041839</td>\n",
       "      <td>3.988984</td>\n",
       "      <td>0</td>\n",
       "      <td>0</td>\n",
       "      <td>0</td>\n",
       "      <td>0</td>\n",
       "      <td>0</td>\n",
       "      <td>1</td>\n",
       "      <td>2</td>\n",
       "    </tr>\n",
       "    <tr>\n",
       "      <th>3</th>\n",
       "      <td>89694</td>\n",
       "      <td>35.41732</td>\n",
       "      <td>23.57061</td>\n",
       "      <td>165.0</td>\n",
       "      <td>7</td>\n",
       "      <td>1</td>\n",
       "      <td>0.43</td>\n",
       "      <td>38</td>\n",
       "      <td>5</td>\n",
       "      <td>21.166218</td>\n",
       "      <td>16.463070</td>\n",
       "      <td>5.105945</td>\n",
       "      <td>0</td>\n",
       "      <td>0</td>\n",
       "      <td>0</td>\n",
       "      <td>0</td>\n",
       "      <td>0</td>\n",
       "      <td>1</td>\n",
       "      <td>5</td>\n",
       "    </tr>\n",
       "    <tr>\n",
       "      <th>4</th>\n",
       "      <td>91859</td>\n",
       "      <td>35.51504</td>\n",
       "      <td>23.91027</td>\n",
       "      <td>56.0</td>\n",
       "      <td>1</td>\n",
       "      <td>23</td>\n",
       "      <td>0.21</td>\n",
       "      <td>7</td>\n",
       "      <td>217</td>\n",
       "      <td>0.484437</td>\n",
       "      <td>9.963618</td>\n",
       "      <td>4.025352</td>\n",
       "      <td>1</td>\n",
       "      <td>0</td>\n",
       "      <td>0</td>\n",
       "      <td>0</td>\n",
       "      <td>0</td>\n",
       "      <td>1</td>\n",
       "      <td>2</td>\n",
       "    </tr>\n",
       "  </tbody>\n",
       "</table>\n",
       "</div>"
      ],
      "text/plain": [
       "      id  latitude  longitude  price  minimum_nights  number_of_reviews  \\\n",
       "0  31023  35.51591   24.01751   39.0               2                266   \n",
       "1  31789  35.49762   23.69768  200.0               3                  2   \n",
       "2  81174  35.44785   24.19948   54.0               2                 27   \n",
       "3  89694  35.41732   23.57061  165.0               7                  1   \n",
       "4  91859  35.51504   23.91027   56.0               1                 23   \n",
       "\n",
       "   reviews_per_month  calculated_host_listings_count  availability_365  \\\n",
       "0               2.64                               4               270   \n",
       "1               0.02                               1               365   \n",
       "2               0.24                               5               213   \n",
       "3               0.43                              38                 5   \n",
       "4               0.21                               7               217   \n",
       "\n",
       "   galazia_paralia     top-10  logprice  room_type_Hotel room  \\\n",
       "0         1.030510   0.403887  3.663562                     0   \n",
       "1         8.871771  13.664239  5.298317                     0   \n",
       "2         0.302180  18.041839  3.988984                     0   \n",
       "3        21.166218  16.463070  5.105945                     0   \n",
       "4         0.484437   9.963618  4.025352                     1   \n",
       "\n",
       "   room_type_Private room  room_type_Shared room  NOMOS_ΛΑΣΙΘΙΟΥ  \\\n",
       "0                       0                      0               0   \n",
       "1                       0                      0               0   \n",
       "2                       0                      0               0   \n",
       "3                       0                      0               0   \n",
       "4                       0                      0               0   \n",
       "\n",
       "   NOMOS_ΡΕΘΥΜΝΗΣ  NOMOS_ΧΑΝΙΩΝ  Κλάσεις τιμής  \n",
       "0               0             1              1  \n",
       "1               0             1              5  \n",
       "2               0             1              2  \n",
       "3               0             1              5  \n",
       "4               0             1              2  "
      ]
     },
     "execution_count": 110,
     "metadata": {},
     "output_type": "execute_result"
    }
   ],
   "source": [
    "#xwrizw thn timi se 5 mh epikalyptomenes klaseis\n",
    "klasi_crete=[]\n",
    "a=data_with_dummies_crete['price'].quantile(0.20)\n",
    "b=data_with_dummies_crete['price'].quantile(0.40)\n",
    "c=data_with_dummies_crete['price'].quantile(0.60)\n",
    "d=data_with_dummies_crete['price'].quantile(0.80)\n",
    "print(a,b,c,d)\n",
    "for i in data_with_dummies_crete['price']:\n",
    "    if i <= a:\n",
    "        klasi_crete.append(1)\n",
    "    elif i <= b:\n",
    "        klasi_crete.append(2)\n",
    "    elif i <= c:\n",
    "        klasi_crete.append(3)\n",
    "    elif i <= d:\n",
    "        klasi_crete.append(4)\n",
    "    else :\n",
    "        klasi_crete.append(5)\n",
    "data_with_dummies_crete['Κλάσεις τιμής']=klasi_crete\n",
    "data_with_dummies_crete.head()"
   ]
  },
  {
   "cell_type": "code",
   "execution_count": 111,
   "metadata": {},
   "outputs": [
    {
     "name": "stdout",
     "output_type": "stream",
     "text": [
      "[[144  91  44  48  23]\n",
      " [104 131  61  47  32]\n",
      " [ 64  77 106  64  44]\n",
      " [ 42  43  64 111  71]\n",
      " [ 23  37  46  86 168]] (10,)\n"
     ]
    },
    {
     "data": {
      "text/plain": [
       "0.37267080745341613"
      ]
     },
     "execution_count": 111,
     "metadata": {},
     "output_type": "execute_result"
    }
   ],
   "source": [
    "from sklearn import datasets \n",
    "from sklearn.metrics import confusion_matrix \n",
    "from sklearn.model_selection import train_test_split \n",
    "from sklearn.preprocessing import StandardScaler\n",
    "\n",
    "\n",
    "y=data_with_dummies_crete['Κλάσεις τιμής']\n",
    "X =data_with_dummies_crete[['top-10','reviews_per_month','calculated_host_listings_count','availability_365','room_type_Hotel room','room_type_Private room','room_type_Shared room',\n",
    "                    'NOMOS_ΛΑΣΙΘΙΟΥ','NOMOS_ΡΕΘΥΜΝΗΣ','NOMOS_ΧΑΝΙΩΝ']]\n",
    "\n",
    "X_train, X_test, y_train, y_test = train_test_split(X, y, test_size = 0.1, random_state = 0)\n",
    "\n",
    "sc_crete = StandardScaler()\n",
    "X_train = sc_crete.fit_transform(X_train)\n",
    "X_test = sc_crete.transform(X_test)\n",
    "\n",
    "from sklearn.tree import DecisionTreeClassifier\n",
    "classifier = DecisionTreeClassifier(criterion = 'entropy', random_state = 0)\n",
    "classifier.fit(X_train, y_train)\n",
    "\n",
    "\n",
    "y_pred = classifier.predict(X_test)\n",
    "\n",
    "from sklearn.metrics import confusion_matrix, accuracy_score\n",
    "cm = confusion_matrix(y_test, y_pred)\n",
    "print(cm,X_train[1].shape)\n",
    "accuracy_score(y_test, y_pred)"
   ]
  },
  {
   "cell_type": "markdown",
   "metadata": {},
   "source": [
    "# Support vector machine) classifier crete"
   ]
  },
  {
   "cell_type": "code",
   "execution_count": 112,
   "metadata": {},
   "outputs": [
    {
     "name": "stdout",
     "output_type": "stream",
     "text": [
      "[[162 146   6  24  12]\n",
      " [129 187   3  48   8]\n",
      " [ 91 185   2  62  15]\n",
      " [ 60 144   6  72  49]\n",
      " [ 44 142   2  62 110]]\n"
     ]
    },
    {
     "data": {
      "text/plain": [
       "0.30095990965556185"
      ]
     },
     "execution_count": 112,
     "metadata": {},
     "output_type": "execute_result"
    }
   ],
   "source": [
    "# training a linear SVM classifier \n",
    "from sklearn.svm import SVC \n",
    "from sklearn.svm import SVC\n",
    "classifier_SVM_crete = SVC(kernel = 'linear', random_state = 0)\n",
    "classifier_SVM_crete.fit(X_train, y_train)\n",
    "  \n",
    "y_pred_SVM_crete = classifier_SVM_crete.predict(X_test)\n",
    "  \n",
    "# creating a confusion matrix \n",
    "\n",
    "cm = confusion_matrix(y_test, y_pred_SVM_crete)\n",
    "print(cm)\n",
    "accuracy_score(y_test, y_pred_SVM_crete)"
   ]
  },
  {
   "cell_type": "markdown",
   "metadata": {},
   "source": [
    "# KNN (k-nearest neighbours) classifier crete"
   ]
  },
  {
   "cell_type": "code",
   "execution_count": 113,
   "metadata": {},
   "outputs": [
    {
     "name": "stdout",
     "output_type": "stream",
     "text": [
      "[[172  88  46  27  17]\n",
      " [121 119  68  37  30]\n",
      " [ 86  93  91  52  33]\n",
      " [ 46  62  62  97  64]\n",
      " [ 29  53  45  75 158]]\n"
     ]
    },
    {
     "data": {
      "text/plain": [
       "0.35968379446640314"
      ]
     },
     "execution_count": 113,
     "metadata": {},
     "output_type": "execute_result"
    }
   ],
   "source": [
    "from sklearn.neighbors import KNeighborsClassifier\n",
    "classifier_KNN_crete = KNeighborsClassifier(n_neighbors = 5, metric = 'minkowski', p = 2)\n",
    "classifier_KNN_crete.fit(X_train, y_train)\n",
    "\n",
    "knn_predictions = classifier_KNN_crete.predict(X_test)\n",
    "cm = confusion_matrix(y_test, knn_predictions)\n",
    "print(cm)\n",
    "accuracy_score(y_test, knn_predictions)"
   ]
  },
  {
   "cell_type": "markdown",
   "metadata": {},
   "source": [
    "# training a Naive Bayes classifier crete"
   ]
  },
  {
   "cell_type": "code",
   "execution_count": 114,
   "metadata": {},
   "outputs": [
    {
     "name": "stdout",
     "output_type": "stream",
     "text": [
      "[[ 14   1   0 216 119]\n",
      " [ 11   0   0 217 147]\n",
      " [  7   0   0 202 146]\n",
      " [  4   0   0 170 157]\n",
      " [  0   0   0 114 246]]\n"
     ]
    },
    {
     "data": {
      "text/plain": [
       "0.24280067758328627"
      ]
     },
     "execution_count": 114,
     "metadata": {},
     "output_type": "execute_result"
    }
   ],
   "source": [
    "\n",
    "from sklearn.naive_bayes import GaussianNB\n",
    "classifier_NB_crete = GaussianNB()\n",
    "classifier_NB_crete.fit(X_train, y_train)\n",
    "\n",
    "# accuracy on X_test \n",
    "y_pred_NB_crete = classifier_NB_crete.predict(X_test)\n",
    "  \n",
    "cm = confusion_matrix(y_test, y_pred_NB_crete)\n",
    "print(cm)\n",
    "accuracy_score(y_test, y_pred_NB_crete)"
   ]
  },
  {
   "cell_type": "markdown",
   "metadata": {},
   "source": [
    "# Regression Athens"
   ]
  },
  {
   "cell_type": "code",
   "execution_count": 115,
   "metadata": {},
   "outputs": [
    {
     "data": {
      "text/html": [
       "<div>\n",
       "<style scoped>\n",
       "    .dataframe tbody tr th:only-of-type {\n",
       "        vertical-align: middle;\n",
       "    }\n",
       "\n",
       "    .dataframe tbody tr th {\n",
       "        vertical-align: top;\n",
       "    }\n",
       "\n",
       "    .dataframe thead th {\n",
       "        text-align: right;\n",
       "    }\n",
       "</style>\n",
       "<table border=\"1\" class=\"dataframe\">\n",
       "  <thead>\n",
       "    <tr style=\"text-align: right;\">\n",
       "      <th></th>\n",
       "      <th>id</th>\n",
       "      <th>host_id</th>\n",
       "      <th>neighbourhood</th>\n",
       "      <th>latitude</th>\n",
       "      <th>longitude</th>\n",
       "      <th>room_type</th>\n",
       "      <th>price</th>\n",
       "      <th>minimum_nights</th>\n",
       "      <th>number_of_reviews</th>\n",
       "      <th>last_review</th>\n",
       "      <th>reviews_per_month</th>\n",
       "      <th>calculated_host_listings_count</th>\n",
       "      <th>availability_365</th>\n",
       "      <th>metro</th>\n",
       "      <th>top-10</th>\n",
       "      <th>Δημοτικό Διαμέρισμα</th>\n",
       "      <th>NOMOS</th>\n",
       "      <th>logprice</th>\n",
       "    </tr>\n",
       "  </thead>\n",
       "  <tbody>\n",
       "    <tr>\n",
       "      <th>0</th>\n",
       "      <td>10595</td>\n",
       "      <td>37177</td>\n",
       "      <td>ΑΜΠΕΛΟΚΗΠΟΙ</td>\n",
       "      <td>37.98863</td>\n",
       "      <td>23.76527</td>\n",
       "      <td>Entire home/apt</td>\n",
       "      <td>60.0</td>\n",
       "      <td>2</td>\n",
       "      <td>26</td>\n",
       "      <td>2020-10-06</td>\n",
       "      <td>0.23</td>\n",
       "      <td>6</td>\n",
       "      <td>339</td>\n",
       "      <td>0.544997</td>\n",
       "      <td>2.016581</td>\n",
       "      <td>7ο</td>\n",
       "      <td>ΑΤΤΙΚΗΣ</td>\n",
       "      <td>4.094345</td>\n",
       "    </tr>\n",
       "    <tr>\n",
       "      <th>1</th>\n",
       "      <td>10990</td>\n",
       "      <td>37177</td>\n",
       "      <td>ΑΜΠΕΛΟΚΗΠΟΙ</td>\n",
       "      <td>37.98903</td>\n",
       "      <td>23.76448</td>\n",
       "      <td>Entire home/apt</td>\n",
       "      <td>36.0</td>\n",
       "      <td>1</td>\n",
       "      <td>41</td>\n",
       "      <td>2020-09-30</td>\n",
       "      <td>0.41</td>\n",
       "      <td>6</td>\n",
       "      <td>151</td>\n",
       "      <td>0.487947</td>\n",
       "      <td>1.964837</td>\n",
       "      <td>7ο</td>\n",
       "      <td>ΑΤΤΙΚΗΣ</td>\n",
       "      <td>3.583519</td>\n",
       "    </tr>\n",
       "    <tr>\n",
       "      <th>2</th>\n",
       "      <td>10993</td>\n",
       "      <td>37177</td>\n",
       "      <td>ΑΜΠΕΛΟΚΗΠΟΙ</td>\n",
       "      <td>37.98888</td>\n",
       "      <td>23.76473</td>\n",
       "      <td>Entire home/apt</td>\n",
       "      <td>33.0</td>\n",
       "      <td>1</td>\n",
       "      <td>52</td>\n",
       "      <td>2020-10-19</td>\n",
       "      <td>0.53</td>\n",
       "      <td>6</td>\n",
       "      <td>274</td>\n",
       "      <td>0.507813</td>\n",
       "      <td>1.980157</td>\n",
       "      <td>7ο</td>\n",
       "      <td>ΑΤΤΙΚΗΣ</td>\n",
       "      <td>3.496508</td>\n",
       "    </tr>\n",
       "    <tr>\n",
       "      <th>3</th>\n",
       "      <td>10995</td>\n",
       "      <td>37177</td>\n",
       "      <td>ΑΜΠΕΛΟΚΗΠΟΙ</td>\n",
       "      <td>37.98903</td>\n",
       "      <td>23.76448</td>\n",
       "      <td>Entire home/apt</td>\n",
       "      <td>36.0</td>\n",
       "      <td>1</td>\n",
       "      <td>23</td>\n",
       "      <td>2020-10-03</td>\n",
       "      <td>0.18</td>\n",
       "      <td>6</td>\n",
       "      <td>154</td>\n",
       "      <td>0.487947</td>\n",
       "      <td>1.964837</td>\n",
       "      <td>7ο</td>\n",
       "      <td>ΑΤΤΙΚΗΣ</td>\n",
       "      <td>3.583519</td>\n",
       "    </tr>\n",
       "    <tr>\n",
       "      <th>4</th>\n",
       "      <td>27262</td>\n",
       "      <td>37177</td>\n",
       "      <td>ΑΜΠΕΛΟΚΗΠΟΙ</td>\n",
       "      <td>37.98924</td>\n",
       "      <td>23.76500</td>\n",
       "      <td>Entire home/apt</td>\n",
       "      <td>38.0</td>\n",
       "      <td>1</td>\n",
       "      <td>17</td>\n",
       "      <td>2020-01-08</td>\n",
       "      <td>0.17</td>\n",
       "      <td>6</td>\n",
       "      <td>140</td>\n",
       "      <td>0.473456</td>\n",
       "      <td>2.015571</td>\n",
       "      <td>7ο</td>\n",
       "      <td>ΑΤΤΙΚΗΣ</td>\n",
       "      <td>3.637586</td>\n",
       "    </tr>\n",
       "  </tbody>\n",
       "</table>\n",
       "</div>"
      ],
      "text/plain": [
       "      id  host_id neighbourhood  latitude  longitude        room_type  price  \\\n",
       "0  10595    37177   ΑΜΠΕΛΟΚΗΠΟΙ  37.98863   23.76527  Entire home/apt   60.0   \n",
       "1  10990    37177   ΑΜΠΕΛΟΚΗΠΟΙ  37.98903   23.76448  Entire home/apt   36.0   \n",
       "2  10993    37177   ΑΜΠΕΛΟΚΗΠΟΙ  37.98888   23.76473  Entire home/apt   33.0   \n",
       "3  10995    37177   ΑΜΠΕΛΟΚΗΠΟΙ  37.98903   23.76448  Entire home/apt   36.0   \n",
       "4  27262    37177   ΑΜΠΕΛΟΚΗΠΟΙ  37.98924   23.76500  Entire home/apt   38.0   \n",
       "\n",
       "   minimum_nights  number_of_reviews last_review  reviews_per_month  \\\n",
       "0               2                 26  2020-10-06               0.23   \n",
       "1               1                 41  2020-09-30               0.41   \n",
       "2               1                 52  2020-10-19               0.53   \n",
       "3               1                 23  2020-10-03               0.18   \n",
       "4               1                 17  2020-01-08               0.17   \n",
       "\n",
       "   calculated_host_listings_count  availability_365     metro    top-10  \\\n",
       "0                               6               339  0.544997  2.016581   \n",
       "1                               6               151  0.487947  1.964837   \n",
       "2                               6               274  0.507813  1.980157   \n",
       "3                               6               154  0.487947  1.964837   \n",
       "4                               6               140  0.473456  2.015571   \n",
       "\n",
       "  Δημοτικό Διαμέρισμα    NOMOS  logprice  \n",
       "0                  7ο  ΑΤΤΙΚΗΣ  4.094345  \n",
       "1                  7ο  ΑΤΤΙΚΗΣ  3.583519  \n",
       "2                  7ο  ΑΤΤΙΚΗΣ  3.496508  \n",
       "3                  7ο  ΑΤΤΙΚΗΣ  3.583519  \n",
       "4                  7ο  ΑΤΤΙΚΗΣ  3.637586  "
      ]
     },
     "execution_count": 115,
     "metadata": {},
     "output_type": "execute_result"
    }
   ],
   "source": [
    "athens.head(5)"
   ]
  },
  {
   "cell_type": "code",
   "execution_count": null,
   "metadata": {},
   "outputs": [],
   "source": []
  },
  {
   "cell_type": "code",
   "execution_count": 116,
   "metadata": {},
   "outputs": [],
   "source": [
    "athens['id'] = athens['id'].astype('int')\n",
    "athens['minimum_nights'] = athens['minimum_nights'].astype('int')\n",
    "athens['availability_365'] = athens['availability_365'].astype('int')\n",
    "athens['reviews_per_month'] = athens['reviews_per_month'].astype('float')\n",
    "\n",
    "athens.drop('neighbourhood', axis='columns', inplace=True)\n",
    "athens.drop('NOMOS', axis='columns', inplace=True)\n",
    "athens.drop('host_id', axis='columns', inplace=True)\n",
    "athens.drop('number_of_reviews', axis='columns', inplace=True)\n",
    "athens.drop('last_review', axis='columns', inplace=True)"
   ]
  },
  {
   "cell_type": "code",
   "execution_count": 117,
   "metadata": {},
   "outputs": [
    {
     "data": {
      "text/html": [
       "<div>\n",
       "<style scoped>\n",
       "    .dataframe tbody tr th:only-of-type {\n",
       "        vertical-align: middle;\n",
       "    }\n",
       "\n",
       "    .dataframe tbody tr th {\n",
       "        vertical-align: top;\n",
       "    }\n",
       "\n",
       "    .dataframe thead th {\n",
       "        text-align: right;\n",
       "    }\n",
       "</style>\n",
       "<table border=\"1\" class=\"dataframe\">\n",
       "  <thead>\n",
       "    <tr style=\"text-align: right;\">\n",
       "      <th></th>\n",
       "      <th>id</th>\n",
       "      <th>latitude</th>\n",
       "      <th>longitude</th>\n",
       "      <th>price</th>\n",
       "      <th>minimum_nights</th>\n",
       "      <th>reviews_per_month</th>\n",
       "      <th>calculated_host_listings_count</th>\n",
       "      <th>availability_365</th>\n",
       "      <th>metro</th>\n",
       "      <th>top-10</th>\n",
       "      <th>logprice</th>\n",
       "      <th>room_type_Hotel room</th>\n",
       "      <th>room_type_Private room</th>\n",
       "      <th>room_type_Shared room</th>\n",
       "      <th>Δημοτικό Διαμέρισμα_2ο</th>\n",
       "      <th>Δημοτικό Διαμέρισμα_3ο</th>\n",
       "      <th>Δημοτικό Διαμέρισμα_4ο</th>\n",
       "      <th>Δημοτικό Διαμέρισμα_5ο</th>\n",
       "      <th>Δημοτικό Διαμέρισμα_6ο</th>\n",
       "      <th>Δημοτικό Διαμέρισμα_7ο</th>\n",
       "    </tr>\n",
       "  </thead>\n",
       "  <tbody>\n",
       "    <tr>\n",
       "      <th>0</th>\n",
       "      <td>10595</td>\n",
       "      <td>37.98863</td>\n",
       "      <td>23.76527</td>\n",
       "      <td>60.0</td>\n",
       "      <td>2</td>\n",
       "      <td>0.23</td>\n",
       "      <td>6</td>\n",
       "      <td>339</td>\n",
       "      <td>0.544997</td>\n",
       "      <td>2.016581</td>\n",
       "      <td>4.094345</td>\n",
       "      <td>0</td>\n",
       "      <td>0</td>\n",
       "      <td>0</td>\n",
       "      <td>0</td>\n",
       "      <td>0</td>\n",
       "      <td>0</td>\n",
       "      <td>0</td>\n",
       "      <td>0</td>\n",
       "      <td>1</td>\n",
       "    </tr>\n",
       "    <tr>\n",
       "      <th>1</th>\n",
       "      <td>10990</td>\n",
       "      <td>37.98903</td>\n",
       "      <td>23.76448</td>\n",
       "      <td>36.0</td>\n",
       "      <td>1</td>\n",
       "      <td>0.41</td>\n",
       "      <td>6</td>\n",
       "      <td>151</td>\n",
       "      <td>0.487947</td>\n",
       "      <td>1.964837</td>\n",
       "      <td>3.583519</td>\n",
       "      <td>0</td>\n",
       "      <td>0</td>\n",
       "      <td>0</td>\n",
       "      <td>0</td>\n",
       "      <td>0</td>\n",
       "      <td>0</td>\n",
       "      <td>0</td>\n",
       "      <td>0</td>\n",
       "      <td>1</td>\n",
       "    </tr>\n",
       "    <tr>\n",
       "      <th>2</th>\n",
       "      <td>10993</td>\n",
       "      <td>37.98888</td>\n",
       "      <td>23.76473</td>\n",
       "      <td>33.0</td>\n",
       "      <td>1</td>\n",
       "      <td>0.53</td>\n",
       "      <td>6</td>\n",
       "      <td>274</td>\n",
       "      <td>0.507813</td>\n",
       "      <td>1.980157</td>\n",
       "      <td>3.496508</td>\n",
       "      <td>0</td>\n",
       "      <td>0</td>\n",
       "      <td>0</td>\n",
       "      <td>0</td>\n",
       "      <td>0</td>\n",
       "      <td>0</td>\n",
       "      <td>0</td>\n",
       "      <td>0</td>\n",
       "      <td>1</td>\n",
       "    </tr>\n",
       "    <tr>\n",
       "      <th>3</th>\n",
       "      <td>10995</td>\n",
       "      <td>37.98903</td>\n",
       "      <td>23.76448</td>\n",
       "      <td>36.0</td>\n",
       "      <td>1</td>\n",
       "      <td>0.18</td>\n",
       "      <td>6</td>\n",
       "      <td>154</td>\n",
       "      <td>0.487947</td>\n",
       "      <td>1.964837</td>\n",
       "      <td>3.583519</td>\n",
       "      <td>0</td>\n",
       "      <td>0</td>\n",
       "      <td>0</td>\n",
       "      <td>0</td>\n",
       "      <td>0</td>\n",
       "      <td>0</td>\n",
       "      <td>0</td>\n",
       "      <td>0</td>\n",
       "      <td>1</td>\n",
       "    </tr>\n",
       "  </tbody>\n",
       "</table>\n",
       "</div>"
      ],
      "text/plain": [
       "      id  latitude  longitude  price  minimum_nights  reviews_per_month  \\\n",
       "0  10595  37.98863   23.76527   60.0               2               0.23   \n",
       "1  10990  37.98903   23.76448   36.0               1               0.41   \n",
       "2  10993  37.98888   23.76473   33.0               1               0.53   \n",
       "3  10995  37.98903   23.76448   36.0               1               0.18   \n",
       "\n",
       "   calculated_host_listings_count  availability_365     metro    top-10  \\\n",
       "0                               6               339  0.544997  2.016581   \n",
       "1                               6               151  0.487947  1.964837   \n",
       "2                               6               274  0.507813  1.980157   \n",
       "3                               6               154  0.487947  1.964837   \n",
       "\n",
       "   logprice  room_type_Hotel room  room_type_Private room  \\\n",
       "0  4.094345                     0                       0   \n",
       "1  3.583519                     0                       0   \n",
       "2  3.496508                     0                       0   \n",
       "3  3.583519                     0                       0   \n",
       "\n",
       "   room_type_Shared room  Δημοτικό Διαμέρισμα_2ο  Δημοτικό Διαμέρισμα_3ο  \\\n",
       "0                      0                       0                       0   \n",
       "1                      0                       0                       0   \n",
       "2                      0                       0                       0   \n",
       "3                      0                       0                       0   \n",
       "\n",
       "   Δημοτικό Διαμέρισμα_4ο  Δημοτικό Διαμέρισμα_5ο  Δημοτικό Διαμέρισμα_6ο  \\\n",
       "0                       0                       0                       0   \n",
       "1                       0                       0                       0   \n",
       "2                       0                       0                       0   \n",
       "3                       0                       0                       0   \n",
       "\n",
       "   Δημοτικό Διαμέρισμα_7ο  \n",
       "0                       1  \n",
       "1                       1  \n",
       "2                       1  \n",
       "3                       1  "
      ]
     },
     "execution_count": 117,
     "metadata": {},
     "output_type": "execute_result"
    }
   ],
   "source": [
    "data_with_dummies_athens = pd.get_dummies(athens, drop_first=True)\n",
    "data_with_dummies_athens.head(4)"
   ]
  },
  {
   "cell_type": "code",
   "execution_count": 118,
   "metadata": {},
   "outputs": [
    {
     "name": "stdout",
     "output_type": "stream",
     "text": [
      "20.266553173852277\n",
      "1002.5502128585298\n",
      "31.66307333248827\n",
      "0.21072635482327784\n",
      "19.23930771861049\n",
      "863.1747129482459\n",
      "29.37983514161109\n",
      "0.23777804348308462\n"
     ]
    },
    {
     "name": "stderr",
     "output_type": "stream",
     "text": [
      "<ipython-input-118-b053a8994a07>:2: SettingWithCopyWarning: \n",
      "A value is trying to be set on a copy of a slice from a DataFrame.\n",
      "Try using .loc[row_indexer,col_indexer] = value instead\n",
      "\n",
      "See the caveats in the documentation: https://pandas.pydata.org/pandas-docs/stable/user_guide/indexing.html#returning-a-view-versus-a-copy\n",
      "  data_athens['reviews_per_month']=data_athens['reviews_per_month'].replace(np.nan, 0)\n"
     ]
    }
   ],
   "source": [
    "data_athens=data_with_dummies_athens[(data_with_dummies_athens['price']<data_with_dummies_athens['price'].quantile(0.98))]\n",
    "data_athens['reviews_per_month']=data_athens['reviews_per_month'].replace(np.nan, 0)\n",
    "#απλ΄ό γραμμικό μοντε΄λο\n",
    "from sklearn.preprocessing import StandardScaler\n",
    "targets=data_athens['logprice']\n",
    "inputs_s =data_athens[['Δημοτικό Διαμέρισμα_2ο','Δημοτικό Διαμέρισμα_3ο','Δημοτικό Διαμέρισμα_4ο','Δημοτικό Διαμέρισμα_5ο','Δημοτικό Διαμέρισμα_6ο','Δημοτικό Διαμέρισμα_7ο','reviews_per_month','calculated_host_listings_count','availability_365','room_type_Hotel room','room_type_Private room','room_type_Shared room','metro','top-10']]\n",
    "scaler_athens=StandardScaler()\n",
    "scaler_athens.fit(inputs_s)\n",
    "inputs = scaler_athens.transform(inputs_s)\n",
    "\n",
    "from sklearn.model_selection import train_test_split\n",
    "from sklearn.linear_model import LinearRegression\n",
    "from sklearn import metrics\n",
    "import numpy as np\n",
    "\n",
    "x_train, x_test, y_train, y_test = train_test_split(inputs, targets, test_size=0.1, random_state=365)\n",
    "reg_athens = LinearRegression()\n",
    "# Fit the regression with the scaled TRAIN inputs and targets\n",
    "reg_athens.fit(x_train,y_train)\n",
    "\n",
    "\n",
    "y_pred_train=reg_athens.predict(x_train)\n",
    "y_pred_test=reg_athens.predict(x_test)\n",
    "\n",
    "\n",
    "y_train_1 = [math.exp(x) for x in y_train]\n",
    "y_pred_train_1 = [math.exp(x) for x in y_pred_train]\n",
    "y_test_1 = [math.exp(x) for x in y_test]\n",
    "y_pred_test_1 = [math.exp(x) for x in y_pred_test]\n",
    "\n",
    "print(metrics.mean_absolute_error(y_train_1, y_pred_train_1))\n",
    "print(metrics.mean_squared_error(y_train_1, y_pred_train_1))\n",
    "print(np.sqrt(metrics.mean_squared_error(y_train_1, y_pred_train_1)))\n",
    "print(metrics.r2_score(y_train, y_pred_train))\n",
    "\n",
    "print(metrics.mean_absolute_error(y_test_1, y_pred_test_1))\n",
    "print(metrics.mean_squared_error(y_test_1, y_pred_test_1))\n",
    "print(np.sqrt(metrics.mean_squared_error(y_test_1, y_pred_test_1)))\n",
    "print(metrics.r2_score(y_test, y_pred_test))\n",
    "\n"
   ]
  },
  {
   "cell_type": "code",
   "execution_count": 119,
   "metadata": {},
   "outputs": [
    {
     "name": "stdout",
     "output_type": "stream",
     "text": [
      "0.3736912682742449\n",
      "0.22708784676883886\n",
      "0.47653735086437754\n",
      "0.23777804348308462\n"
     ]
    }
   ],
   "source": [
    "print(metrics.mean_absolute_error(y_test, y_pred_test))\n",
    "print(metrics.mean_squared_error(y_test, y_pred_test))\n",
    "print(np.sqrt(metrics.mean_squared_error(y_test, y_pred_test)))\n",
    "print(metrics.r2_score(y_test, y_pred_test))\n"
   ]
  },
  {
   "cell_type": "code",
   "execution_count": 120,
   "metadata": {},
   "outputs": [
    {
     "name": "stdout",
     "output_type": "stream",
     "text": [
      "0.2093032144605359\n",
      "0.22524149814563532\n"
     ]
    }
   ],
   "source": [
    "## R2 adjusted \n",
    "print(1-(1-metrics.r2_score(y_train, y_pred_train))*(len(x_train)/(len(x_train)-len(reg_athens.coef_)-1)))\n",
    "print(1-(1-metrics.r2_score(y_test, y_pred_test))*(len(x_test)/(len(x_test)-len(reg_athens.coef_)-1)))\n"
   ]
  },
  {
   "cell_type": "markdown",
   "metadata": {},
   "source": [
    "# random forest Athens"
   ]
  },
  {
   "cell_type": "code",
   "execution_count": 121,
   "metadata": {},
   "outputs": [
    {
     "data": {
      "text/plain": [
       "RandomForestRegressor(n_estimators=10, random_state=0)"
      ]
     },
     "execution_count": 121,
     "metadata": {},
     "output_type": "execute_result"
    }
   ],
   "source": [
    "from sklearn.ensemble import RandomForestRegressor\n",
    "random_athens = RandomForestRegressor(n_estimators = 10, random_state = 0)\n",
    "random_athens.fit(x_train, y_train)\n"
   ]
  },
  {
   "cell_type": "code",
   "execution_count": 122,
   "metadata": {},
   "outputs": [],
   "source": [
    "\n",
    "y_pred_train=random_athens.predict(x_train)\n",
    "y_pred_test=random_athens.predict(x_test)"
   ]
  },
  {
   "cell_type": "code",
   "execution_count": 123,
   "metadata": {},
   "outputs": [
    {
     "name": "stdout",
     "output_type": "stream",
     "text": [
      "8.139779699164945\n",
      "217.4957333901558\n",
      "14.747736551422248\n",
      "0.8719902650262239\n",
      "18.447879475733213\n",
      "783.7372036598836\n",
      "27.99530681489102\n",
      "0.31253680097851766\n"
     ]
    }
   ],
   "source": [
    "\n",
    "y_train_1 = [math.exp(x) for x in y_train]\n",
    "y_pred_train_1 = [math.exp(x) for x in y_pred_train]\n",
    "y_test_1 = [math.exp(x) for x in y_test]\n",
    "y_pred_test_1 = [math.exp(x) for x in y_pred_test]\n",
    "\n",
    "print(metrics.mean_absolute_error(y_train_1, y_pred_train_1))\n",
    "print(metrics.mean_squared_error(y_train_1, y_pred_train_1))\n",
    "print(np.sqrt(metrics.mean_squared_error(y_train_1, y_pred_train_1)))\n",
    "print(metrics.r2_score(y_train, y_pred_train))\n",
    "\n",
    "print(metrics.mean_absolute_error(y_test_1, y_pred_test_1))\n",
    "print(metrics.mean_squared_error(y_test_1, y_pred_test_1))\n",
    "print(np.sqrt(metrics.mean_squared_error(y_test_1, y_pred_test_1)))\n",
    "print(metrics.r2_score(y_test, y_pred_test))\n"
   ]
  },
  {
   "cell_type": "markdown",
   "metadata": {},
   "source": [
    "# Bayes Athens"
   ]
  },
  {
   "cell_type": "code",
   "execution_count": 124,
   "metadata": {},
   "outputs": [
    {
     "data": {
      "text/plain": [
       "BayesianRidge()"
      ]
     },
     "execution_count": 124,
     "metadata": {},
     "output_type": "execute_result"
    }
   ],
   "source": [
    "bayes_athens= linear_model.BayesianRidge()\n",
    "# Fit the regression with the scaled TRAIN inputs and targets\n",
    "bayes_athens.fit(x_train,y_train)"
   ]
  },
  {
   "cell_type": "code",
   "execution_count": 125,
   "metadata": {},
   "outputs": [],
   "source": [
    "y_pred_train=bayes_athens.predict(x_train)\n",
    "y_pred_test=bayes_athens.predict(x_test)"
   ]
  },
  {
   "cell_type": "code",
   "execution_count": 126,
   "metadata": {},
   "outputs": [
    {
     "name": "stdout",
     "output_type": "stream",
     "text": [
      "20.267890723001514\n",
      "1002.98539409486\n",
      "31.66994464938106\n",
      "0.21071569680526048\n",
      "19.238286195543928\n",
      "863.5808670700814\n",
      "29.386746452611614\n",
      "0.23780495875611873\n"
     ]
    }
   ],
   "source": [
    "\n",
    "y_train_1 = [math.exp(x) for x in y_train]\n",
    "y_pred_train_1 = [math.exp(x) for x in y_pred_train]\n",
    "y_test_1 = [math.exp(x) for x in y_test]\n",
    "y_pred_test_1 = [math.exp(x) for x in y_pred_test]\n",
    "\n",
    "print(metrics.mean_absolute_error(y_train_1, y_pred_train_1))\n",
    "print(metrics.mean_squared_error(y_train_1, y_pred_train_1))\n",
    "print(np.sqrt(metrics.mean_squared_error(y_train_1, y_pred_train_1)))\n",
    "print(metrics.r2_score(y_train, y_pred_train))\n",
    "\n",
    "print(metrics.mean_absolute_error(y_test_1, y_pred_test_1))\n",
    "print(metrics.mean_squared_error(y_test_1, y_pred_test_1))\n",
    "print(np.sqrt(metrics.mean_squared_error(y_test_1, y_pred_test_1)))\n",
    "print(metrics.r2_score(y_test, y_pred_test))"
   ]
  },
  {
   "cell_type": "markdown",
   "metadata": {},
   "source": [
    "# Classification Athens"
   ]
  },
  {
   "cell_type": "code",
   "execution_count": 127,
   "metadata": {},
   "outputs": [
    {
     "name": "stdout",
     "output_type": "stream",
     "text": [
      "28.0 38.0 50.0 70.0\n"
     ]
    },
    {
     "name": "stderr",
     "output_type": "stream",
     "text": [
      "<ipython-input-127-f5e98e8c04dd>:19: SettingWithCopyWarning: \n",
      "A value is trying to be set on a copy of a slice from a DataFrame.\n",
      "Try using .loc[row_indexer,col_indexer] = value instead\n",
      "\n",
      "See the caveats in the documentation: https://pandas.pydata.org/pandas-docs/stable/user_guide/indexing.html#returning-a-view-versus-a-copy\n",
      "  data_athens['Κλάσεις τιμής']=klasi_athens\n"
     ]
    },
    {
     "data": {
      "text/html": [
       "<div>\n",
       "<style scoped>\n",
       "    .dataframe tbody tr th:only-of-type {\n",
       "        vertical-align: middle;\n",
       "    }\n",
       "\n",
       "    .dataframe tbody tr th {\n",
       "        vertical-align: top;\n",
       "    }\n",
       "\n",
       "    .dataframe thead th {\n",
       "        text-align: right;\n",
       "    }\n",
       "</style>\n",
       "<table border=\"1\" class=\"dataframe\">\n",
       "  <thead>\n",
       "    <tr style=\"text-align: right;\">\n",
       "      <th></th>\n",
       "      <th>id</th>\n",
       "      <th>latitude</th>\n",
       "      <th>longitude</th>\n",
       "      <th>price</th>\n",
       "      <th>minimum_nights</th>\n",
       "      <th>reviews_per_month</th>\n",
       "      <th>calculated_host_listings_count</th>\n",
       "      <th>availability_365</th>\n",
       "      <th>metro</th>\n",
       "      <th>top-10</th>\n",
       "      <th>...</th>\n",
       "      <th>room_type_Hotel room</th>\n",
       "      <th>room_type_Private room</th>\n",
       "      <th>room_type_Shared room</th>\n",
       "      <th>Δημοτικό Διαμέρισμα_2ο</th>\n",
       "      <th>Δημοτικό Διαμέρισμα_3ο</th>\n",
       "      <th>Δημοτικό Διαμέρισμα_4ο</th>\n",
       "      <th>Δημοτικό Διαμέρισμα_5ο</th>\n",
       "      <th>Δημοτικό Διαμέρισμα_6ο</th>\n",
       "      <th>Δημοτικό Διαμέρισμα_7ο</th>\n",
       "      <th>Κλάσεις τιμής</th>\n",
       "    </tr>\n",
       "  </thead>\n",
       "  <tbody>\n",
       "    <tr>\n",
       "      <th>0</th>\n",
       "      <td>10595</td>\n",
       "      <td>37.98863</td>\n",
       "      <td>23.76527</td>\n",
       "      <td>60.0</td>\n",
       "      <td>2</td>\n",
       "      <td>0.23</td>\n",
       "      <td>6</td>\n",
       "      <td>339</td>\n",
       "      <td>0.544997</td>\n",
       "      <td>2.016581</td>\n",
       "      <td>...</td>\n",
       "      <td>0</td>\n",
       "      <td>0</td>\n",
       "      <td>0</td>\n",
       "      <td>0</td>\n",
       "      <td>0</td>\n",
       "      <td>0</td>\n",
       "      <td>0</td>\n",
       "      <td>0</td>\n",
       "      <td>1</td>\n",
       "      <td>4</td>\n",
       "    </tr>\n",
       "    <tr>\n",
       "      <th>1</th>\n",
       "      <td>10990</td>\n",
       "      <td>37.98903</td>\n",
       "      <td>23.76448</td>\n",
       "      <td>36.0</td>\n",
       "      <td>1</td>\n",
       "      <td>0.41</td>\n",
       "      <td>6</td>\n",
       "      <td>151</td>\n",
       "      <td>0.487947</td>\n",
       "      <td>1.964837</td>\n",
       "      <td>...</td>\n",
       "      <td>0</td>\n",
       "      <td>0</td>\n",
       "      <td>0</td>\n",
       "      <td>0</td>\n",
       "      <td>0</td>\n",
       "      <td>0</td>\n",
       "      <td>0</td>\n",
       "      <td>0</td>\n",
       "      <td>1</td>\n",
       "      <td>2</td>\n",
       "    </tr>\n",
       "    <tr>\n",
       "      <th>2</th>\n",
       "      <td>10993</td>\n",
       "      <td>37.98888</td>\n",
       "      <td>23.76473</td>\n",
       "      <td>33.0</td>\n",
       "      <td>1</td>\n",
       "      <td>0.53</td>\n",
       "      <td>6</td>\n",
       "      <td>274</td>\n",
       "      <td>0.507813</td>\n",
       "      <td>1.980157</td>\n",
       "      <td>...</td>\n",
       "      <td>0</td>\n",
       "      <td>0</td>\n",
       "      <td>0</td>\n",
       "      <td>0</td>\n",
       "      <td>0</td>\n",
       "      <td>0</td>\n",
       "      <td>0</td>\n",
       "      <td>0</td>\n",
       "      <td>1</td>\n",
       "      <td>2</td>\n",
       "    </tr>\n",
       "    <tr>\n",
       "      <th>3</th>\n",
       "      <td>10995</td>\n",
       "      <td>37.98903</td>\n",
       "      <td>23.76448</td>\n",
       "      <td>36.0</td>\n",
       "      <td>1</td>\n",
       "      <td>0.18</td>\n",
       "      <td>6</td>\n",
       "      <td>154</td>\n",
       "      <td>0.487947</td>\n",
       "      <td>1.964837</td>\n",
       "      <td>...</td>\n",
       "      <td>0</td>\n",
       "      <td>0</td>\n",
       "      <td>0</td>\n",
       "      <td>0</td>\n",
       "      <td>0</td>\n",
       "      <td>0</td>\n",
       "      <td>0</td>\n",
       "      <td>0</td>\n",
       "      <td>1</td>\n",
       "      <td>2</td>\n",
       "    </tr>\n",
       "    <tr>\n",
       "      <th>4</th>\n",
       "      <td>27262</td>\n",
       "      <td>37.98924</td>\n",
       "      <td>23.76500</td>\n",
       "      <td>38.0</td>\n",
       "      <td>1</td>\n",
       "      <td>0.17</td>\n",
       "      <td>6</td>\n",
       "      <td>140</td>\n",
       "      <td>0.473456</td>\n",
       "      <td>2.015571</td>\n",
       "      <td>...</td>\n",
       "      <td>0</td>\n",
       "      <td>0</td>\n",
       "      <td>0</td>\n",
       "      <td>0</td>\n",
       "      <td>0</td>\n",
       "      <td>0</td>\n",
       "      <td>0</td>\n",
       "      <td>0</td>\n",
       "      <td>1</td>\n",
       "      <td>2</td>\n",
       "    </tr>\n",
       "  </tbody>\n",
       "</table>\n",
       "<p>5 rows × 21 columns</p>\n",
       "</div>"
      ],
      "text/plain": [
       "      id  latitude  longitude  price  minimum_nights  reviews_per_month  \\\n",
       "0  10595  37.98863   23.76527   60.0               2               0.23   \n",
       "1  10990  37.98903   23.76448   36.0               1               0.41   \n",
       "2  10993  37.98888   23.76473   33.0               1               0.53   \n",
       "3  10995  37.98903   23.76448   36.0               1               0.18   \n",
       "4  27262  37.98924   23.76500   38.0               1               0.17   \n",
       "\n",
       "   calculated_host_listings_count  availability_365     metro    top-10  ...  \\\n",
       "0                               6               339  0.544997  2.016581  ...   \n",
       "1                               6               151  0.487947  1.964837  ...   \n",
       "2                               6               274  0.507813  1.980157  ...   \n",
       "3                               6               154  0.487947  1.964837  ...   \n",
       "4                               6               140  0.473456  2.015571  ...   \n",
       "\n",
       "   room_type_Hotel room  room_type_Private room  room_type_Shared room  \\\n",
       "0                     0                       0                      0   \n",
       "1                     0                       0                      0   \n",
       "2                     0                       0                      0   \n",
       "3                     0                       0                      0   \n",
       "4                     0                       0                      0   \n",
       "\n",
       "   Δημοτικό Διαμέρισμα_2ο  Δημοτικό Διαμέρισμα_3ο  Δημοτικό Διαμέρισμα_4ο  \\\n",
       "0                       0                       0                       0   \n",
       "1                       0                       0                       0   \n",
       "2                       0                       0                       0   \n",
       "3                       0                       0                       0   \n",
       "4                       0                       0                       0   \n",
       "\n",
       "   Δημοτικό Διαμέρισμα_5ο  Δημοτικό Διαμέρισμα_6ο  Δημοτικό Διαμέρισμα_7ο  \\\n",
       "0                       0                       0                       1   \n",
       "1                       0                       0                       1   \n",
       "2                       0                       0                       1   \n",
       "3                       0                       0                       1   \n",
       "4                       0                       0                       1   \n",
       "\n",
       "   Κλάσεις τιμής  \n",
       "0              4  \n",
       "1              2  \n",
       "2              2  \n",
       "3              2  \n",
       "4              2  \n",
       "\n",
       "[5 rows x 21 columns]"
      ]
     },
     "execution_count": 127,
     "metadata": {},
     "output_type": "execute_result"
    }
   ],
   "source": [
    "#xwrizw thn timi se 5 mh epikalyptomenes klaseis\n",
    "klasi_athens=[]\n",
    "a=data_athens['price'].quantile(0.20)\n",
    "b=data_athens['price'].quantile(0.40)\n",
    "c=data_athens['price'].quantile(0.60)\n",
    "d=data_athens['price'].quantile(0.80)\n",
    "print(a,b,c,d)\n",
    "for i in data_athens['price']:\n",
    "    if i <= a:\n",
    "        klasi_athens.append(1)\n",
    "    elif i <= b:\n",
    "        klasi_athens.append(2)\n",
    "    elif i <= c:\n",
    "        klasi_athens.append(3)\n",
    "    elif i <= d:\n",
    "        klasi_athens.append(4)\n",
    "    else :\n",
    "        klasi_athens.append(5)\n",
    "data_athens['Κλάσεις τιμής']=klasi_athens\n",
    "data_athens.head()"
   ]
  },
  {
   "cell_type": "code",
   "execution_count": 128,
   "metadata": {},
   "outputs": [],
   "source": [
    "X =data_athens[['Δημοτικό Διαμέρισμα_2ο','Δημοτικό Διαμέρισμα_3ο','Δημοτικό Διαμέρισμα_4ο','Δημοτικό Διαμέρισμα_5ο','Δημοτικό Διαμέρισμα_6ο','Δημοτικό Διαμέρισμα_7ο','reviews_per_month','calculated_host_listings_count','availability_365','room_type_Hotel room','room_type_Private room','room_type_Shared room','metro','top-10']]\n",
    "y= data_athens['Κλάσεις τιμής']\n",
    "\n",
    "X_train, X_test, y_train, y_test = train_test_split(X, y, test_size = 0.1, random_state = 0)\n",
    "\n",
    "sc_athens = StandardScaler()\n",
    "X_train = sc_athens.fit_transform(X_train)\n",
    "X_test = sc_athens.transform(X_test)"
   ]
  },
  {
   "cell_type": "markdown",
   "metadata": {},
   "source": [
    "# DescisionTreeClassifier  Athens"
   ]
  },
  {
   "cell_type": "code",
   "execution_count": 129,
   "metadata": {},
   "outputs": [
    {
     "name": "stdout",
     "output_type": "stream",
     "text": [
      "[[80 28 44 24  7]\n",
      " [49 53 45 34 25]\n",
      " [33 49 59 40 31]\n",
      " [12 28 41 33 34]\n",
      " [22 24 37 36 59]]\n"
     ]
    },
    {
     "data": {
      "text/plain": [
       "0.3063646170442287"
      ]
     },
     "execution_count": 129,
     "metadata": {},
     "output_type": "execute_result"
    }
   ],
   "source": [
    "from sklearn.tree import DecisionTreeClassifier\n",
    "classifier_athens = DecisionTreeClassifier(criterion = 'entropy', random_state = 0)\n",
    "classifier_athens.fit(X_train, y_train)\n",
    "\n",
    "y_pred = classifier_athens.predict(X_test)\n",
    "\n",
    "from sklearn.metrics import confusion_matrix, accuracy_score\n",
    "cm = confusion_matrix(y_test, y_pred)\n",
    "print(cm)\n",
    "accuracy_score(y_test, y_pred)"
   ]
  },
  {
   "cell_type": "markdown",
   "metadata": {},
   "source": [
    "\n",
    "# Support vector machine) classifier Athens"
   ]
  },
  {
   "cell_type": "code",
   "execution_count": 130,
   "metadata": {},
   "outputs": [
    {
     "name": "stdout",
     "output_type": "stream",
     "text": [
      "[[ 74  32  59   0  18]\n",
      " [ 33  40  99   0  34]\n",
      " [ 22  34  99   0  57]\n",
      " [ 11  11  57   0  69]\n",
      " [ 10  13  53   0 102]]\n"
     ]
    },
    {
     "data": {
      "text/plain": [
       "0.33980582524271846"
      ]
     },
     "execution_count": 130,
     "metadata": {},
     "output_type": "execute_result"
    }
   ],
   "source": [
    "from sklearn.svm import SVC \n",
    "from sklearn.svm import SVC\n",
    "classifier_SVM_athens = SVC(kernel = 'linear', random_state = 0)\n",
    "classifier_SVM_athens.fit(X_train, y_train)\n",
    "  \n",
    "y_pred_SVM = classifier_SVM_athens.predict(X_test)\n",
    "  \n",
    "# creating a confusion matrix \n",
    "\n",
    "cm = confusion_matrix(y_test, y_pred_SVM)\n",
    "print(cm)\n",
    "accuracy_score(y_test, y_pred_SVM)"
   ]
  },
  {
   "cell_type": "markdown",
   "metadata": {},
   "source": [
    "# KNN (k-nearest neighbours) classifier Athens"
   ]
  },
  {
   "cell_type": "code",
   "execution_count": 131,
   "metadata": {},
   "outputs": [
    {
     "name": "stdout",
     "output_type": "stream",
     "text": [
      "[[80 28 44 24  7]\n",
      " [49 53 45 34 25]\n",
      " [33 49 59 40 31]\n",
      " [12 28 41 33 34]\n",
      " [22 24 37 36 59]]\n"
     ]
    },
    {
     "data": {
      "text/plain": [
       "0.3063646170442287"
      ]
     },
     "execution_count": 131,
     "metadata": {},
     "output_type": "execute_result"
    }
   ],
   "source": [
    "from sklearn.neighbors import KNeighborsClassifier\n",
    "classifier_KNN_athens = KNeighborsClassifier(n_neighbors = 5, metric = 'minkowski', p = 2)\n",
    "classifier_KNN_athens.fit(X_train, y_train)\n",
    "\n",
    "knn_predictions = classifier_KNN_athens.predict(X_test)\n",
    "cm = confusion_matrix(y_test, y_pred)\n",
    "print(cm)\n",
    "accuracy_score(y_test, y_pred)"
   ]
  },
  {
   "cell_type": "markdown",
   "metadata": {},
   "source": [
    "# Naive bayes classifier"
   ]
  },
  {
   "cell_type": "code",
   "execution_count": 132,
   "metadata": {},
   "outputs": [
    {
     "name": "stdout",
     "output_type": "stream",
     "text": [
      "[[ 24  10   0 147   2]\n",
      " [ 15   8   0 183   0]\n",
      " [  9  10   0 191   2]\n",
      " [  1   4   0 142   1]\n",
      " [  4   4   0 163   7]]\n"
     ]
    },
    {
     "data": {
      "text/plain": [
       "0.19525350593311758"
      ]
     },
     "execution_count": 132,
     "metadata": {},
     "output_type": "execute_result"
    }
   ],
   "source": [
    "from sklearn.naive_bayes import GaussianNB\n",
    "classifier_NB = GaussianNB()\n",
    "classifier_NB.fit(X_train, y_train)\n",
    "\n",
    "# accuracy on X_test \n",
    "y_pred_NB = classifier_NB.predict(X_test)\n",
    "  \n",
    "cm = confusion_matrix(y_test, y_pred_NB)\n",
    "print(cm)\n",
    "accuracy_score(y_test, y_pred_NB)\n"
   ]
  },
  {
   "cell_type": "code",
   "execution_count": 133,
   "metadata": {},
   "outputs": [
    {
     "data": {
      "text/html": [
       "<div>\n",
       "<style scoped>\n",
       "    .dataframe tbody tr th:only-of-type {\n",
       "        vertical-align: middle;\n",
       "    }\n",
       "\n",
       "    .dataframe tbody tr th {\n",
       "        vertical-align: top;\n",
       "    }\n",
       "\n",
       "    .dataframe thead th {\n",
       "        text-align: right;\n",
       "    }\n",
       "</style>\n",
       "<table border=\"1\" class=\"dataframe\">\n",
       "  <thead>\n",
       "    <tr style=\"text-align: right;\">\n",
       "      <th></th>\n",
       "      <th>id</th>\n",
       "      <th>name</th>\n",
       "      <th>host_id</th>\n",
       "      <th>host_name</th>\n",
       "      <th>neighbourhood_group</th>\n",
       "      <th>neighbourhood</th>\n",
       "      <th>latitude</th>\n",
       "      <th>longitude</th>\n",
       "      <th>room_type</th>\n",
       "      <th>price</th>\n",
       "      <th>minimum_nights</th>\n",
       "      <th>number_of_reviews</th>\n",
       "      <th>last_review</th>\n",
       "      <th>reviews_per_month</th>\n",
       "      <th>calculated_host_listings_count</th>\n",
       "      <th>availability_365</th>\n",
       "      <th>Μουσεία</th>\n",
       "      <th>top-10</th>\n",
       "      <th>NOMOS</th>\n",
       "      <th>logprice</th>\n",
       "    </tr>\n",
       "  </thead>\n",
       "  <tbody>\n",
       "    <tr>\n",
       "      <th>0</th>\n",
       "      <td>35261</td>\n",
       "      <td>Home  in  the heart of Thessaloniki</td>\n",
       "      <td>151631</td>\n",
       "      <td>Cathy</td>\n",
       "      <td>NaN</td>\n",
       "      <td>Thessaloniki</td>\n",
       "      <td>40.63777</td>\n",
       "      <td>22.94934</td>\n",
       "      <td>Entire home/apt</td>\n",
       "      <td>25.0</td>\n",
       "      <td>2</td>\n",
       "      <td>45</td>\n",
       "      <td>2020-10-13</td>\n",
       "      <td>0.40</td>\n",
       "      <td>2</td>\n",
       "      <td>10</td>\n",
       "      <td>0.213516</td>\n",
       "      <td>0.183535</td>\n",
       "      <td>ΘΕΣΣΑΛΟΝΙΚΗΣ</td>\n",
       "      <td>3.218876</td>\n",
       "    </tr>\n",
       "    <tr>\n",
       "      <th>1</th>\n",
       "      <td>152991</td>\n",
       "      <td>Design space downtown Thessaloniki</td>\n",
       "      <td>735568</td>\n",
       "      <td>G</td>\n",
       "      <td>NaN</td>\n",
       "      <td>Thessaloniki</td>\n",
       "      <td>40.64106</td>\n",
       "      <td>22.94240</td>\n",
       "      <td>Entire home/apt</td>\n",
       "      <td>48.0</td>\n",
       "      <td>5</td>\n",
       "      <td>263</td>\n",
       "      <td>2020-03-09</td>\n",
       "      <td>2.45</td>\n",
       "      <td>1</td>\n",
       "      <td>297</td>\n",
       "      <td>0.477813</td>\n",
       "      <td>0.516186</td>\n",
       "      <td>ΘΕΣΣΑΛΟΝΙΚΗΣ</td>\n",
       "      <td>3.871201</td>\n",
       "    </tr>\n",
       "    <tr>\n",
       "      <th>2</th>\n",
       "      <td>176307</td>\n",
       "      <td>Nikolas apartment @ city's heart (2BD)</td>\n",
       "      <td>663967</td>\n",
       "      <td>Nikolas</td>\n",
       "      <td>NaN</td>\n",
       "      <td>Thessaloniki</td>\n",
       "      <td>40.63416</td>\n",
       "      <td>22.94606</td>\n",
       "      <td>Entire home/apt</td>\n",
       "      <td>46.0</td>\n",
       "      <td>4</td>\n",
       "      <td>190</td>\n",
       "      <td>2019-10-21</td>\n",
       "      <td>1.76</td>\n",
       "      <td>1</td>\n",
       "      <td>173</td>\n",
       "      <td>0.309694</td>\n",
       "      <td>0.433884</td>\n",
       "      <td>ΘΕΣΣΑΛΟΝΙΚΗΣ</td>\n",
       "      <td>3.828641</td>\n",
       "    </tr>\n",
       "    <tr>\n",
       "      <th>3</th>\n",
       "      <td>218831</td>\n",
       "      <td>Sea-life apartment</td>\n",
       "      <td>137588</td>\n",
       "      <td>Dimitrios</td>\n",
       "      <td>NaN</td>\n",
       "      <td>Kalamaria</td>\n",
       "      <td>40.57187</td>\n",
       "      <td>22.95678</td>\n",
       "      <td>Entire home/apt</td>\n",
       "      <td>55.0</td>\n",
       "      <td>2</td>\n",
       "      <td>1</td>\n",
       "      <td>2020-02-02</td>\n",
       "      <td>0.11</td>\n",
       "      <td>1</td>\n",
       "      <td>364</td>\n",
       "      <td>3.934709</td>\n",
       "      <td>4.761306</td>\n",
       "      <td>ΘΕΣΣΑΛΟΝΙΚΗΣ</td>\n",
       "      <td>4.007333</td>\n",
       "    </tr>\n",
       "    <tr>\n",
       "      <th>4</th>\n",
       "      <td>483128</td>\n",
       "      <td>Stel's apt in Thessaloniki center!</td>\n",
       "      <td>2358521</td>\n",
       "      <td>Stelios</td>\n",
       "      <td>NaN</td>\n",
       "      <td>Thessaloniki</td>\n",
       "      <td>40.63765</td>\n",
       "      <td>22.94979</td>\n",
       "      <td>Entire home/apt</td>\n",
       "      <td>25.0</td>\n",
       "      <td>1</td>\n",
       "      <td>312</td>\n",
       "      <td>2020-09-30</td>\n",
       "      <td>3.05</td>\n",
       "      <td>1</td>\n",
       "      <td>357</td>\n",
       "      <td>0.252290</td>\n",
       "      <td>0.219787</td>\n",
       "      <td>ΘΕΣΣΑΛΟΝΙΚΗΣ</td>\n",
       "      <td>3.218876</td>\n",
       "    </tr>\n",
       "  </tbody>\n",
       "</table>\n",
       "</div>"
      ],
      "text/plain": [
       "       id                                    name  host_id  host_name  \\\n",
       "0   35261     Home  in  the heart of Thessaloniki   151631      Cathy   \n",
       "1  152991      Design space downtown Thessaloniki   735568          G   \n",
       "2  176307  Nikolas apartment @ city's heart (2BD)   663967    Nikolas   \n",
       "3  218831                      Sea-life apartment   137588  Dimitrios   \n",
       "4  483128      Stel's apt in Thessaloniki center!  2358521    Stelios   \n",
       "\n",
       "   neighbourhood_group neighbourhood  latitude  longitude        room_type  \\\n",
       "0                  NaN  Thessaloniki  40.63777   22.94934  Entire home/apt   \n",
       "1                  NaN  Thessaloniki  40.64106   22.94240  Entire home/apt   \n",
       "2                  NaN  Thessaloniki  40.63416   22.94606  Entire home/apt   \n",
       "3                  NaN     Kalamaria  40.57187   22.95678  Entire home/apt   \n",
       "4                  NaN  Thessaloniki  40.63765   22.94979  Entire home/apt   \n",
       "\n",
       "   price  minimum_nights  number_of_reviews last_review  reviews_per_month  \\\n",
       "0   25.0               2                 45  2020-10-13               0.40   \n",
       "1   48.0               5                263  2020-03-09               2.45   \n",
       "2   46.0               4                190  2019-10-21               1.76   \n",
       "3   55.0               2                  1  2020-02-02               0.11   \n",
       "4   25.0               1                312  2020-09-30               3.05   \n",
       "\n",
       "   calculated_host_listings_count  availability_365   Μουσεία    top-10  \\\n",
       "0                               2                10  0.213516  0.183535   \n",
       "1                               1               297  0.477813  0.516186   \n",
       "2                               1               173  0.309694  0.433884   \n",
       "3                               1               364  3.934709  4.761306   \n",
       "4                               1               357  0.252290  0.219787   \n",
       "\n",
       "          NOMOS  logprice  \n",
       "0  ΘΕΣΣΑΛΟΝΙΚΗΣ  3.218876  \n",
       "1  ΘΕΣΣΑΛΟΝΙΚΗΣ  3.871201  \n",
       "2  ΘΕΣΣΑΛΟΝΙΚΗΣ  3.828641  \n",
       "3  ΘΕΣΣΑΛΟΝΙΚΗΣ  4.007333  \n",
       "4  ΘΕΣΣΑΛΟΝΙΚΗΣ  3.218876  "
      ]
     },
     "execution_count": 133,
     "metadata": {},
     "output_type": "execute_result"
    }
   ],
   "source": [
    "thes.head(5)"
   ]
  },
  {
   "cell_type": "code",
   "execution_count": 134,
   "metadata": {},
   "outputs": [],
   "source": [
    "thes['id'] = thes['id'].astype('int')\n",
    "thes['minimum_nights'] = thes['minimum_nights'].astype('int')\n",
    "thes['availability_365'] = thes['availability_365'].astype('int')\n",
    "thes['reviews_per_month'] = thes['reviews_per_month'].astype('float')\n",
    "\n",
    "thes.drop('neighbourhood_group', axis='columns', inplace=True)\n",
    "thes.drop('name', axis='columns', inplace=True)\n",
    "thes.drop('NOMOS', axis='columns', inplace=True)\n",
    "thes.drop('host_id', axis='columns', inplace=True)\n",
    "thes.drop('number_of_reviews', axis='columns', inplace=True)\n",
    "thes.drop('last_review', axis='columns', inplace=True)"
   ]
  },
  {
   "cell_type": "code",
   "execution_count": 135,
   "metadata": {},
   "outputs": [
    {
     "data": {
      "text/html": [
       "<div>\n",
       "<style scoped>\n",
       "    .dataframe tbody tr th:only-of-type {\n",
       "        vertical-align: middle;\n",
       "    }\n",
       "\n",
       "    .dataframe tbody tr th {\n",
       "        vertical-align: top;\n",
       "    }\n",
       "\n",
       "    .dataframe thead th {\n",
       "        text-align: right;\n",
       "    }\n",
       "</style>\n",
       "<table border=\"1\" class=\"dataframe\">\n",
       "  <thead>\n",
       "    <tr style=\"text-align: right;\">\n",
       "      <th></th>\n",
       "      <th>id</th>\n",
       "      <th>latitude</th>\n",
       "      <th>longitude</th>\n",
       "      <th>price</th>\n",
       "      <th>minimum_nights</th>\n",
       "      <th>reviews_per_month</th>\n",
       "      <th>calculated_host_listings_count</th>\n",
       "      <th>availability_365</th>\n",
       "      <th>Μουσεία</th>\n",
       "      <th>top-10</th>\n",
       "      <th>logprice</th>\n",
       "      <th>neighbourhood_Kalamaria</th>\n",
       "      <th>neighbourhood_Kordelio – Evosmos</th>\n",
       "      <th>neighbourhood_Neapolis – Sykeon</th>\n",
       "      <th>neighbourhood_Pavlou Mela</th>\n",
       "      <th>neighbourhood_Pilea – Chortiatis</th>\n",
       "      <th>neighbourhood_Thessaloniki</th>\n",
       "      <th>room_type_Hotel room</th>\n",
       "      <th>room_type_Private room</th>\n",
       "      <th>room_type_Shared room</th>\n",
       "    </tr>\n",
       "  </thead>\n",
       "  <tbody>\n",
       "    <tr>\n",
       "      <th>0</th>\n",
       "      <td>35261</td>\n",
       "      <td>40.63777</td>\n",
       "      <td>22.94934</td>\n",
       "      <td>25.0</td>\n",
       "      <td>2</td>\n",
       "      <td>0.40</td>\n",
       "      <td>2</td>\n",
       "      <td>10</td>\n",
       "      <td>0.213516</td>\n",
       "      <td>0.183535</td>\n",
       "      <td>3.218876</td>\n",
       "      <td>0</td>\n",
       "      <td>0</td>\n",
       "      <td>0</td>\n",
       "      <td>0</td>\n",
       "      <td>0</td>\n",
       "      <td>1</td>\n",
       "      <td>0</td>\n",
       "      <td>0</td>\n",
       "      <td>0</td>\n",
       "    </tr>\n",
       "    <tr>\n",
       "      <th>1</th>\n",
       "      <td>152991</td>\n",
       "      <td>40.64106</td>\n",
       "      <td>22.94240</td>\n",
       "      <td>48.0</td>\n",
       "      <td>5</td>\n",
       "      <td>2.45</td>\n",
       "      <td>1</td>\n",
       "      <td>297</td>\n",
       "      <td>0.477813</td>\n",
       "      <td>0.516186</td>\n",
       "      <td>3.871201</td>\n",
       "      <td>0</td>\n",
       "      <td>0</td>\n",
       "      <td>0</td>\n",
       "      <td>0</td>\n",
       "      <td>0</td>\n",
       "      <td>1</td>\n",
       "      <td>0</td>\n",
       "      <td>0</td>\n",
       "      <td>0</td>\n",
       "    </tr>\n",
       "    <tr>\n",
       "      <th>2</th>\n",
       "      <td>176307</td>\n",
       "      <td>40.63416</td>\n",
       "      <td>22.94606</td>\n",
       "      <td>46.0</td>\n",
       "      <td>4</td>\n",
       "      <td>1.76</td>\n",
       "      <td>1</td>\n",
       "      <td>173</td>\n",
       "      <td>0.309694</td>\n",
       "      <td>0.433884</td>\n",
       "      <td>3.828641</td>\n",
       "      <td>0</td>\n",
       "      <td>0</td>\n",
       "      <td>0</td>\n",
       "      <td>0</td>\n",
       "      <td>0</td>\n",
       "      <td>1</td>\n",
       "      <td>0</td>\n",
       "      <td>0</td>\n",
       "      <td>0</td>\n",
       "    </tr>\n",
       "    <tr>\n",
       "      <th>3</th>\n",
       "      <td>218831</td>\n",
       "      <td>40.57187</td>\n",
       "      <td>22.95678</td>\n",
       "      <td>55.0</td>\n",
       "      <td>2</td>\n",
       "      <td>0.11</td>\n",
       "      <td>1</td>\n",
       "      <td>364</td>\n",
       "      <td>3.934709</td>\n",
       "      <td>4.761306</td>\n",
       "      <td>4.007333</td>\n",
       "      <td>1</td>\n",
       "      <td>0</td>\n",
       "      <td>0</td>\n",
       "      <td>0</td>\n",
       "      <td>0</td>\n",
       "      <td>0</td>\n",
       "      <td>0</td>\n",
       "      <td>0</td>\n",
       "      <td>0</td>\n",
       "    </tr>\n",
       "    <tr>\n",
       "      <th>4</th>\n",
       "      <td>483128</td>\n",
       "      <td>40.63765</td>\n",
       "      <td>22.94979</td>\n",
       "      <td>25.0</td>\n",
       "      <td>1</td>\n",
       "      <td>3.05</td>\n",
       "      <td>1</td>\n",
       "      <td>357</td>\n",
       "      <td>0.252290</td>\n",
       "      <td>0.219787</td>\n",
       "      <td>3.218876</td>\n",
       "      <td>0</td>\n",
       "      <td>0</td>\n",
       "      <td>0</td>\n",
       "      <td>0</td>\n",
       "      <td>0</td>\n",
       "      <td>1</td>\n",
       "      <td>0</td>\n",
       "      <td>0</td>\n",
       "      <td>0</td>\n",
       "    </tr>\n",
       "  </tbody>\n",
       "</table>\n",
       "</div>"
      ],
      "text/plain": [
       "       id  latitude  longitude  price  minimum_nights  reviews_per_month  \\\n",
       "0   35261  40.63777   22.94934   25.0               2               0.40   \n",
       "1  152991  40.64106   22.94240   48.0               5               2.45   \n",
       "2  176307  40.63416   22.94606   46.0               4               1.76   \n",
       "3  218831  40.57187   22.95678   55.0               2               0.11   \n",
       "4  483128  40.63765   22.94979   25.0               1               3.05   \n",
       "\n",
       "   calculated_host_listings_count  availability_365   Μουσεία    top-10  \\\n",
       "0                               2                10  0.213516  0.183535   \n",
       "1                               1               297  0.477813  0.516186   \n",
       "2                               1               173  0.309694  0.433884   \n",
       "3                               1               364  3.934709  4.761306   \n",
       "4                               1               357  0.252290  0.219787   \n",
       "\n",
       "   logprice  neighbourhood_Kalamaria  neighbourhood_Kordelio – Evosmos  \\\n",
       "0  3.218876                        0                                 0   \n",
       "1  3.871201                        0                                 0   \n",
       "2  3.828641                        0                                 0   \n",
       "3  4.007333                        1                                 0   \n",
       "4  3.218876                        0                                 0   \n",
       "\n",
       "   neighbourhood_Neapolis – Sykeon  neighbourhood_Pavlou Mela  \\\n",
       "0                                0                          0   \n",
       "1                                0                          0   \n",
       "2                                0                          0   \n",
       "3                                0                          0   \n",
       "4                                0                          0   \n",
       "\n",
       "   neighbourhood_Pilea – Chortiatis  neighbourhood_Thessaloniki  \\\n",
       "0                                 0                           1   \n",
       "1                                 0                           1   \n",
       "2                                 0                           1   \n",
       "3                                 0                           0   \n",
       "4                                 0                           1   \n",
       "\n",
       "   room_type_Hotel room  room_type_Private room  room_type_Shared room  \n",
       "0                     0                       0                      0  \n",
       "1                     0                       0                      0  \n",
       "2                     0                       0                      0  \n",
       "3                     0                       0                      0  \n",
       "4                     0                       0                      0  "
      ]
     },
     "execution_count": 135,
     "metadata": {},
     "output_type": "execute_result"
    }
   ],
   "source": [
    "thes.drop('host_name', axis='columns', inplace=True)\n",
    "data_with_dummies_thes = pd.get_dummies(thes, drop_first=True)\n",
    "data_with_dummies_thes.head()"
   ]
  },
  {
   "cell_type": "code",
   "execution_count": 147,
   "metadata": {},
   "outputs": [
    {
     "name": "stderr",
     "output_type": "stream",
     "text": [
      "<ipython-input-147-609109d94b96>:4: SettingWithCopyWarning: \n",
      "A value is trying to be set on a copy of a slice from a DataFrame.\n",
      "Try using .loc[row_indexer,col_indexer] = value instead\n",
      "\n",
      "See the caveats in the documentation: https://pandas.pydata.org/pandas-docs/stable/user_guide/indexing.html#returning-a-view-versus-a-copy\n",
      "  data_thes['reviews_per_month']=data_thes['reviews_per_month'].replace(np.nan, 0)\n"
     ]
    }
   ],
   "source": [
    "from sklearn.preprocessing import StandardScaler\n",
    "data_thes=data_with_dummies_thes[(data_with_dummies_thes['price']<data_with_dummies_thes['price'].quantile(0.97))]\n",
    "data_with_dummies_thes['reviews_per_month']=data_with_dummies_thes['reviews_per_month'].replace(np.nan, 0)\n",
    "data_thes['reviews_per_month']=data_thes['reviews_per_month'].replace(np.nan, 0)\n",
    "targets_thes=data_thes['logprice']\n",
    "inputs_s_thes =data_thes[['top-10','reviews_per_month','calculated_host_listings_count','availability_365','room_type_Hotel room','room_type_Private room','room_type_Shared room','Μουσεία']]\n",
    "scaler_thes=StandardScaler()\n",
    "scaler_thes.fit(inputs_s_thes)\n",
    "inputs = scaler_thes.transform(inputs_s_thes)"
   ]
  },
  {
   "cell_type": "code",
   "execution_count": 148,
   "metadata": {},
   "outputs": [
    {
     "data": {
      "text/plain": [
       "LinearRegression()"
      ]
     },
     "execution_count": 148,
     "metadata": {},
     "output_type": "execute_result"
    }
   ],
   "source": [
    "from sklearn.model_selection import train_test_split\n",
    "from sklearn.linear_model import LinearRegression\n",
    "from sklearn import metrics\n",
    "import numpy as np\n",
    "\n",
    "x_train, x_test, y_train, y_test = train_test_split(inputs, targets_thes, test_size=0.1, random_state=365)\n",
    "reg_thes = LinearRegression()\n",
    "# Fit the regression with the scaled TRAIN inputs and targets\n",
    "reg_thes.fit(x_train,y_train)"
   ]
  },
  {
   "cell_type": "code",
   "execution_count": 149,
   "metadata": {},
   "outputs": [],
   "source": [
    "y_pred_train=reg_thes.predict(x_train)\n",
    "y_pred_test=reg_thes.predict(x_test)"
   ]
  },
  {
   "cell_type": "code",
   "execution_count": 150,
   "metadata": {},
   "outputs": [
    {
     "name": "stdout",
     "output_type": "stream",
     "text": [
      "14.208231203262088\n",
      "420.7050673190082\n",
      "20.511096199837983\n",
      "0.10322759250618374\n",
      "13.673092263480195\n",
      "395.6314695381306\n",
      "19.890486910534158\n",
      "0.14860359980667048\n",
      "0.09941514485977632\n",
      "0.11499584716746014\n"
     ]
    }
   ],
   "source": [
    "y_train_1 = [math.exp(x) for x in y_train]\n",
    "y_pred_train_1 = [math.exp(x) for x in y_pred_train]\n",
    "y_test_1 = [math.exp(x) for x in y_test]\n",
    "y_pred_test_1 = [math.exp(x) for x in y_pred_test]\n",
    "\n",
    "print(metrics.mean_absolute_error(y_train_1, y_pred_train_1))\n",
    "print(metrics.mean_squared_error(y_train_1, y_pred_train_1))\n",
    "print(np.sqrt(metrics.mean_squared_error(y_train_1, y_pred_train_1)))\n",
    "print(metrics.r2_score(y_train, y_pred_train))\n",
    "\n",
    "print(metrics.mean_absolute_error(y_test_1, y_pred_test_1))\n",
    "print(metrics.mean_squared_error(y_test_1, y_pred_test_1))\n",
    "print(np.sqrt(metrics.mean_squared_error(y_test_1, y_pred_test_1)))\n",
    "print(metrics.r2_score(y_test, y_pred_test))\n",
    "## R2 adjusted \n",
    "print(1-(1-metrics.r2_score(y_train, y_pred_train))*(len(x_train)/(len(x_train)-len(reg_thes.coef_)-1)))\n",
    "print(1-(1-metrics.r2_score(y_test, y_pred_test))*(len(x_test)/(len(x_test)-len(reg_thes.coef_)-1)))\n"
   ]
  },
  {
   "cell_type": "markdown",
   "metadata": {},
   "source": [
    "# Random Forest Thes"
   ]
  },
  {
   "cell_type": "code",
   "execution_count": 151,
   "metadata": {},
   "outputs": [
    {
     "data": {
      "text/plain": [
       "RandomForestRegressor(n_estimators=10, random_state=0)"
      ]
     },
     "execution_count": 151,
     "metadata": {},
     "output_type": "execute_result"
    }
   ],
   "source": [
    "from sklearn.ensemble import RandomForestRegressor\n",
    "random_thes = RandomForestRegressor(n_estimators = 10, random_state = 0)\n",
    "random_thes.fit(x_train, y_train)"
   ]
  },
  {
   "cell_type": "code",
   "execution_count": 152,
   "metadata": {},
   "outputs": [],
   "source": [
    "y_pred_train=random_thes.predict(x_train)\n",
    "y_pred_test=random_thes.predict(x_test)"
   ]
  },
  {
   "cell_type": "code",
   "execution_count": 153,
   "metadata": {},
   "outputs": [
    {
     "name": "stdout",
     "output_type": "stream",
     "text": [
      "5.706118263847031\n",
      "88.34854972529105\n",
      "9.399390923101935\n",
      "0.8472315115787221\n",
      "12.995808131646356\n",
      "369.4254967217192\n",
      "19.220444758686497\n",
      "0.2059205323191241\n"
     ]
    }
   ],
   "source": [
    "y_train_1 = [math.exp(x) for x in y_train]\n",
    "y_pred_train_1 = [math.exp(x) for x in y_pred_train]\n",
    "y_test_1 = [math.exp(x) for x in y_test]\n",
    "y_pred_test_1 = [math.exp(x) for x in y_pred_test]\n",
    "\n",
    "print(metrics.mean_absolute_error(y_train_1, y_pred_train_1))\n",
    "print(metrics.mean_squared_error(y_train_1, y_pred_train_1))\n",
    "print(np.sqrt(metrics.mean_squared_error(y_train_1, y_pred_train_1)))\n",
    "print(metrics.r2_score(y_train, y_pred_train))\n",
    "\n",
    "print(metrics.mean_absolute_error(y_test_1, y_pred_test_1))\n",
    "print(metrics.mean_squared_error(y_test_1, y_pred_test_1))\n",
    "print(np.sqrt(metrics.mean_squared_error(y_test_1, y_pred_test_1)))\n",
    "print(metrics.r2_score(y_test, y_pred_test))"
   ]
  },
  {
   "cell_type": "markdown",
   "metadata": {},
   "source": [
    "# Bayes Thes"
   ]
  },
  {
   "cell_type": "code",
   "execution_count": 154,
   "metadata": {},
   "outputs": [
    {
     "data": {
      "text/plain": [
       "BayesianRidge()"
      ]
     },
     "execution_count": 154,
     "metadata": {},
     "output_type": "execute_result"
    }
   ],
   "source": [
    "bayes_thes= linear_model.BayesianRidge()\n",
    "# Fit the regression with the scaled TRAIN inputs and targets\n",
    "bayes_thes.fit(x_train,y_train)"
   ]
  },
  {
   "cell_type": "code",
   "execution_count": 155,
   "metadata": {},
   "outputs": [],
   "source": [
    "y_pred_train=bayes_thes.predict(x_train)\n",
    "y_pred_test=bayes_thes.predict(x_test)"
   ]
  },
  {
   "cell_type": "code",
   "execution_count": 156,
   "metadata": {},
   "outputs": [
    {
     "name": "stdout",
     "output_type": "stream",
     "text": [
      "14.213644782231341\n",
      "421.2828521324462\n",
      "20.525176056064566\n",
      "0.10305789700439372\n",
      "13.672287469821406\n",
      "396.8844994330826\n",
      "19.921960230687205\n",
      "0.14686140022067729\n"
     ]
    }
   ],
   "source": [
    "y_train_1 = [math.exp(x) for x in y_train]\n",
    "y_pred_train_1 = [math.exp(x) for x in y_pred_train]\n",
    "y_test_1 = [math.exp(x) for x in y_test]\n",
    "y_pred_test_1 = [math.exp(x) for x in y_pred_test]\n",
    "\n",
    "print(metrics.mean_absolute_error(y_train_1, y_pred_train_1))\n",
    "print(metrics.mean_squared_error(y_train_1, y_pred_train_1))\n",
    "print(np.sqrt(metrics.mean_squared_error(y_train_1, y_pred_train_1)))\n",
    "print(metrics.r2_score(y_train, y_pred_train))\n",
    "\n",
    "print(metrics.mean_absolute_error(y_test_1, y_pred_test_1))\n",
    "print(metrics.mean_squared_error(y_test_1, y_pred_test_1))\n",
    "print(np.sqrt(metrics.mean_squared_error(y_test_1, y_pred_test_1)))\n",
    "print(metrics.r2_score(y_test, y_pred_test))"
   ]
  },
  {
   "cell_type": "markdown",
   "metadata": {},
   "source": [
    "# Classification Thes"
   ]
  },
  {
   "cell_type": "code",
   "execution_count": 194,
   "metadata": {},
   "outputs": [
    {
     "name": "stdout",
     "output_type": "stream",
     "text": [
      "29.0 36.0 45.0 60.0\n"
     ]
    },
    {
     "data": {
      "text/html": [
       "<div>\n",
       "<style scoped>\n",
       "    .dataframe tbody tr th:only-of-type {\n",
       "        vertical-align: middle;\n",
       "    }\n",
       "\n",
       "    .dataframe tbody tr th {\n",
       "        vertical-align: top;\n",
       "    }\n",
       "\n",
       "    .dataframe thead th {\n",
       "        text-align: right;\n",
       "    }\n",
       "</style>\n",
       "<table border=\"1\" class=\"dataframe\">\n",
       "  <thead>\n",
       "    <tr style=\"text-align: right;\">\n",
       "      <th></th>\n",
       "      <th>id</th>\n",
       "      <th>latitude</th>\n",
       "      <th>longitude</th>\n",
       "      <th>price</th>\n",
       "      <th>minimum_nights</th>\n",
       "      <th>reviews_per_month</th>\n",
       "      <th>calculated_host_listings_count</th>\n",
       "      <th>availability_365</th>\n",
       "      <th>Μουσεία</th>\n",
       "      <th>top-10</th>\n",
       "      <th>logprice</th>\n",
       "      <th>neighbourhood_Kalamaria</th>\n",
       "      <th>neighbourhood_Kordelio – Evosmos</th>\n",
       "      <th>neighbourhood_Neapolis – Sykeon</th>\n",
       "      <th>neighbourhood_Pavlou Mela</th>\n",
       "      <th>neighbourhood_Pilea – Chortiatis</th>\n",
       "      <th>neighbourhood_Thessaloniki</th>\n",
       "      <th>room_type_Hotel room</th>\n",
       "      <th>room_type_Private room</th>\n",
       "      <th>room_type_Shared room</th>\n",
       "    </tr>\n",
       "  </thead>\n",
       "  <tbody>\n",
       "    <tr>\n",
       "      <th>0</th>\n",
       "      <td>35261</td>\n",
       "      <td>40.63777</td>\n",
       "      <td>22.94934</td>\n",
       "      <td>25.0</td>\n",
       "      <td>2</td>\n",
       "      <td>0.40</td>\n",
       "      <td>2</td>\n",
       "      <td>10</td>\n",
       "      <td>0.213516</td>\n",
       "      <td>0.183535</td>\n",
       "      <td>3.218876</td>\n",
       "      <td>0</td>\n",
       "      <td>0</td>\n",
       "      <td>0</td>\n",
       "      <td>0</td>\n",
       "      <td>0</td>\n",
       "      <td>1</td>\n",
       "      <td>0</td>\n",
       "      <td>0</td>\n",
       "      <td>0</td>\n",
       "    </tr>\n",
       "    <tr>\n",
       "      <th>1</th>\n",
       "      <td>152991</td>\n",
       "      <td>40.64106</td>\n",
       "      <td>22.94240</td>\n",
       "      <td>48.0</td>\n",
       "      <td>5</td>\n",
       "      <td>2.45</td>\n",
       "      <td>1</td>\n",
       "      <td>297</td>\n",
       "      <td>0.477813</td>\n",
       "      <td>0.516186</td>\n",
       "      <td>3.871201</td>\n",
       "      <td>0</td>\n",
       "      <td>0</td>\n",
       "      <td>0</td>\n",
       "      <td>0</td>\n",
       "      <td>0</td>\n",
       "      <td>1</td>\n",
       "      <td>0</td>\n",
       "      <td>0</td>\n",
       "      <td>0</td>\n",
       "    </tr>\n",
       "    <tr>\n",
       "      <th>2</th>\n",
       "      <td>176307</td>\n",
       "      <td>40.63416</td>\n",
       "      <td>22.94606</td>\n",
       "      <td>46.0</td>\n",
       "      <td>4</td>\n",
       "      <td>1.76</td>\n",
       "      <td>1</td>\n",
       "      <td>173</td>\n",
       "      <td>0.309694</td>\n",
       "      <td>0.433884</td>\n",
       "      <td>3.828641</td>\n",
       "      <td>0</td>\n",
       "      <td>0</td>\n",
       "      <td>0</td>\n",
       "      <td>0</td>\n",
       "      <td>0</td>\n",
       "      <td>1</td>\n",
       "      <td>0</td>\n",
       "      <td>0</td>\n",
       "      <td>0</td>\n",
       "    </tr>\n",
       "    <tr>\n",
       "      <th>3</th>\n",
       "      <td>218831</td>\n",
       "      <td>40.57187</td>\n",
       "      <td>22.95678</td>\n",
       "      <td>55.0</td>\n",
       "      <td>2</td>\n",
       "      <td>0.11</td>\n",
       "      <td>1</td>\n",
       "      <td>364</td>\n",
       "      <td>3.934709</td>\n",
       "      <td>4.761306</td>\n",
       "      <td>4.007333</td>\n",
       "      <td>1</td>\n",
       "      <td>0</td>\n",
       "      <td>0</td>\n",
       "      <td>0</td>\n",
       "      <td>0</td>\n",
       "      <td>0</td>\n",
       "      <td>0</td>\n",
       "      <td>0</td>\n",
       "      <td>0</td>\n",
       "    </tr>\n",
       "    <tr>\n",
       "      <th>4</th>\n",
       "      <td>483128</td>\n",
       "      <td>40.63765</td>\n",
       "      <td>22.94979</td>\n",
       "      <td>25.0</td>\n",
       "      <td>1</td>\n",
       "      <td>3.05</td>\n",
       "      <td>1</td>\n",
       "      <td>357</td>\n",
       "      <td>0.252290</td>\n",
       "      <td>0.219787</td>\n",
       "      <td>3.218876</td>\n",
       "      <td>0</td>\n",
       "      <td>0</td>\n",
       "      <td>0</td>\n",
       "      <td>0</td>\n",
       "      <td>0</td>\n",
       "      <td>1</td>\n",
       "      <td>0</td>\n",
       "      <td>0</td>\n",
       "      <td>0</td>\n",
       "    </tr>\n",
       "  </tbody>\n",
       "</table>\n",
       "</div>"
      ],
      "text/plain": [
       "       id  latitude  longitude  price  minimum_nights  reviews_per_month  \\\n",
       "0   35261  40.63777   22.94934   25.0               2               0.40   \n",
       "1  152991  40.64106   22.94240   48.0               5               2.45   \n",
       "2  176307  40.63416   22.94606   46.0               4               1.76   \n",
       "3  218831  40.57187   22.95678   55.0               2               0.11   \n",
       "4  483128  40.63765   22.94979   25.0               1               3.05   \n",
       "\n",
       "   calculated_host_listings_count  availability_365   Μουσεία    top-10  \\\n",
       "0                               2                10  0.213516  0.183535   \n",
       "1                               1               297  0.477813  0.516186   \n",
       "2                               1               173  0.309694  0.433884   \n",
       "3                               1               364  3.934709  4.761306   \n",
       "4                               1               357  0.252290  0.219787   \n",
       "\n",
       "   logprice  neighbourhood_Kalamaria  neighbourhood_Kordelio – Evosmos  \\\n",
       "0  3.218876                        0                                 0   \n",
       "1  3.871201                        0                                 0   \n",
       "2  3.828641                        0                                 0   \n",
       "3  4.007333                        1                                 0   \n",
       "4  3.218876                        0                                 0   \n",
       "\n",
       "   neighbourhood_Neapolis – Sykeon  neighbourhood_Pavlou Mela  \\\n",
       "0                                0                          0   \n",
       "1                                0                          0   \n",
       "2                                0                          0   \n",
       "3                                0                          0   \n",
       "4                                0                          0   \n",
       "\n",
       "   neighbourhood_Pilea – Chortiatis  neighbourhood_Thessaloniki  \\\n",
       "0                                 0                           1   \n",
       "1                                 0                           1   \n",
       "2                                 0                           1   \n",
       "3                                 0                           0   \n",
       "4                                 0                           1   \n",
       "\n",
       "   room_type_Hotel room  room_type_Private room  room_type_Shared room  \n",
       "0                     0                       0                      0  \n",
       "1                     0                       0                      0  \n",
       "2                     0                       0                      0  \n",
       "3                     0                       0                      0  \n",
       "4                     0                       0                      0  "
      ]
     },
     "execution_count": 194,
     "metadata": {},
     "output_type": "execute_result"
    }
   ],
   "source": [
    "#xwrizw thn timi se 5 mh epikalyptomenes klaseis\n",
    "klasi_thes=[]\n",
    "a=data_with_dummies_thes['price'].quantile(0.20)\n",
    "b=data_with_dummies_thes['price'].quantile(0.40)\n",
    "c=data_with_dummies_thes['price'].quantile(0.60)\n",
    "d=data_with_dummies_thes['price'].quantile(0.80)\n",
    "print(a,b,c,d)\n",
    "for i in data_with_dummies_thes['price']:\n",
    "    if i <= a:\n",
    "        klasi_thes.append(1)\n",
    "    elif i <= b:\n",
    "        klasi_thes.append(2)\n",
    "    elif i <= c:\n",
    "        klasi_thes.append(3)\n",
    "    elif i <= d:\n",
    "        klasi_thes.append(4)\n",
    "    else :\n",
    "        klasi_thes.append(5)\n",
    "data_with_dummies_thes['Κλάσεις τιμής']=klasi_thes\n",
    "data_thes.head(5)"
   ]
  },
  {
   "cell_type": "code",
   "execution_count": 195,
   "metadata": {},
   "outputs": [],
   "source": [
    "y=data_with_dummies_thes['Κλάσεις τιμής']\n",
    "X =data_with_dummies_thes[['top-10','reviews_per_month','calculated_host_listings_count','availability_365','room_type_Hotel room','room_type_Private room','room_type_Shared room','Μουσεία',\n",
    "                    'neighbourhood_Kalamaria','neighbourhood_Kordelio – Evosmos','neighbourhood_Neapolis – Sykeon','neighbourhood_Pavlou Mela','neighbourhood_Pilea – Chortiatis','neighbourhood_Thessaloniki']]\n",
    "# dividing X, y into train and test data \n",
    "\n",
    "X_train, X_test, y_train, y_test = train_test_split(X, y, test_size = 0.1, random_state = 0)\n",
    "\n",
    "sc = StandardScaler()\n",
    "X_train = sc.fit_transform(X_train)\n",
    "X_test = sc.transform(X_test)"
   ]
  },
  {
   "cell_type": "code",
   "execution_count": 199,
   "metadata": {},
   "outputs": [
    {
     "name": "stdout",
     "output_type": "stream",
     "text": [
      "[[27  9  8  4  6]\n",
      " [ 8 19 18  3  5]\n",
      " [10 10 10 10 10]\n",
      " [ 5  9 12  9 13]\n",
      " [ 7  6  4 13 10]]\n"
     ]
    },
    {
     "data": {
      "text/plain": [
       "0.30612244897959184"
      ]
     },
     "execution_count": 199,
     "metadata": {},
     "output_type": "execute_result"
    }
   ],
   "source": [
    "# training a DescisionTreeClassifier \n",
    "from sklearn.tree import DecisionTreeClassifier\n",
    "classifier = DecisionTreeClassifier(criterion = 'entropy', random_state = 0)\n",
    "classifier.fit(X_train, y_train)\n",
    "\n",
    "y_pred = classifier.predict(X_test)\n",
    "\n",
    "from sklearn.metrics import confusion_matrix, accuracy_score\n",
    "cm = confusion_matrix(y_test, y_pred)\n",
    "print(cm)\n",
    "accuracy_score(y_test, y_pred)"
   ]
  },
  {
   "cell_type": "code",
   "execution_count": 198,
   "metadata": {},
   "outputs": [
    {
     "name": "stdout",
     "output_type": "stream",
     "text": [
      "[[25  4 13  0 12]\n",
      " [13  2 14  0 24]\n",
      " [ 4  4 11  0 31]\n",
      " [ 5  3  7  0 33]\n",
      " [ 5  2  2  0 31]]\n"
     ]
    },
    {
     "data": {
      "text/plain": [
       "0.2816326530612245"
      ]
     },
     "execution_count": 198,
     "metadata": {},
     "output_type": "execute_result"
    }
   ],
   "source": [
    "# Support vector machine) classifier \n",
    "\n",
    "from sklearn.metrics import confusion_matrix , accuracy_score\n",
    "\n",
    "# training a linear SVM classifier \n",
    "from sklearn.svm import SVC \n",
    "from sklearn.svm import SVC\n",
    "classifier_SVM = SVC(kernel = 'linear', random_state = 0)\n",
    "classifier_SVM.fit(X_train, y_train)\n",
    "  \n",
    "y_pred_SVM = classifier_SVM.predict(X_test)\n",
    "cm = confusion_matrix(y_test, y_pred_SVM)\n",
    "print(cm)\n",
    "accuracy_score(y_test, y_pred_SVM)\n"
   ]
  },
  {
   "cell_type": "code",
   "execution_count": 201,
   "metadata": {},
   "outputs": [
    {
     "name": "stdout",
     "output_type": "stream",
     "text": [
      "[[33 11  6  3  1]\n",
      " [16 13 10  8  6]\n",
      " [15  6  6 11 12]\n",
      " [ 9 11  5 17  6]\n",
      " [ 9  6  5  6 14]]\n"
     ]
    },
    {
     "data": {
      "text/plain": [
       "0.33877551020408164"
      ]
     },
     "execution_count": 201,
     "metadata": {},
     "output_type": "execute_result"
    }
   ],
   "source": [
    "# KNN (k-nearest neighbours) classifier\n",
    "\n",
    "from sklearn.neighbors import KNeighborsClassifier\n",
    "classifier_KNN = KNeighborsClassifier(n_neighbors = 5, metric = 'minkowski', p = 2)\n",
    "classifier_KNN.fit(X_train, y_train)\n",
    "\n",
    "knn_predictions = classifier_KNN.predict(X_test)\n",
    "cm = confusion_matrix(y_test, knn_predictions)\n",
    "print(cm)\n",
    "accuracy_score(y_test, knn_predictions)"
   ]
  },
  {
   "cell_type": "code",
   "execution_count": 164,
   "metadata": {
    "scrolled": true
   },
   "outputs": [
    {
     "name": "stdout",
     "output_type": "stream",
     "text": [
      "[[14  1 39  0  0]\n",
      " [ 6  0 44  0  3]\n",
      " [ 5  1 41  0  3]\n",
      " [ 1  0 43  0  4]\n",
      " [ 4  0 26  0 10]]\n"
     ]
    },
    {
     "data": {
      "text/plain": [
       "0.2653061224489796"
      ]
     },
     "execution_count": 164,
     "metadata": {},
     "output_type": "execute_result"
    }
   ],
   "source": [
    "\n",
    "# Naive bayes classifier\n",
    "\n",
    "# training a Naive Bayes classifier \n",
    "from sklearn.naive_bayes import GaussianNB\n",
    "classifier_NB = GaussianNB()\n",
    "classifier_NB.fit(X_train, y_train)\n",
    "\n",
    "# accuracy on X_test \n",
    "y_pred_NB = classifier_NB.predict(X_test)\n",
    "  \n",
    "cm = confusion_matrix(y_test, y_pred_NB)\n",
    "print(cm)\n",
    "accuracy_score(y_test, y_pred_NB)\n"
   ]
  }
 ],
 "metadata": {
  "kernelspec": {
   "display_name": "Python 3",
   "language": "python",
   "name": "python3"
  },
  "language_info": {
   "codemirror_mode": {
    "name": "ipython",
    "version": 3
   },
   "file_extension": ".py",
   "mimetype": "text/x-python",
   "name": "python",
   "nbconvert_exporter": "python",
   "pygments_lexer": "ipython3",
   "version": "3.8.5"
  }
 },
 "nbformat": 4,
 "nbformat_minor": 4
}
